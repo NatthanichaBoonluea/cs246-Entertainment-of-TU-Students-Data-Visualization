{
  "cells": [
    {
      "cell_type": "markdown",
      "metadata": {
        "id": "view-in-github",
        "colab_type": "text"
      },
      "source": [
        "<a href=\"https://colab.research.google.com/github/NatthanichaBoonluea/cs246-Entertainment-of-TU-Students-Data-Visualization/blob/main/%E0%B8%AA%E0%B8%B3%E0%B9%80%E0%B8%99%E0%B8%B2%E0%B8%82%E0%B8%AD%E0%B8%87_%E0%B8%81%E0%B8%A5%E0%B8%B8%E0%B9%88%E0%B8%A1%E0%B8%AD%E0%B8%B8%E0%B8%95%E0%B8%AA%E0%B8%B2%E0%B8%AB%E0%B8%81%E0%B8%A3%E0%B8%A3%E0%B8%A1%E0%B8%84%E0%B8%A7%E0%B8%B2%E0%B8%A1%E0%B8%9A%E0%B8%B1%E0%B8%99%E0%B9%80%E0%B8%97%E0%B8%B4%E0%B8%87.ipynb\" target=\"_parent\"><img src=\"https://colab.research.google.com/assets/colab-badge.svg\" alt=\"Open In Colab\"/></a>"
      ]
    },
    {
      "cell_type": "markdown",
      "metadata": {
        "id": "C9F_5O0Urbdg"
      },
      "source": [
        "## Import necessary tools and dataset"
      ]
    },
    {
      "cell_type": "code",
      "execution_count": null,
      "metadata": {
        "id": "J7T3-kNHTOan"
      },
      "outputs": [],
      "source": [
        "import pandas as pd\n",
        "import numpy as np\n",
        "import plotly.express as px\n",
        "import plotly.colors as pc\n",
        "from wordcloud import WordCloud\n",
        "import matplotlib.pyplot as plt\n",
        "%matplotlib inline\n",
        "import warnings\n",
        "warnings.simplefilter(\"ignore\")"
      ]
    },
    {
      "cell_type": "code",
      "execution_count": null,
      "metadata": {
        "id": "GiC88qasET9u"
      },
      "outputs": [],
      "source": [
        "import matplotlib as mpl\n",
        "import matplotlib.font_manager as font_manager\n",
        "!wget -q http://www.arts.chula.ac.th/ling/wp-content/uploads/TH-Sarabun_Chula1.1.zip -O font.zip\n",
        "!unzip -qj font.zip TH-Sarabun_Chula1.1/THSarabunChula-Regular.ttf\n",
        "mpl.font_manager.fontManager.addfont('THSarabunChula-Regular.ttf')\n",
        "mpl.rc('font', family='TH Sarabun Chula')"
      ]
    },
    {
      "cell_type": "code",
      "execution_count": null,
      "metadata": {
        "id": "e7wcqGiupwzr"
      },
      "outputs": [],
      "source": [
        "url ='https://drive.google.com/file/d/1iZO3jY6DcGmn7-1z3BWeDAlkMpTOK3SU/view?usp=sharing'\n",
        "file_id=url.split('/')[-2]\n",
        "dwn_url ='https://drive.google.com/uc?id='+file_id"
      ]
    },
    {
      "cell_type": "code",
      "execution_count": null,
      "metadata": {
        "id": "QXVFu3ZfqJNI"
      },
      "outputs": [],
      "source": [
        "df = pd.read_csv(dwn_url)"
      ]
    },
    {
      "cell_type": "markdown",
      "metadata": {
        "id": "H03ubjMWrULI"
      },
      "source": [
        "## Data Preprocessing"
      ]
    },
    {
      "cell_type": "code",
      "execution_count": null,
      "metadata": {
        "id": "kRXP2JQWbNl9",
        "colab": {
          "base_uri": "https://localhost:8080/"
        },
        "outputId": "f9f59f98-de32-4c9b-a62c-e99bc788fd37"
      },
      "outputs": [
        {
          "output_type": "execute_result",
          "data": {
            "text/plain": [
              "Index(['Timestamp', 'Email Address', 'เพศ', 'รหัสนักศึกษา 2 ตัวแรก',\n",
              "       'คณะ (สาขา/เอก) ที่คุณกำลังศึกษาอยู่',\n",
              "       'เวลาที่คุณเครียด หรือไม่สบายใจ คุณมักจะใช้กิจกรรมความบันเทิงด้านไหนมากที่สุด (โปรดเลือกกิจกรรมที่คุณใช้มากที่สุด 1 ข้อ)',\n",
              "       'คุณดูหนังเพื่อคลายความเครียดบ่อยแค่ไหนต่อสัปดาห์',\n",
              "       'หนังประเภทใดที่ช่วยคลายความเครียดของคุณได้มากที่สุด',\n",
              "       'คุณมักจะดูหนังช่องทางไหนเมื่อรู้สึกเครียด',\n",
              "       'ปกติคุณใช้เงินไปกับการดูหนังเป็นกิจกรรมคลายเครียดเดือนละเท่าไหร่',\n",
              "       'คุณจะให้คะแนนความพอใจในการเข้าใช้บริการดูหนังของห้องสมุดป๋วยมากน้อยเพียงใด',\n",
              "       'คุณอยากให้มหาลัยให้บริการดูสตรีมมิ่งออนไลน์ฟรีบนแพลตฟอร์มไหนมากที่สุด',\n",
              "       'คุณคิดว่าการมีเพื่อนดูหนังสามารถเป็นกิจกรรมทางสังคมที่ช่วยลดความเครียดได้มากน้อยเพียงใด',\n",
              "       'คุณอยากให้มีความถี่ในการจัดงานดูหนังกลางแปลงภายในมหาวิทยาลัยมากน้อยแค่ไหน',\n",
              "       'ช่วงไหนที่คุณอยากไปงานดูหนังกลางแปลงภายในมหาวิทยาลัยเพื่อคลายความเครียดบ้าง (เลือกได้มากกว่า 1 ข้อ)',\n",
              "       'เหตุผลที่ไม่อยากให้มีการจัดงานดูหนังกลางแปลง',\n",
              "       'คุณชอบฟังเพลงในรูปแบบของเพลงตามจังหวะ ประเภทใดเพื่อคลายความเครียดมากที่สุด',\n",
              "       'คุณชอบฟังเพลงในรูปแบบของเพลงตามเครื่องดนตรีและเนื้อหา ประเภทใดเพื่อคลายความเครียดมากที่สุด',\n",
              "       'สถานที่ที่คุณอยากให้จัดงานดนตรีภายในมหาวิทยาลัยมากที่สุด',\n",
              "       'เหตุผลใดที่มีอิทธิพลให้คุณเลือกฟังเพลงเพื่อคลายความเครียดมากที่สุด',\n",
              "       'คุณเคยรับฟังเพลงจากแหล่งใดบ้างเพื่อคลายความเครียด (เลือกได้มากกว่า 1 ข้อ)',\n",
              "       'คุณเคยเข้าร่วมฟังเพลงจากงานดนตรีภายในมหาวิทยาลัยเพื่อคลายความเครียดหรือไม่',\n",
              "       'คุณให้คะแนนความพึงพอใจในการเข้าร่วมงานดนตรีมากน้อยเพียงใด',\n",
              "       'คุณอยากให้มีความถี่ในการจัดงานดนตรีภายในมหาวิทยาลัยมากน้อยแค่ไหน',\n",
              "       'ช่วงไหนที่คุณอยากไปดูงานดนตรีภายในมหาวิทยาลัยเพื่อคลายความเครียดบ้าง (เลือกได้มากกว่า 1 ข้อ)',\n",
              "       'ทำไมคุณถึงไม่อยากให้มีงานดนตรีในมหาวิทยาลัย',\n",
              "       'ทำไมคุณถึงเลือกเกมเป็นวิธีคลายความเครียด ( เลือกได้สูงสุด 3 ข้อ )',\n",
              "       'เกมประเภทไหนที่ช่วยในการคลายความเครียดของคุณได้มากที่สุด',\n",
              "       'คุณอยากให้มีกิจกรรมเกี่ยวกับเกมที่ช่วยในการคลายความเครียดอะไรบ้าง',\n",
              "       'คุณมักจะเล่นเกมบนแพลตฟอร์มไหนเมื่อรู้สึกเครียด',\n",
              "       'คุณเล่นเกมเพื่อคลายความเครียดบ่อยแค่ไหนต่อสัปดาห์',\n",
              "       'คุณอยากให้มีในการจัดกิจกรรมเกี่ยวกับเกมภายในมหาวิทยาลัยมากน้อยแค่ไหน',\n",
              "       'คุณคิดว่าในมหาวิทยาลัยมีการจัดกิจกรรมเกี่ยวกับเกมมากน้อยแค่ไหนใน 1 ภาคการศึกษา',\n",
              "       'ช่วงไหนที่คุณอยากร่วมกิจกรรมเกี่ยวกับเกมภายในมหาวิทยาลัยเพื่อคลายความเครียดมากที่สุด (เลือกได้มากกว่า 1 ข้อ)',\n",
              "       'เหตุผลที่ไม่อยากให้มีการจัดกิจกรรมเกี่ยวกับเกม'],\n",
              "      dtype='object')"
            ]
          },
          "metadata": {},
          "execution_count": 5
        }
      ],
      "source": [
        "df.columns"
      ]
    },
    {
      "cell_type": "code",
      "execution_count": null,
      "metadata": {
        "id": "3_l6S7rjbKKV"
      },
      "outputs": [],
      "source": [
        "df.columns = ['timestamp', 'email', 'gender', 'student_id','major','category',\n",
        "              'm_frequent','m_type','m_platform','m_money','m_satisfy','m_streaming','m_friend','m_fre_ac','m_when_ac','m_whynot_ac',\n",
        "              's_beat','s_lyrics','s_where_ac','s_factor','s_stream','s_ac','s_satisfy','s_freq','s_when_ac','s_whynot_ac',\n",
        "              'g_choose','g_type','g_activity','g_platform','g_fre_week','g_fre_ac','g_fre_ac/1','g_when_ac','g_whynot_ac']"
      ]
    },
    {
      "cell_type": "code",
      "execution_count": null,
      "metadata": {
        "colab": {
          "base_uri": "https://localhost:8080/"
        },
        "id": "U3_x2viUV9vc",
        "outputId": "0fa34165-1c1c-46ba-c50a-84838820d5a0"
      },
      "outputs": [
        {
          "output_type": "execute_result",
          "data": {
            "text/plain": [
              "0"
            ]
          },
          "metadata": {},
          "execution_count": 7
        }
      ],
      "source": [
        "#check duplicate\n",
        "df.email.duplicated().sum()"
      ]
    },
    {
      "cell_type": "code",
      "execution_count": null,
      "metadata": {
        "id": "CLn4gBpMqsPy"
      },
      "outputs": [],
      "source": [
        "df.drop([\"email\",\"timestamp\"],axis=1,inplace=True)"
      ]
    },
    {
      "cell_type": "code",
      "execution_count": null,
      "metadata": {
        "colab": {
          "base_uri": "https://localhost:8080/"
        },
        "id": "o8TO7ws4q4eo",
        "outputId": "641f8c6f-432e-4134-dcf1-b05637456a2b"
      },
      "outputs": [
        {
          "output_type": "execute_result",
          "data": {
            "text/plain": [
              "     gender  student_id                                              major  \\\n",
              "0      หญิง          64                                       พยาบาลศาสตร์   \n",
              "1      หญิง          62                                       พยาบาลศาสตร์   \n",
              "2    LGBTQ+          64      วิทยาศาสตร์และเทคโนโลยี (วิทยาการคอมพิวเตอร์)   \n",
              "3       ชาย          65  วิทยาศาสตร์และเทคโนโลยี (วิทยาศาสตร์และนวัตกรร...   \n",
              "4       ชาย          64      วิทยาศาสตร์และเทคโนโลยี (วิทยาการคอมพิวเตอร์)   \n",
              "..      ...         ...                                                ...   \n",
              "96     หญิง          64                          สหเวชศาสตร์ (กายภาพบำบัด)   \n",
              "97     หญิง          64        สาธารณสุขศาสตร์ (อาชีวอนามัยและความปลอดภัย)   \n",
              "98     หญิง          64      วิทยาศาสตร์และเทคโนโลยี (วิทยาการคอมพิวเตอร์)   \n",
              "99      ชาย          63  วิทยาศาสตร์และเทคโนโลยี (วิทยาศาสตร์และนวัตกรร...   \n",
              "100    หญิง          65  วิทยาลัยแพทยศาสตร์นานาชาติจุฬาภรณ์ (การแพทย์แผ...   \n",
              "\n",
              "    category                  m_frequent     m_type  \\\n",
              "0        เกม                         NaN        NaN   \n",
              "1        เกม                         NaN        NaN   \n",
              "2        เกม                         NaN        NaN   \n",
              "3        เกม                         NaN        NaN   \n",
              "4        เกม                         NaN        NaN   \n",
              "..       ...                         ...        ...   \n",
              "96      หนัง   มากกว่า 4 ครั้ง / สัปดาห์  Animation   \n",
              "97      หนัง       2 - 4 ครั้ง / สัปดาห์     Sci-fi   \n",
              "98      หนัง  น้อยกว่า 2 ครั้ง / สัปดาห์  Animation   \n",
              "99      หนัง       2 - 4 ครั้ง / สัปดาห์  Animation   \n",
              "100     หนัง       2 - 4 ครั้ง / สัปดาห์    Romance   \n",
              "\n",
              "                                 m_platform           m_money  \\\n",
              "0                                       NaN               NaN   \n",
              "1                                       NaN               NaN   \n",
              "2                                       NaN               NaN   \n",
              "3                                       NaN               NaN   \n",
              "4                                       NaN               NaN   \n",
              "..                                      ...               ...   \n",
              "96   บริการสตรีมมิ่ง (เช่น Netflix, HBO Go)     300 - 500 บาท   \n",
              "97   บริการสตรีมมิ่ง (เช่น Netflix, HBO Go)  น้อยกว่า 300 บาท   \n",
              "98   บริการสตรีมมิ่ง (เช่น Netflix, HBO Go)  น้อยกว่า 300 บาท   \n",
              "99   บริการสตรีมมิ่ง (เช่น Netflix, HBO Go)  น้อยกว่า 300 บาท   \n",
              "100  บริการสตรีมมิ่ง (เช่น Netflix, HBO Go)  น้อยกว่า 300 บาท   \n",
              "\n",
              "           m_satisfy m_streaming  ... s_whynot_ac  \\\n",
              "0                NaN         NaN  ...         NaN   \n",
              "1                NaN         NaN  ...         NaN   \n",
              "2                NaN         NaN  ...         NaN   \n",
              "3                NaN         NaN  ...         NaN   \n",
              "4                NaN         NaN  ...         NaN   \n",
              "..               ...         ...  ...         ...   \n",
              "96              พอใจ      HBO Go  ...         NaN   \n",
              "97              พอใจ      HBO Go  ...         NaN   \n",
              "98   ไม่เคยใช้บริการ     Disney+  ...         NaN   \n",
              "99           ไม่พอใจ     Netflix  ...         NaN   \n",
              "100             พอใจ        WeTV  ...         NaN   \n",
              "\n",
              "                                              g_choose  \\\n",
              "0    ทำให้รู้สึกผ่อนคลายและเพลิดเพลิน, ช่วยลืมความก...   \n",
              "1    ทำให้รู้สึกผ่อนคลายและเพลิดเพลิน, ช่วยลืมความก...   \n",
              "2    ทำให้รู้สึกผ่อนคลายและเพลิดเพลิน, สามารถเล่นกั...   \n",
              "3    ทำให้รู้สึกผ่อนคลายและเพลิดเพลิน, สามารถเล่นกั...   \n",
              "4    ทำให้รู้สึกผ่อนคลายและเพลิดเพลิน, สามารถเล่นกั...   \n",
              "..                                                 ...   \n",
              "96                                                 NaN   \n",
              "97                                                 NaN   \n",
              "98                                                 NaN   \n",
              "99                                                 NaN   \n",
              "100                                                NaN   \n",
              "\n",
              "                             g_type  \\\n",
              "0         เกมต่อสู้ (Fighting Game)   \n",
              "1        เกมปริศนาไข (Puzzle games)   \n",
              "2        เกมต่อสู้กันระหว่าง (Moba)   \n",
              "3        เกมยิงปืน (Shooting games)   \n",
              "4    เกมจำลองสถานการณ์ (Simulation)   \n",
              "..                              ...   \n",
              "96                              NaN   \n",
              "97                              NaN   \n",
              "98                              NaN   \n",
              "99                              NaN   \n",
              "100                             NaN   \n",
              "\n",
              "                                            g_activity  \\\n",
              "0    มีพื้นที่สำหรับการเล่นเกมโดยเฉพาะ, มีการจัดกิจ...   \n",
              "1          มีการจัดกิจกรรมเกี่ยวกับการแข่งเกม E-sports   \n",
              "2                  จัดกิจกรรมเกี่ยวกับเกมเพื่อการศึกษา   \n",
              "3           มีการจัดกิจกรรมการแชร์ประสบการณ์การเล่นเกม   \n",
              "4    มีพื้นที่สำหรับการเล่นเกมโดยเฉพาะ, มีการจัดกิจ...   \n",
              "..                                                 ...   \n",
              "96                                                 NaN   \n",
              "97                                                 NaN   \n",
              "98                                                 NaN   \n",
              "99                                                 NaN   \n",
              "100                                                NaN   \n",
              "\n",
              "                  g_platform                  g_fre_week  \\\n",
              "0    Mobile / โทรศัพท์มือถือ   มากกว่า 6 ครั้ง / สัปดาห์   \n",
              "1    Mobile / โทรศัพท์มือถือ         2-4 ครั้ง / สัปดาห์   \n",
              "2    Mobile / โทรศัพท์มือถือ  น้อยกว่า 2 ครั้ง / สัปดาห์   \n",
              "3    PC / เครื่องคอมพิวเตอร์         2-4 ครั้ง / สัปดาห์   \n",
              "4    PC / เครื่องคอมพิวเตอร์   มากกว่า 6 ครั้ง / สัปดาห์   \n",
              "..                       ...                         ...   \n",
              "96                       NaN                         NaN   \n",
              "97                       NaN                         NaN   \n",
              "98                       NaN                         NaN   \n",
              "99                       NaN                         NaN   \n",
              "100                      NaN                         NaN   \n",
              "\n",
              "                   g_fre_ac             g_fre_ac/1             g_when_ac  \\\n",
              "0    มากกว่า 4 ครั้ง / เทอม       1-2 ครั้ง / เทอม  หลังสอบ, เทศกาลสำคัญ   \n",
              "1          1-2 ครั้ง / เทอม  ไม่เคยรู้ว่ามีกิจกรรม               หลังสอบ   \n",
              "2          1-2 ครั้ง / เทอม  ไม่เคยรู้ว่ามีกิจกรรม               หลังสอบ   \n",
              "3    มากกว่า 4 ครั้ง / เทอม       1-2 ครั้ง / เทอม  หลังสอบ, เทศกาลสำคัญ   \n",
              "4          3-4 ครั้ง / เทอม       1-2 ครั้ง / เทอม  หลังสอบ, เทศกาลสำคัญ   \n",
              "..                      ...                    ...                   ...   \n",
              "96                      NaN                    NaN                   NaN   \n",
              "97                      NaN                    NaN                   NaN   \n",
              "98                      NaN                    NaN                   NaN   \n",
              "99                      NaN                    NaN                   NaN   \n",
              "100                     NaN                    NaN                   NaN   \n",
              "\n",
              "    g_whynot_ac  \n",
              "0           NaN  \n",
              "1           NaN  \n",
              "2           NaN  \n",
              "3           NaN  \n",
              "4           NaN  \n",
              "..          ...  \n",
              "96          NaN  \n",
              "97          NaN  \n",
              "98          NaN  \n",
              "99          NaN  \n",
              "100         NaN  \n",
              "\n",
              "[101 rows x 33 columns]"
            ],
            "text/html": [
              "\n",
              "  <div id=\"df-e70d0d00-a68f-46b6-9afc-222d9c99bc9f\">\n",
              "    <div class=\"colab-df-container\">\n",
              "      <div>\n",
              "<style scoped>\n",
              "    .dataframe tbody tr th:only-of-type {\n",
              "        vertical-align: middle;\n",
              "    }\n",
              "\n",
              "    .dataframe tbody tr th {\n",
              "        vertical-align: top;\n",
              "    }\n",
              "\n",
              "    .dataframe thead th {\n",
              "        text-align: right;\n",
              "    }\n",
              "</style>\n",
              "<table border=\"1\" class=\"dataframe\">\n",
              "  <thead>\n",
              "    <tr style=\"text-align: right;\">\n",
              "      <th></th>\n",
              "      <th>gender</th>\n",
              "      <th>student_id</th>\n",
              "      <th>major</th>\n",
              "      <th>category</th>\n",
              "      <th>m_frequent</th>\n",
              "      <th>m_type</th>\n",
              "      <th>m_platform</th>\n",
              "      <th>m_money</th>\n",
              "      <th>m_satisfy</th>\n",
              "      <th>m_streaming</th>\n",
              "      <th>...</th>\n",
              "      <th>s_whynot_ac</th>\n",
              "      <th>g_choose</th>\n",
              "      <th>g_type</th>\n",
              "      <th>g_activity</th>\n",
              "      <th>g_platform</th>\n",
              "      <th>g_fre_week</th>\n",
              "      <th>g_fre_ac</th>\n",
              "      <th>g_fre_ac/1</th>\n",
              "      <th>g_when_ac</th>\n",
              "      <th>g_whynot_ac</th>\n",
              "    </tr>\n",
              "  </thead>\n",
              "  <tbody>\n",
              "    <tr>\n",
              "      <th>0</th>\n",
              "      <td>หญิง</td>\n",
              "      <td>64</td>\n",
              "      <td>พยาบาลศาสตร์</td>\n",
              "      <td>เกม</td>\n",
              "      <td>NaN</td>\n",
              "      <td>NaN</td>\n",
              "      <td>NaN</td>\n",
              "      <td>NaN</td>\n",
              "      <td>NaN</td>\n",
              "      <td>NaN</td>\n",
              "      <td>...</td>\n",
              "      <td>NaN</td>\n",
              "      <td>ทำให้รู้สึกผ่อนคลายและเพลิดเพลิน, ช่วยลืมความก...</td>\n",
              "      <td>เกมต่อสู้ (Fighting Game)</td>\n",
              "      <td>มีพื้นที่สำหรับการเล่นเกมโดยเฉพาะ, มีการจัดกิจ...</td>\n",
              "      <td>Mobile / โทรศัพท์มือถือ</td>\n",
              "      <td>มากกว่า 6 ครั้ง / สัปดาห์</td>\n",
              "      <td>มากกว่า 4 ครั้ง / เทอม</td>\n",
              "      <td>1-2 ครั้ง / เทอม</td>\n",
              "      <td>หลังสอบ, เทศกาลสำคัญ</td>\n",
              "      <td>NaN</td>\n",
              "    </tr>\n",
              "    <tr>\n",
              "      <th>1</th>\n",
              "      <td>หญิง</td>\n",
              "      <td>62</td>\n",
              "      <td>พยาบาลศาสตร์</td>\n",
              "      <td>เกม</td>\n",
              "      <td>NaN</td>\n",
              "      <td>NaN</td>\n",
              "      <td>NaN</td>\n",
              "      <td>NaN</td>\n",
              "      <td>NaN</td>\n",
              "      <td>NaN</td>\n",
              "      <td>...</td>\n",
              "      <td>NaN</td>\n",
              "      <td>ทำให้รู้สึกผ่อนคลายและเพลิดเพลิน, ช่วยลืมความก...</td>\n",
              "      <td>เกมปริศนาไข (Puzzle games)</td>\n",
              "      <td>มีการจัดกิจกรรมเกี่ยวกับการแข่งเกม E-sports</td>\n",
              "      <td>Mobile / โทรศัพท์มือถือ</td>\n",
              "      <td>2-4 ครั้ง / สัปดาห์</td>\n",
              "      <td>1-2 ครั้ง / เทอม</td>\n",
              "      <td>ไม่เคยรู้ว่ามีกิจกรรม</td>\n",
              "      <td>หลังสอบ</td>\n",
              "      <td>NaN</td>\n",
              "    </tr>\n",
              "    <tr>\n",
              "      <th>2</th>\n",
              "      <td>LGBTQ+</td>\n",
              "      <td>64</td>\n",
              "      <td>วิทยาศาสตร์และเทคโนโลยี (วิทยาการคอมพิวเตอร์)</td>\n",
              "      <td>เกม</td>\n",
              "      <td>NaN</td>\n",
              "      <td>NaN</td>\n",
              "      <td>NaN</td>\n",
              "      <td>NaN</td>\n",
              "      <td>NaN</td>\n",
              "      <td>NaN</td>\n",
              "      <td>...</td>\n",
              "      <td>NaN</td>\n",
              "      <td>ทำให้รู้สึกผ่อนคลายและเพลิดเพลิน, สามารถเล่นกั...</td>\n",
              "      <td>เกมต่อสู้กันระหว่าง (Moba)</td>\n",
              "      <td>จัดกิจกรรมเกี่ยวกับเกมเพื่อการศึกษา</td>\n",
              "      <td>Mobile / โทรศัพท์มือถือ</td>\n",
              "      <td>น้อยกว่า 2 ครั้ง / สัปดาห์</td>\n",
              "      <td>1-2 ครั้ง / เทอม</td>\n",
              "      <td>ไม่เคยรู้ว่ามีกิจกรรม</td>\n",
              "      <td>หลังสอบ</td>\n",
              "      <td>NaN</td>\n",
              "    </tr>\n",
              "    <tr>\n",
              "      <th>3</th>\n",
              "      <td>ชาย</td>\n",
              "      <td>65</td>\n",
              "      <td>วิทยาศาสตร์และเทคโนโลยี (วิทยาศาสตร์และนวัตกรร...</td>\n",
              "      <td>เกม</td>\n",
              "      <td>NaN</td>\n",
              "      <td>NaN</td>\n",
              "      <td>NaN</td>\n",
              "      <td>NaN</td>\n",
              "      <td>NaN</td>\n",
              "      <td>NaN</td>\n",
              "      <td>...</td>\n",
              "      <td>NaN</td>\n",
              "      <td>ทำให้รู้สึกผ่อนคลายและเพลิดเพลิน, สามารถเล่นกั...</td>\n",
              "      <td>เกมยิงปืน (Shooting games)</td>\n",
              "      <td>มีการจัดกิจกรรมการแชร์ประสบการณ์การเล่นเกม</td>\n",
              "      <td>PC / เครื่องคอมพิวเตอร์</td>\n",
              "      <td>2-4 ครั้ง / สัปดาห์</td>\n",
              "      <td>มากกว่า 4 ครั้ง / เทอม</td>\n",
              "      <td>1-2 ครั้ง / เทอม</td>\n",
              "      <td>หลังสอบ, เทศกาลสำคัญ</td>\n",
              "      <td>NaN</td>\n",
              "    </tr>\n",
              "    <tr>\n",
              "      <th>4</th>\n",
              "      <td>ชาย</td>\n",
              "      <td>64</td>\n",
              "      <td>วิทยาศาสตร์และเทคโนโลยี (วิทยาการคอมพิวเตอร์)</td>\n",
              "      <td>เกม</td>\n",
              "      <td>NaN</td>\n",
              "      <td>NaN</td>\n",
              "      <td>NaN</td>\n",
              "      <td>NaN</td>\n",
              "      <td>NaN</td>\n",
              "      <td>NaN</td>\n",
              "      <td>...</td>\n",
              "      <td>NaN</td>\n",
              "      <td>ทำให้รู้สึกผ่อนคลายและเพลิดเพลิน, สามารถเล่นกั...</td>\n",
              "      <td>เกมจำลองสถานการณ์ (Simulation)</td>\n",
              "      <td>มีพื้นที่สำหรับการเล่นเกมโดยเฉพาะ, มีการจัดกิจ...</td>\n",
              "      <td>PC / เครื่องคอมพิวเตอร์</td>\n",
              "      <td>มากกว่า 6 ครั้ง / สัปดาห์</td>\n",
              "      <td>3-4 ครั้ง / เทอม</td>\n",
              "      <td>1-2 ครั้ง / เทอม</td>\n",
              "      <td>หลังสอบ, เทศกาลสำคัญ</td>\n",
              "      <td>NaN</td>\n",
              "    </tr>\n",
              "    <tr>\n",
              "      <th>...</th>\n",
              "      <td>...</td>\n",
              "      <td>...</td>\n",
              "      <td>...</td>\n",
              "      <td>...</td>\n",
              "      <td>...</td>\n",
              "      <td>...</td>\n",
              "      <td>...</td>\n",
              "      <td>...</td>\n",
              "      <td>...</td>\n",
              "      <td>...</td>\n",
              "      <td>...</td>\n",
              "      <td>...</td>\n",
              "      <td>...</td>\n",
              "      <td>...</td>\n",
              "      <td>...</td>\n",
              "      <td>...</td>\n",
              "      <td>...</td>\n",
              "      <td>...</td>\n",
              "      <td>...</td>\n",
              "      <td>...</td>\n",
              "      <td>...</td>\n",
              "    </tr>\n",
              "    <tr>\n",
              "      <th>96</th>\n",
              "      <td>หญิง</td>\n",
              "      <td>64</td>\n",
              "      <td>สหเวชศาสตร์ (กายภาพบำบัด)</td>\n",
              "      <td>หนัง</td>\n",
              "      <td>มากกว่า 4 ครั้ง / สัปดาห์</td>\n",
              "      <td>Animation</td>\n",
              "      <td>บริการสตรีมมิ่ง (เช่น Netflix, HBO Go)</td>\n",
              "      <td>300 - 500 บาท</td>\n",
              "      <td>พอใจ</td>\n",
              "      <td>HBO Go</td>\n",
              "      <td>...</td>\n",
              "      <td>NaN</td>\n",
              "      <td>NaN</td>\n",
              "      <td>NaN</td>\n",
              "      <td>NaN</td>\n",
              "      <td>NaN</td>\n",
              "      <td>NaN</td>\n",
              "      <td>NaN</td>\n",
              "      <td>NaN</td>\n",
              "      <td>NaN</td>\n",
              "      <td>NaN</td>\n",
              "    </tr>\n",
              "    <tr>\n",
              "      <th>97</th>\n",
              "      <td>หญิง</td>\n",
              "      <td>64</td>\n",
              "      <td>สาธารณสุขศาสตร์ (อาชีวอนามัยและความปลอดภัย)</td>\n",
              "      <td>หนัง</td>\n",
              "      <td>2 - 4 ครั้ง / สัปดาห์</td>\n",
              "      <td>Sci-fi</td>\n",
              "      <td>บริการสตรีมมิ่ง (เช่น Netflix, HBO Go)</td>\n",
              "      <td>น้อยกว่า 300 บาท</td>\n",
              "      <td>พอใจ</td>\n",
              "      <td>HBO Go</td>\n",
              "      <td>...</td>\n",
              "      <td>NaN</td>\n",
              "      <td>NaN</td>\n",
              "      <td>NaN</td>\n",
              "      <td>NaN</td>\n",
              "      <td>NaN</td>\n",
              "      <td>NaN</td>\n",
              "      <td>NaN</td>\n",
              "      <td>NaN</td>\n",
              "      <td>NaN</td>\n",
              "      <td>NaN</td>\n",
              "    </tr>\n",
              "    <tr>\n",
              "      <th>98</th>\n",
              "      <td>หญิง</td>\n",
              "      <td>64</td>\n",
              "      <td>วิทยาศาสตร์และเทคโนโลยี (วิทยาการคอมพิวเตอร์)</td>\n",
              "      <td>หนัง</td>\n",
              "      <td>น้อยกว่า 2 ครั้ง / สัปดาห์</td>\n",
              "      <td>Animation</td>\n",
              "      <td>บริการสตรีมมิ่ง (เช่น Netflix, HBO Go)</td>\n",
              "      <td>น้อยกว่า 300 บาท</td>\n",
              "      <td>ไม่เคยใช้บริการ</td>\n",
              "      <td>Disney+</td>\n",
              "      <td>...</td>\n",
              "      <td>NaN</td>\n",
              "      <td>NaN</td>\n",
              "      <td>NaN</td>\n",
              "      <td>NaN</td>\n",
              "      <td>NaN</td>\n",
              "      <td>NaN</td>\n",
              "      <td>NaN</td>\n",
              "      <td>NaN</td>\n",
              "      <td>NaN</td>\n",
              "      <td>NaN</td>\n",
              "    </tr>\n",
              "    <tr>\n",
              "      <th>99</th>\n",
              "      <td>ชาย</td>\n",
              "      <td>63</td>\n",
              "      <td>วิทยาศาสตร์และเทคโนโลยี (วิทยาศาสตร์และนวัตกรร...</td>\n",
              "      <td>หนัง</td>\n",
              "      <td>2 - 4 ครั้ง / สัปดาห์</td>\n",
              "      <td>Animation</td>\n",
              "      <td>บริการสตรีมมิ่ง (เช่น Netflix, HBO Go)</td>\n",
              "      <td>น้อยกว่า 300 บาท</td>\n",
              "      <td>ไม่พอใจ</td>\n",
              "      <td>Netflix</td>\n",
              "      <td>...</td>\n",
              "      <td>NaN</td>\n",
              "      <td>NaN</td>\n",
              "      <td>NaN</td>\n",
              "      <td>NaN</td>\n",
              "      <td>NaN</td>\n",
              "      <td>NaN</td>\n",
              "      <td>NaN</td>\n",
              "      <td>NaN</td>\n",
              "      <td>NaN</td>\n",
              "      <td>NaN</td>\n",
              "    </tr>\n",
              "    <tr>\n",
              "      <th>100</th>\n",
              "      <td>หญิง</td>\n",
              "      <td>65</td>\n",
              "      <td>วิทยาลัยแพทยศาสตร์นานาชาติจุฬาภรณ์ (การแพทย์แผ...</td>\n",
              "      <td>หนัง</td>\n",
              "      <td>2 - 4 ครั้ง / สัปดาห์</td>\n",
              "      <td>Romance</td>\n",
              "      <td>บริการสตรีมมิ่ง (เช่น Netflix, HBO Go)</td>\n",
              "      <td>น้อยกว่า 300 บาท</td>\n",
              "      <td>พอใจ</td>\n",
              "      <td>WeTV</td>\n",
              "      <td>...</td>\n",
              "      <td>NaN</td>\n",
              "      <td>NaN</td>\n",
              "      <td>NaN</td>\n",
              "      <td>NaN</td>\n",
              "      <td>NaN</td>\n",
              "      <td>NaN</td>\n",
              "      <td>NaN</td>\n",
              "      <td>NaN</td>\n",
              "      <td>NaN</td>\n",
              "      <td>NaN</td>\n",
              "    </tr>\n",
              "  </tbody>\n",
              "</table>\n",
              "<p>101 rows × 33 columns</p>\n",
              "</div>\n",
              "      <button class=\"colab-df-convert\" onclick=\"convertToInteractive('df-e70d0d00-a68f-46b6-9afc-222d9c99bc9f')\"\n",
              "              title=\"Convert this dataframe to an interactive table.\"\n",
              "              style=\"display:none;\">\n",
              "        \n",
              "  <svg xmlns=\"http://www.w3.org/2000/svg\" height=\"24px\"viewBox=\"0 0 24 24\"\n",
              "       width=\"24px\">\n",
              "    <path d=\"M0 0h24v24H0V0z\" fill=\"none\"/>\n",
              "    <path d=\"M18.56 5.44l.94 2.06.94-2.06 2.06-.94-2.06-.94-.94-2.06-.94 2.06-2.06.94zm-11 1L8.5 8.5l.94-2.06 2.06-.94-2.06-.94L8.5 2.5l-.94 2.06-2.06.94zm10 10l.94 2.06.94-2.06 2.06-.94-2.06-.94-.94-2.06-.94 2.06-2.06.94z\"/><path d=\"M17.41 7.96l-1.37-1.37c-.4-.4-.92-.59-1.43-.59-.52 0-1.04.2-1.43.59L10.3 9.45l-7.72 7.72c-.78.78-.78 2.05 0 2.83L4 21.41c.39.39.9.59 1.41.59.51 0 1.02-.2 1.41-.59l7.78-7.78 2.81-2.81c.8-.78.8-2.07 0-2.86zM5.41 20L4 18.59l7.72-7.72 1.47 1.35L5.41 20z\"/>\n",
              "  </svg>\n",
              "      </button>\n",
              "      \n",
              "  <style>\n",
              "    .colab-df-container {\n",
              "      display:flex;\n",
              "      flex-wrap:wrap;\n",
              "      gap: 12px;\n",
              "    }\n",
              "\n",
              "    .colab-df-convert {\n",
              "      background-color: #E8F0FE;\n",
              "      border: none;\n",
              "      border-radius: 50%;\n",
              "      cursor: pointer;\n",
              "      display: none;\n",
              "      fill: #1967D2;\n",
              "      height: 32px;\n",
              "      padding: 0 0 0 0;\n",
              "      width: 32px;\n",
              "    }\n",
              "\n",
              "    .colab-df-convert:hover {\n",
              "      background-color: #E2EBFA;\n",
              "      box-shadow: 0px 1px 2px rgba(60, 64, 67, 0.3), 0px 1px 3px 1px rgba(60, 64, 67, 0.15);\n",
              "      fill: #174EA6;\n",
              "    }\n",
              "\n",
              "    [theme=dark] .colab-df-convert {\n",
              "      background-color: #3B4455;\n",
              "      fill: #D2E3FC;\n",
              "    }\n",
              "\n",
              "    [theme=dark] .colab-df-convert:hover {\n",
              "      background-color: #434B5C;\n",
              "      box-shadow: 0px 1px 3px 1px rgba(0, 0, 0, 0.15);\n",
              "      filter: drop-shadow(0px 1px 2px rgba(0, 0, 0, 0.3));\n",
              "      fill: #FFFFFF;\n",
              "    }\n",
              "  </style>\n",
              "\n",
              "      <script>\n",
              "        const buttonEl =\n",
              "          document.querySelector('#df-e70d0d00-a68f-46b6-9afc-222d9c99bc9f button.colab-df-convert');\n",
              "        buttonEl.style.display =\n",
              "          google.colab.kernel.accessAllowed ? 'block' : 'none';\n",
              "\n",
              "        async function convertToInteractive(key) {\n",
              "          const element = document.querySelector('#df-e70d0d00-a68f-46b6-9afc-222d9c99bc9f');\n",
              "          const dataTable =\n",
              "            await google.colab.kernel.invokeFunction('convertToInteractive',\n",
              "                                                     [key], {});\n",
              "          if (!dataTable) return;\n",
              "\n",
              "          const docLinkHtml = 'Like what you see? Visit the ' +\n",
              "            '<a target=\"_blank\" href=https://colab.research.google.com/notebooks/data_table.ipynb>data table notebook</a>'\n",
              "            + ' to learn more about interactive tables.';\n",
              "          element.innerHTML = '';\n",
              "          dataTable['output_type'] = 'display_data';\n",
              "          await google.colab.output.renderOutput(dataTable, element);\n",
              "          const docLink = document.createElement('div');\n",
              "          docLink.innerHTML = docLinkHtml;\n",
              "          element.appendChild(docLink);\n",
              "        }\n",
              "      </script>\n",
              "    </div>\n",
              "  </div>\n",
              "  "
            ]
          },
          "metadata": {},
          "execution_count": 9
        }
      ],
      "source": [
        "df"
      ]
    },
    {
      "cell_type": "markdown",
      "metadata": {
        "id": "zCb4wFV5CwVh"
      },
      "source": [
        "# Overall"
      ]
    },
    {
      "cell_type": "markdown",
      "metadata": {
        "id": "CbNMbUoQfMeD"
      },
      "source": [
        "###แผนภูมิวงกลมแสดงสัดส่วนของผู้ตอบแบบสอบถามจำแนกตามเพศ"
      ]
    },
    {
      "cell_type": "code",
      "execution_count": null,
      "metadata": {
        "id": "9XfNURcJfHS7",
        "colab": {
          "base_uri": "https://localhost:8080/"
        },
        "outputId": "7367dc17-6833-4bbd-c233-a1ee5170ba3c"
      },
      "outputs": [
        {
          "output_type": "display_data",
          "data": {
            "text/html": [
              "<html>\n",
              "<head><meta charset=\"utf-8\" /></head>\n",
              "<body>\n",
              "    <div>            <script src=\"https://cdnjs.cloudflare.com/ajax/libs/mathjax/2.7.5/MathJax.js?config=TeX-AMS-MML_SVG\"></script><script type=\"text/javascript\">if (window.MathJax && window.MathJax.Hub && window.MathJax.Hub.Config) {window.MathJax.Hub.Config({SVG: {font: \"STIX-Web\"}});}</script>                <script type=\"text/javascript\">window.PlotlyConfig = {MathJaxConfig: 'local'};</script>\n",
              "        <script src=\"https://cdn.plot.ly/plotly-2.18.2.min.js\"></script>                <div id=\"c1448cde-f52f-405c-a432-2e41263c30c2\" class=\"plotly-graph-div\" style=\"height:500px; width:900px;\"></div>            <script type=\"text/javascript\">                                    window.PLOTLYENV=window.PLOTLYENV || {};                                    if (document.getElementById(\"c1448cde-f52f-405c-a432-2e41263c30c2\")) {                    Plotly.newPlot(                        \"c1448cde-f52f-405c-a432-2e41263c30c2\",                        [{\"domain\":{\"x\":[0.0,1.0],\"y\":[0.0,1.0]},\"hovertemplate\":\"label=%{label}<br>value=%{value}<extra></extra>\",\"labels\":[\"\\u0e2b\\u0e0d\\u0e34\\u0e07\",\"\\u0e0a\\u0e32\\u0e22\",\"\\u0e44\\u0e21\\u0e48\\u0e23\\u0e30\\u0e1a\\u0e38\",\"LGBTQ+\"],\"legendgroup\":\"\",\"name\":\"\",\"showlegend\":true,\"values\":[67,25,6,3],\"type\":\"pie\",\"marker\":{\"colors\":[\"#E45756\",\"#F58518\",\"#47B39C\",\"#1D3557\"]},\"pull\":[0.02,0.02,0.02,0.02],\"textinfo\":\"percent+value\"}],                        {\"template\":{\"data\":{\"histogram2dcontour\":[{\"type\":\"histogram2dcontour\",\"colorbar\":{\"outlinewidth\":0,\"ticks\":\"\"},\"colorscale\":[[0.0,\"#0d0887\"],[0.1111111111111111,\"#46039f\"],[0.2222222222222222,\"#7201a8\"],[0.3333333333333333,\"#9c179e\"],[0.4444444444444444,\"#bd3786\"],[0.5555555555555556,\"#d8576b\"],[0.6666666666666666,\"#ed7953\"],[0.7777777777777778,\"#fb9f3a\"],[0.8888888888888888,\"#fdca26\"],[1.0,\"#f0f921\"]]}],\"choropleth\":[{\"type\":\"choropleth\",\"colorbar\":{\"outlinewidth\":0,\"ticks\":\"\"}}],\"histogram2d\":[{\"type\":\"histogram2d\",\"colorbar\":{\"outlinewidth\":0,\"ticks\":\"\"},\"colorscale\":[[0.0,\"#0d0887\"],[0.1111111111111111,\"#46039f\"],[0.2222222222222222,\"#7201a8\"],[0.3333333333333333,\"#9c179e\"],[0.4444444444444444,\"#bd3786\"],[0.5555555555555556,\"#d8576b\"],[0.6666666666666666,\"#ed7953\"],[0.7777777777777778,\"#fb9f3a\"],[0.8888888888888888,\"#fdca26\"],[1.0,\"#f0f921\"]]}],\"heatmap\":[{\"type\":\"heatmap\",\"colorbar\":{\"outlinewidth\":0,\"ticks\":\"\"},\"colorscale\":[[0.0,\"#0d0887\"],[0.1111111111111111,\"#46039f\"],[0.2222222222222222,\"#7201a8\"],[0.3333333333333333,\"#9c179e\"],[0.4444444444444444,\"#bd3786\"],[0.5555555555555556,\"#d8576b\"],[0.6666666666666666,\"#ed7953\"],[0.7777777777777778,\"#fb9f3a\"],[0.8888888888888888,\"#fdca26\"],[1.0,\"#f0f921\"]]}],\"heatmapgl\":[{\"type\":\"heatmapgl\",\"colorbar\":{\"outlinewidth\":0,\"ticks\":\"\"},\"colorscale\":[[0.0,\"#0d0887\"],[0.1111111111111111,\"#46039f\"],[0.2222222222222222,\"#7201a8\"],[0.3333333333333333,\"#9c179e\"],[0.4444444444444444,\"#bd3786\"],[0.5555555555555556,\"#d8576b\"],[0.6666666666666666,\"#ed7953\"],[0.7777777777777778,\"#fb9f3a\"],[0.8888888888888888,\"#fdca26\"],[1.0,\"#f0f921\"]]}],\"contourcarpet\":[{\"type\":\"contourcarpet\",\"colorbar\":{\"outlinewidth\":0,\"ticks\":\"\"}}],\"contour\":[{\"type\":\"contour\",\"colorbar\":{\"outlinewidth\":0,\"ticks\":\"\"},\"colorscale\":[[0.0,\"#0d0887\"],[0.1111111111111111,\"#46039f\"],[0.2222222222222222,\"#7201a8\"],[0.3333333333333333,\"#9c179e\"],[0.4444444444444444,\"#bd3786\"],[0.5555555555555556,\"#d8576b\"],[0.6666666666666666,\"#ed7953\"],[0.7777777777777778,\"#fb9f3a\"],[0.8888888888888888,\"#fdca26\"],[1.0,\"#f0f921\"]]}],\"surface\":[{\"type\":\"surface\",\"colorbar\":{\"outlinewidth\":0,\"ticks\":\"\"},\"colorscale\":[[0.0,\"#0d0887\"],[0.1111111111111111,\"#46039f\"],[0.2222222222222222,\"#7201a8\"],[0.3333333333333333,\"#9c179e\"],[0.4444444444444444,\"#bd3786\"],[0.5555555555555556,\"#d8576b\"],[0.6666666666666666,\"#ed7953\"],[0.7777777777777778,\"#fb9f3a\"],[0.8888888888888888,\"#fdca26\"],[1.0,\"#f0f921\"]]}],\"mesh3d\":[{\"type\":\"mesh3d\",\"colorbar\":{\"outlinewidth\":0,\"ticks\":\"\"}}],\"scatter\":[{\"fillpattern\":{\"fillmode\":\"overlay\",\"size\":10,\"solidity\":0.2},\"type\":\"scatter\"}],\"parcoords\":[{\"type\":\"parcoords\",\"line\":{\"colorbar\":{\"outlinewidth\":0,\"ticks\":\"\"}}}],\"scatterpolargl\":[{\"type\":\"scatterpolargl\",\"marker\":{\"colorbar\":{\"outlinewidth\":0,\"ticks\":\"\"}}}],\"bar\":[{\"error_x\":{\"color\":\"#2a3f5f\"},\"error_y\":{\"color\":\"#2a3f5f\"},\"marker\":{\"line\":{\"color\":\"#E5ECF6\",\"width\":0.5},\"pattern\":{\"fillmode\":\"overlay\",\"size\":10,\"solidity\":0.2}},\"type\":\"bar\"}],\"scattergeo\":[{\"type\":\"scattergeo\",\"marker\":{\"colorbar\":{\"outlinewidth\":0,\"ticks\":\"\"}}}],\"scatterpolar\":[{\"type\":\"scatterpolar\",\"marker\":{\"colorbar\":{\"outlinewidth\":0,\"ticks\":\"\"}}}],\"histogram\":[{\"marker\":{\"pattern\":{\"fillmode\":\"overlay\",\"size\":10,\"solidity\":0.2}},\"type\":\"histogram\"}],\"scattergl\":[{\"type\":\"scattergl\",\"marker\":{\"colorbar\":{\"outlinewidth\":0,\"ticks\":\"\"}}}],\"scatter3d\":[{\"type\":\"scatter3d\",\"line\":{\"colorbar\":{\"outlinewidth\":0,\"ticks\":\"\"}},\"marker\":{\"colorbar\":{\"outlinewidth\":0,\"ticks\":\"\"}}}],\"scattermapbox\":[{\"type\":\"scattermapbox\",\"marker\":{\"colorbar\":{\"outlinewidth\":0,\"ticks\":\"\"}}}],\"scatterternary\":[{\"type\":\"scatterternary\",\"marker\":{\"colorbar\":{\"outlinewidth\":0,\"ticks\":\"\"}}}],\"scattercarpet\":[{\"type\":\"scattercarpet\",\"marker\":{\"colorbar\":{\"outlinewidth\":0,\"ticks\":\"\"}}}],\"carpet\":[{\"aaxis\":{\"endlinecolor\":\"#2a3f5f\",\"gridcolor\":\"white\",\"linecolor\":\"white\",\"minorgridcolor\":\"white\",\"startlinecolor\":\"#2a3f5f\"},\"baxis\":{\"endlinecolor\":\"#2a3f5f\",\"gridcolor\":\"white\",\"linecolor\":\"white\",\"minorgridcolor\":\"white\",\"startlinecolor\":\"#2a3f5f\"},\"type\":\"carpet\"}],\"table\":[{\"cells\":{\"fill\":{\"color\":\"#EBF0F8\"},\"line\":{\"color\":\"white\"}},\"header\":{\"fill\":{\"color\":\"#C8D4E3\"},\"line\":{\"color\":\"white\"}},\"type\":\"table\"}],\"barpolar\":[{\"marker\":{\"line\":{\"color\":\"#E5ECF6\",\"width\":0.5},\"pattern\":{\"fillmode\":\"overlay\",\"size\":10,\"solidity\":0.2}},\"type\":\"barpolar\"}],\"pie\":[{\"automargin\":true,\"type\":\"pie\"}]},\"layout\":{\"autotypenumbers\":\"strict\",\"colorway\":[\"#636efa\",\"#EF553B\",\"#00cc96\",\"#ab63fa\",\"#FFA15A\",\"#19d3f3\",\"#FF6692\",\"#B6E880\",\"#FF97FF\",\"#FECB52\"],\"font\":{\"color\":\"#2a3f5f\"},\"hovermode\":\"closest\",\"hoverlabel\":{\"align\":\"left\"},\"paper_bgcolor\":\"white\",\"plot_bgcolor\":\"#E5ECF6\",\"polar\":{\"bgcolor\":\"#E5ECF6\",\"angularaxis\":{\"gridcolor\":\"white\",\"linecolor\":\"white\",\"ticks\":\"\"},\"radialaxis\":{\"gridcolor\":\"white\",\"linecolor\":\"white\",\"ticks\":\"\"}},\"ternary\":{\"bgcolor\":\"#E5ECF6\",\"aaxis\":{\"gridcolor\":\"white\",\"linecolor\":\"white\",\"ticks\":\"\"},\"baxis\":{\"gridcolor\":\"white\",\"linecolor\":\"white\",\"ticks\":\"\"},\"caxis\":{\"gridcolor\":\"white\",\"linecolor\":\"white\",\"ticks\":\"\"}},\"coloraxis\":{\"colorbar\":{\"outlinewidth\":0,\"ticks\":\"\"}},\"colorscale\":{\"sequential\":[[0.0,\"#0d0887\"],[0.1111111111111111,\"#46039f\"],[0.2222222222222222,\"#7201a8\"],[0.3333333333333333,\"#9c179e\"],[0.4444444444444444,\"#bd3786\"],[0.5555555555555556,\"#d8576b\"],[0.6666666666666666,\"#ed7953\"],[0.7777777777777778,\"#fb9f3a\"],[0.8888888888888888,\"#fdca26\"],[1.0,\"#f0f921\"]],\"sequentialminus\":[[0.0,\"#0d0887\"],[0.1111111111111111,\"#46039f\"],[0.2222222222222222,\"#7201a8\"],[0.3333333333333333,\"#9c179e\"],[0.4444444444444444,\"#bd3786\"],[0.5555555555555556,\"#d8576b\"],[0.6666666666666666,\"#ed7953\"],[0.7777777777777778,\"#fb9f3a\"],[0.8888888888888888,\"#fdca26\"],[1.0,\"#f0f921\"]],\"diverging\":[[0,\"#8e0152\"],[0.1,\"#c51b7d\"],[0.2,\"#de77ae\"],[0.3,\"#f1b6da\"],[0.4,\"#fde0ef\"],[0.5,\"#f7f7f7\"],[0.6,\"#e6f5d0\"],[0.7,\"#b8e186\"],[0.8,\"#7fbc41\"],[0.9,\"#4d9221\"],[1,\"#276419\"]]},\"xaxis\":{\"gridcolor\":\"white\",\"linecolor\":\"white\",\"ticks\":\"\",\"title\":{\"standoff\":15},\"zerolinecolor\":\"white\",\"automargin\":true,\"zerolinewidth\":2},\"yaxis\":{\"gridcolor\":\"white\",\"linecolor\":\"white\",\"ticks\":\"\",\"title\":{\"standoff\":15},\"zerolinecolor\":\"white\",\"automargin\":true,\"zerolinewidth\":2},\"scene\":{\"xaxis\":{\"backgroundcolor\":\"#E5ECF6\",\"gridcolor\":\"white\",\"linecolor\":\"white\",\"showbackground\":true,\"ticks\":\"\",\"zerolinecolor\":\"white\",\"gridwidth\":2},\"yaxis\":{\"backgroundcolor\":\"#E5ECF6\",\"gridcolor\":\"white\",\"linecolor\":\"white\",\"showbackground\":true,\"ticks\":\"\",\"zerolinecolor\":\"white\",\"gridwidth\":2},\"zaxis\":{\"backgroundcolor\":\"#E5ECF6\",\"gridcolor\":\"white\",\"linecolor\":\"white\",\"showbackground\":true,\"ticks\":\"\",\"zerolinecolor\":\"white\",\"gridwidth\":2}},\"shapedefaults\":{\"line\":{\"color\":\"#2a3f5f\"}},\"annotationdefaults\":{\"arrowcolor\":\"#2a3f5f\",\"arrowhead\":0,\"arrowwidth\":1},\"geo\":{\"bgcolor\":\"white\",\"landcolor\":\"#E5ECF6\",\"subunitcolor\":\"white\",\"showland\":true,\"showlakes\":true,\"lakecolor\":\"white\"},\"title\":{\"x\":0.05},\"mapbox\":{\"style\":\"light\"}}},\"legend\":{\"tracegroupgap\":0},\"margin\":{\"t\":60},\"font\":{\"size\":13,\"color\":\"black\",\"family\":\"Helvetica\"},\"title\":{\"text\":\"\\u0e41\\u0e1c\\u0e19\\u0e20\\u0e39\\u0e21\\u0e34\\u0e27\\u0e07\\u0e01\\u0e25\\u0e21\\u0e41\\u0e2a\\u0e14\\u0e07\\u0e2a\\u0e31\\u0e14\\u0e2a\\u0e48\\u0e27\\u0e19\\u0e02\\u0e2d\\u0e07\\u0e1c\\u0e39\\u0e49\\u0e15\\u0e2d\\u0e1a\\u0e41\\u0e1a\\u0e1a\\u0e2a\\u0e2d\\u0e1a\\u0e16\\u0e32\\u0e21\\u0e08\\u0e33\\u0e41\\u0e19\\u0e01\\u0e15\\u0e32\\u0e21\\u0e40\\u0e1e\\u0e28\",\"font\":{\"size\":20,\"color\":\"black\",\"family\":\"Helvetica\"},\"x\":0.5},\"plot_bgcolor\":\"white\",\"height\":500,\"width\":900,\"showlegend\":true},                        {\"responsive\": true}                    ).then(function(){\n",
              "                            \n",
              "var gd = document.getElementById('c1448cde-f52f-405c-a432-2e41263c30c2');\n",
              "var x = new MutationObserver(function (mutations, observer) {{\n",
              "        var display = window.getComputedStyle(gd).display;\n",
              "        if (!display || display === 'none') {{\n",
              "            console.log([gd, 'removed!']);\n",
              "            Plotly.purge(gd);\n",
              "            observer.disconnect();\n",
              "        }}\n",
              "}});\n",
              "\n",
              "// Listen for the removal of the full notebook cells\n",
              "var notebookContainer = gd.closest('#notebook-container');\n",
              "if (notebookContainer) {{\n",
              "    x.observe(notebookContainer, {childList: true});\n",
              "}}\n",
              "\n",
              "// Listen for the clearing of the current output cell\n",
              "var outputEl = gd.closest('.output');\n",
              "if (outputEl) {{\n",
              "    x.observe(outputEl, {childList: true});\n",
              "}}\n",
              "\n",
              "                        })                };                            </script>        </div>\n",
              "</body>\n",
              "</html>"
            ]
          },
          "metadata": {}
        }
      ],
      "source": [
        "grouped_dfm = df['gender'].value_counts()\n",
        "\n",
        "fig = px.pie(values=grouped_dfm, names=grouped_dfm.index)\n",
        "fig.update_traces(pull=[0.02]*len(grouped_dfm), textinfo='percent+value',marker=dict(colors=['#E45756','#F58518','#47B39C','#1D3557']))\n",
        "fig.update_layout(title='แผนภูมิวงกลมแสดงสัดส่วนของผู้ตอบแบบสอบถามจำแนกตามเพศ',\n",
        "                  plot_bgcolor='white',\n",
        "                  height=500,\n",
        "                  width=900,\n",
        "                  font=dict(size=13, color='black', family='Helvetica'),\n",
        "                  title_font=dict(size=20, color='black', family='Helvetica'),\n",
        "                  showlegend=True)\n",
        "fig.update_layout(title_x=0.5)\n",
        "fig.show()\n"
      ]
    },
    {
      "cell_type": "markdown",
      "metadata": {
        "id": "cXWKnLaPfSEt"
      },
      "source": [
        "##แผนภูมิวงกลมแสดงสัดส่วนของผู้ตอบแบบสอบถามจำแนกตามรหัสนักศึกษา 2 ตัวแรก"
      ]
    },
    {
      "cell_type": "code",
      "execution_count": null,
      "metadata": {
        "id": "jzbk_nYRfL2q",
        "colab": {
          "base_uri": "https://localhost:8080/"
        },
        "outputId": "36b4d97d-29c7-4a87-df69-13b4289cff09"
      },
      "outputs": [
        {
          "output_type": "display_data",
          "data": {
            "text/html": [
              "<html>\n",
              "<head><meta charset=\"utf-8\" /></head>\n",
              "<body>\n",
              "    <div>            <script src=\"https://cdnjs.cloudflare.com/ajax/libs/mathjax/2.7.5/MathJax.js?config=TeX-AMS-MML_SVG\"></script><script type=\"text/javascript\">if (window.MathJax && window.MathJax.Hub && window.MathJax.Hub.Config) {window.MathJax.Hub.Config({SVG: {font: \"STIX-Web\"}});}</script>                <script type=\"text/javascript\">window.PlotlyConfig = {MathJaxConfig: 'local'};</script>\n",
              "        <script src=\"https://cdn.plot.ly/plotly-2.18.2.min.js\"></script>                <div id=\"ebe9bf6e-784d-4b23-a6f0-5b1e49178bd6\" class=\"plotly-graph-div\" style=\"height:500px; width:900px;\"></div>            <script type=\"text/javascript\">                                    window.PLOTLYENV=window.PLOTLYENV || {};                                    if (document.getElementById(\"ebe9bf6e-784d-4b23-a6f0-5b1e49178bd6\")) {                    Plotly.newPlot(                        \"ebe9bf6e-784d-4b23-a6f0-5b1e49178bd6\",                        [{\"domain\":{\"x\":[0.0,1.0],\"y\":[0.0,1.0]},\"hovertemplate\":\"label=%{label}<br>value=%{value}<extra></extra>\",\"labels\":[64,63,65,62],\"legendgroup\":\"\",\"name\":\"\",\"showlegend\":true,\"values\":[60,22,13,6],\"type\":\"pie\",\"marker\":{\"colors\":[\"#FFC300\",\"#FF5733\",\"#C70039\",\"#900C3F\"]},\"pull\":[0.02,0.02,0.02,0.02],\"textinfo\":\"percent+value\"}],                        {\"template\":{\"data\":{\"histogram2dcontour\":[{\"type\":\"histogram2dcontour\",\"colorbar\":{\"outlinewidth\":0,\"ticks\":\"\"},\"colorscale\":[[0.0,\"#0d0887\"],[0.1111111111111111,\"#46039f\"],[0.2222222222222222,\"#7201a8\"],[0.3333333333333333,\"#9c179e\"],[0.4444444444444444,\"#bd3786\"],[0.5555555555555556,\"#d8576b\"],[0.6666666666666666,\"#ed7953\"],[0.7777777777777778,\"#fb9f3a\"],[0.8888888888888888,\"#fdca26\"],[1.0,\"#f0f921\"]]}],\"choropleth\":[{\"type\":\"choropleth\",\"colorbar\":{\"outlinewidth\":0,\"ticks\":\"\"}}],\"histogram2d\":[{\"type\":\"histogram2d\",\"colorbar\":{\"outlinewidth\":0,\"ticks\":\"\"},\"colorscale\":[[0.0,\"#0d0887\"],[0.1111111111111111,\"#46039f\"],[0.2222222222222222,\"#7201a8\"],[0.3333333333333333,\"#9c179e\"],[0.4444444444444444,\"#bd3786\"],[0.5555555555555556,\"#d8576b\"],[0.6666666666666666,\"#ed7953\"],[0.7777777777777778,\"#fb9f3a\"],[0.8888888888888888,\"#fdca26\"],[1.0,\"#f0f921\"]]}],\"heatmap\":[{\"type\":\"heatmap\",\"colorbar\":{\"outlinewidth\":0,\"ticks\":\"\"},\"colorscale\":[[0.0,\"#0d0887\"],[0.1111111111111111,\"#46039f\"],[0.2222222222222222,\"#7201a8\"],[0.3333333333333333,\"#9c179e\"],[0.4444444444444444,\"#bd3786\"],[0.5555555555555556,\"#d8576b\"],[0.6666666666666666,\"#ed7953\"],[0.7777777777777778,\"#fb9f3a\"],[0.8888888888888888,\"#fdca26\"],[1.0,\"#f0f921\"]]}],\"heatmapgl\":[{\"type\":\"heatmapgl\",\"colorbar\":{\"outlinewidth\":0,\"ticks\":\"\"},\"colorscale\":[[0.0,\"#0d0887\"],[0.1111111111111111,\"#46039f\"],[0.2222222222222222,\"#7201a8\"],[0.3333333333333333,\"#9c179e\"],[0.4444444444444444,\"#bd3786\"],[0.5555555555555556,\"#d8576b\"],[0.6666666666666666,\"#ed7953\"],[0.7777777777777778,\"#fb9f3a\"],[0.8888888888888888,\"#fdca26\"],[1.0,\"#f0f921\"]]}],\"contourcarpet\":[{\"type\":\"contourcarpet\",\"colorbar\":{\"outlinewidth\":0,\"ticks\":\"\"}}],\"contour\":[{\"type\":\"contour\",\"colorbar\":{\"outlinewidth\":0,\"ticks\":\"\"},\"colorscale\":[[0.0,\"#0d0887\"],[0.1111111111111111,\"#46039f\"],[0.2222222222222222,\"#7201a8\"],[0.3333333333333333,\"#9c179e\"],[0.4444444444444444,\"#bd3786\"],[0.5555555555555556,\"#d8576b\"],[0.6666666666666666,\"#ed7953\"],[0.7777777777777778,\"#fb9f3a\"],[0.8888888888888888,\"#fdca26\"],[1.0,\"#f0f921\"]]}],\"surface\":[{\"type\":\"surface\",\"colorbar\":{\"outlinewidth\":0,\"ticks\":\"\"},\"colorscale\":[[0.0,\"#0d0887\"],[0.1111111111111111,\"#46039f\"],[0.2222222222222222,\"#7201a8\"],[0.3333333333333333,\"#9c179e\"],[0.4444444444444444,\"#bd3786\"],[0.5555555555555556,\"#d8576b\"],[0.6666666666666666,\"#ed7953\"],[0.7777777777777778,\"#fb9f3a\"],[0.8888888888888888,\"#fdca26\"],[1.0,\"#f0f921\"]]}],\"mesh3d\":[{\"type\":\"mesh3d\",\"colorbar\":{\"outlinewidth\":0,\"ticks\":\"\"}}],\"scatter\":[{\"fillpattern\":{\"fillmode\":\"overlay\",\"size\":10,\"solidity\":0.2},\"type\":\"scatter\"}],\"parcoords\":[{\"type\":\"parcoords\",\"line\":{\"colorbar\":{\"outlinewidth\":0,\"ticks\":\"\"}}}],\"scatterpolargl\":[{\"type\":\"scatterpolargl\",\"marker\":{\"colorbar\":{\"outlinewidth\":0,\"ticks\":\"\"}}}],\"bar\":[{\"error_x\":{\"color\":\"#2a3f5f\"},\"error_y\":{\"color\":\"#2a3f5f\"},\"marker\":{\"line\":{\"color\":\"#E5ECF6\",\"width\":0.5},\"pattern\":{\"fillmode\":\"overlay\",\"size\":10,\"solidity\":0.2}},\"type\":\"bar\"}],\"scattergeo\":[{\"type\":\"scattergeo\",\"marker\":{\"colorbar\":{\"outlinewidth\":0,\"ticks\":\"\"}}}],\"scatterpolar\":[{\"type\":\"scatterpolar\",\"marker\":{\"colorbar\":{\"outlinewidth\":0,\"ticks\":\"\"}}}],\"histogram\":[{\"marker\":{\"pattern\":{\"fillmode\":\"overlay\",\"size\":10,\"solidity\":0.2}},\"type\":\"histogram\"}],\"scattergl\":[{\"type\":\"scattergl\",\"marker\":{\"colorbar\":{\"outlinewidth\":0,\"ticks\":\"\"}}}],\"scatter3d\":[{\"type\":\"scatter3d\",\"line\":{\"colorbar\":{\"outlinewidth\":0,\"ticks\":\"\"}},\"marker\":{\"colorbar\":{\"outlinewidth\":0,\"ticks\":\"\"}}}],\"scattermapbox\":[{\"type\":\"scattermapbox\",\"marker\":{\"colorbar\":{\"outlinewidth\":0,\"ticks\":\"\"}}}],\"scatterternary\":[{\"type\":\"scatterternary\",\"marker\":{\"colorbar\":{\"outlinewidth\":0,\"ticks\":\"\"}}}],\"scattercarpet\":[{\"type\":\"scattercarpet\",\"marker\":{\"colorbar\":{\"outlinewidth\":0,\"ticks\":\"\"}}}],\"carpet\":[{\"aaxis\":{\"endlinecolor\":\"#2a3f5f\",\"gridcolor\":\"white\",\"linecolor\":\"white\",\"minorgridcolor\":\"white\",\"startlinecolor\":\"#2a3f5f\"},\"baxis\":{\"endlinecolor\":\"#2a3f5f\",\"gridcolor\":\"white\",\"linecolor\":\"white\",\"minorgridcolor\":\"white\",\"startlinecolor\":\"#2a3f5f\"},\"type\":\"carpet\"}],\"table\":[{\"cells\":{\"fill\":{\"color\":\"#EBF0F8\"},\"line\":{\"color\":\"white\"}},\"header\":{\"fill\":{\"color\":\"#C8D4E3\"},\"line\":{\"color\":\"white\"}},\"type\":\"table\"}],\"barpolar\":[{\"marker\":{\"line\":{\"color\":\"#E5ECF6\",\"width\":0.5},\"pattern\":{\"fillmode\":\"overlay\",\"size\":10,\"solidity\":0.2}},\"type\":\"barpolar\"}],\"pie\":[{\"automargin\":true,\"type\":\"pie\"}]},\"layout\":{\"autotypenumbers\":\"strict\",\"colorway\":[\"#636efa\",\"#EF553B\",\"#00cc96\",\"#ab63fa\",\"#FFA15A\",\"#19d3f3\",\"#FF6692\",\"#B6E880\",\"#FF97FF\",\"#FECB52\"],\"font\":{\"color\":\"#2a3f5f\"},\"hovermode\":\"closest\",\"hoverlabel\":{\"align\":\"left\"},\"paper_bgcolor\":\"white\",\"plot_bgcolor\":\"#E5ECF6\",\"polar\":{\"bgcolor\":\"#E5ECF6\",\"angularaxis\":{\"gridcolor\":\"white\",\"linecolor\":\"white\",\"ticks\":\"\"},\"radialaxis\":{\"gridcolor\":\"white\",\"linecolor\":\"white\",\"ticks\":\"\"}},\"ternary\":{\"bgcolor\":\"#E5ECF6\",\"aaxis\":{\"gridcolor\":\"white\",\"linecolor\":\"white\",\"ticks\":\"\"},\"baxis\":{\"gridcolor\":\"white\",\"linecolor\":\"white\",\"ticks\":\"\"},\"caxis\":{\"gridcolor\":\"white\",\"linecolor\":\"white\",\"ticks\":\"\"}},\"coloraxis\":{\"colorbar\":{\"outlinewidth\":0,\"ticks\":\"\"}},\"colorscale\":{\"sequential\":[[0.0,\"#0d0887\"],[0.1111111111111111,\"#46039f\"],[0.2222222222222222,\"#7201a8\"],[0.3333333333333333,\"#9c179e\"],[0.4444444444444444,\"#bd3786\"],[0.5555555555555556,\"#d8576b\"],[0.6666666666666666,\"#ed7953\"],[0.7777777777777778,\"#fb9f3a\"],[0.8888888888888888,\"#fdca26\"],[1.0,\"#f0f921\"]],\"sequentialminus\":[[0.0,\"#0d0887\"],[0.1111111111111111,\"#46039f\"],[0.2222222222222222,\"#7201a8\"],[0.3333333333333333,\"#9c179e\"],[0.4444444444444444,\"#bd3786\"],[0.5555555555555556,\"#d8576b\"],[0.6666666666666666,\"#ed7953\"],[0.7777777777777778,\"#fb9f3a\"],[0.8888888888888888,\"#fdca26\"],[1.0,\"#f0f921\"]],\"diverging\":[[0,\"#8e0152\"],[0.1,\"#c51b7d\"],[0.2,\"#de77ae\"],[0.3,\"#f1b6da\"],[0.4,\"#fde0ef\"],[0.5,\"#f7f7f7\"],[0.6,\"#e6f5d0\"],[0.7,\"#b8e186\"],[0.8,\"#7fbc41\"],[0.9,\"#4d9221\"],[1,\"#276419\"]]},\"xaxis\":{\"gridcolor\":\"white\",\"linecolor\":\"white\",\"ticks\":\"\",\"title\":{\"standoff\":15},\"zerolinecolor\":\"white\",\"automargin\":true,\"zerolinewidth\":2},\"yaxis\":{\"gridcolor\":\"white\",\"linecolor\":\"white\",\"ticks\":\"\",\"title\":{\"standoff\":15},\"zerolinecolor\":\"white\",\"automargin\":true,\"zerolinewidth\":2},\"scene\":{\"xaxis\":{\"backgroundcolor\":\"#E5ECF6\",\"gridcolor\":\"white\",\"linecolor\":\"white\",\"showbackground\":true,\"ticks\":\"\",\"zerolinecolor\":\"white\",\"gridwidth\":2},\"yaxis\":{\"backgroundcolor\":\"#E5ECF6\",\"gridcolor\":\"white\",\"linecolor\":\"white\",\"showbackground\":true,\"ticks\":\"\",\"zerolinecolor\":\"white\",\"gridwidth\":2},\"zaxis\":{\"backgroundcolor\":\"#E5ECF6\",\"gridcolor\":\"white\",\"linecolor\":\"white\",\"showbackground\":true,\"ticks\":\"\",\"zerolinecolor\":\"white\",\"gridwidth\":2}},\"shapedefaults\":{\"line\":{\"color\":\"#2a3f5f\"}},\"annotationdefaults\":{\"arrowcolor\":\"#2a3f5f\",\"arrowhead\":0,\"arrowwidth\":1},\"geo\":{\"bgcolor\":\"white\",\"landcolor\":\"#E5ECF6\",\"subunitcolor\":\"white\",\"showland\":true,\"showlakes\":true,\"lakecolor\":\"white\"},\"title\":{\"x\":0.05},\"mapbox\":{\"style\":\"light\"}}},\"legend\":{\"tracegroupgap\":0},\"margin\":{\"t\":60},\"font\":{\"size\":13,\"color\":\"black\",\"family\":\"Helvetica\"},\"title\":{\"text\":\"\\u0e41\\u0e1c\\u0e19\\u0e20\\u0e39\\u0e21\\u0e34\\u0e27\\u0e07\\u0e01\\u0e25\\u0e21\\u0e41\\u0e2a\\u0e14\\u0e07\\u0e2a\\u0e31\\u0e14\\u0e2a\\u0e48\\u0e27\\u0e19\\u0e02\\u0e2d\\u0e07\\u0e1c\\u0e39\\u0e49\\u0e15\\u0e2d\\u0e1a\\u0e41\\u0e1a\\u0e1a\\u0e2a\\u0e2d\\u0e1a\\u0e16\\u0e32\\u0e21\\u0e08\\u0e33\\u0e41\\u0e19\\u0e01\\u0e15\\u0e32\\u0e21\\u0e23\\u0e2b\\u0e31\\u0e2a\\u0e19\\u0e31\\u0e01\\u0e28\\u0e36\\u0e01\\u0e29\\u0e32 2 \\u0e15\\u0e31\\u0e27\\u0e41\\u0e23\\u0e01\",\"font\":{\"size\":20,\"color\":\"black\",\"family\":\"Helvetica\"},\"x\":0.5},\"plot_bgcolor\":\"white\",\"height\":500,\"width\":900,\"showlegend\":true},                        {\"responsive\": true}                    ).then(function(){\n",
              "                            \n",
              "var gd = document.getElementById('ebe9bf6e-784d-4b23-a6f0-5b1e49178bd6');\n",
              "var x = new MutationObserver(function (mutations, observer) {{\n",
              "        var display = window.getComputedStyle(gd).display;\n",
              "        if (!display || display === 'none') {{\n",
              "            console.log([gd, 'removed!']);\n",
              "            Plotly.purge(gd);\n",
              "            observer.disconnect();\n",
              "        }}\n",
              "}});\n",
              "\n",
              "// Listen for the removal of the full notebook cells\n",
              "var notebookContainer = gd.closest('#notebook-container');\n",
              "if (notebookContainer) {{\n",
              "    x.observe(notebookContainer, {childList: true});\n",
              "}}\n",
              "\n",
              "// Listen for the clearing of the current output cell\n",
              "var outputEl = gd.closest('.output');\n",
              "if (outputEl) {{\n",
              "    x.observe(outputEl, {childList: true});\n",
              "}}\n",
              "\n",
              "                        })                };                            </script>        </div>\n",
              "</body>\n",
              "</html>"
            ]
          },
          "metadata": {}
        }
      ],
      "source": [
        "grouped_dfm = df['student_id'].value_counts()\n",
        "\n",
        "fig = px.pie(values=grouped_dfm, names=grouped_dfm.index)\n",
        "fig.update_traces(pull=[0.02]*len(grouped_dfm), textinfo='percent+value',marker=dict(colors=['#FFC300', '#FF5733', '#C70039', '#900C3F']))\n",
        "fig.update_layout(title='แผนภูมิวงกลมแสดงสัดส่วนของผู้ตอบแบบสอบถามจำแนกตามรหัสนักศึกษา 2 ตัวแรก',\n",
        "                  plot_bgcolor='white',\n",
        "                  height=500,\n",
        "                  width=900,\n",
        "                  font=dict(size=13, color='black', family='Helvetica'),\n",
        "                  title_font=dict(size=20, color='black', family='Helvetica'),\n",
        "                  showlegend=True)\n",
        "fig.update_layout(title_x=0.5)\n",
        "fig.show()\n"
      ]
    },
    {
      "cell_type": "markdown",
      "metadata": {
        "id": "ek7YgJNyg014"
      },
      "source": [
        "##แผนภูมิแท่งแสดงสัดส่วนผู้ตอบแบบสอบถามจำแนกตามคณะและสาขาวิชา"
      ]
    },
    {
      "cell_type": "code",
      "execution_count": null,
      "metadata": {
        "id": "Gh9FnlYSftRy",
        "colab": {
          "base_uri": "https://localhost:8080/"
        },
        "outputId": "64e86c5b-cda8-4074-c5bd-6e7b7de7a055"
      },
      "outputs": [
        {
          "output_type": "display_data",
          "data": {
            "text/html": [
              "<html>\n",
              "<head><meta charset=\"utf-8\" /></head>\n",
              "<body>\n",
              "    <div>            <script src=\"https://cdnjs.cloudflare.com/ajax/libs/mathjax/2.7.5/MathJax.js?config=TeX-AMS-MML_SVG\"></script><script type=\"text/javascript\">if (window.MathJax && window.MathJax.Hub && window.MathJax.Hub.Config) {window.MathJax.Hub.Config({SVG: {font: \"STIX-Web\"}});}</script>                <script type=\"text/javascript\">window.PlotlyConfig = {MathJaxConfig: 'local'};</script>\n",
              "        <script src=\"https://cdn.plot.ly/plotly-2.18.2.min.js\"></script>                <div id=\"f3fa1e24-1f02-45a0-a31e-5075de32cbad\" class=\"plotly-graph-div\" style=\"height:600px; width:1000px;\"></div>            <script type=\"text/javascript\">                                    window.PLOTLYENV=window.PLOTLYENV || {};                                    if (document.getElementById(\"f3fa1e24-1f02-45a0-a31e-5075de32cbad\")) {                    Plotly.newPlot(                        \"f3fa1e24-1f02-45a0-a31e-5075de32cbad\",                        [{\"alignmentgroup\":\"True\",\"hovertemplate\":\"\\u0e04\\u0e27\\u0e32\\u0e21\\u0e16\\u0e35\\u0e48=%{marker.color}<br>\\u0e04\\u0e13\\u0e30/\\u0e2a\\u0e32\\u0e02\\u0e32=%{y}<extra></extra>\",\"legendgroup\":\"\",\"marker\":{\"color\":[33,9,7,5,5,5,4,4,3,3,3,2,2,2,2,1,1,1,1,1,1,1,1,1,1,1,1],\"coloraxis\":\"coloraxis\",\"pattern\":{\"shape\":\"\"}},\"name\":\"\",\"offsetgroup\":\"\",\"orientation\":\"h\",\"showlegend\":false,\"textposition\":\"outside\",\"x\":[33,9,7,5,5,5,4,4,3,3,3,2,2,2,2,1,1,1,1,1,1,1,1,1,1,1,1],\"xaxis\":\"x\",\"y\":[\"\\u0e27\\u0e34\\u0e17\\u0e22\\u0e32\\u0e28\\u0e32\\u0e2a\\u0e15\\u0e23\\u0e4c\\u0e41\\u0e25\\u0e30\\u0e40\\u0e17\\u0e04\\u0e42\\u0e19\\u0e42\\u0e25\\u0e22\\u0e35(\\u0e27\\u0e34\\u0e17\\u0e22\\u0e32\\u0e01\\u0e32\\u0e23\\u0e04\\u0e2d\\u0e21\\u0e1e\\u0e34\\u0e27\\u0e40\\u0e15\\u0e2d\\u0e23\\u0e4c)\",\"\\u0e27\\u0e34\\u0e17\\u0e22\\u0e32\\u0e28\\u0e32\\u0e2a\\u0e15\\u0e23\\u0e4c\\u0e41\\u0e25\\u0e30\\u0e40\\u0e17\\u0e04\\u0e42\\u0e19\\u0e42\\u0e25\\u0e22\\u0e35(\\u0e2a\\u0e16\\u0e34\\u0e15\\u0e34)\",\"\\u0e27\\u0e34\\u0e17\\u0e22\\u0e32\\u0e28\\u0e32\\u0e2a\\u0e15\\u0e23\\u0e4c\\u0e41\\u0e25\\u0e30\\u0e40\\u0e17\\u0e04\\u0e42\\u0e19\\u0e42\\u0e25\\u0e22\\u0e35(\\u0e27\\u0e34\\u0e17\\u0e22\\u0e32\\u0e28\\u0e32\\u0e2a\\u0e15\\u0e23\\u0e4c\\u0e41\\u0e25\\u0e30\\u0e19\\u0e27\\u0e31\\u0e15\\u0e01\\u0e23\\u0e23\\u0e21\\u0e17\\u0e32\\u0e07\\u0e2d\\u0e32\\u0e2b\\u0e32\\u0e23)\",\"\\u0e2a\\u0e31\\u0e07\\u0e04\\u0e21\\u0e2a\\u0e07\\u0e40\\u0e04\\u0e23\\u0e32\\u0e30\\u0e2b\\u0e4c\\u0e28\\u0e32\\u0e2a\\u0e15\\u0e23\\u0e4c\",\"\\u0e19\\u0e34\\u0e15\\u0e34\\u0e28\\u0e32\\u0e2a\\u0e15\\u0e23\\u0e4c\",\"\\u0e27\\u0e34\\u0e17\\u0e22\\u0e32\\u0e28\\u0e32\\u0e2a\\u0e15\\u0e23\\u0e4c\\u0e41\\u0e25\\u0e30\\u0e40\\u0e17\\u0e04\\u0e42\\u0e19\\u0e42\\u0e25\\u0e22\\u0e35(\\u0e27\\u0e34\\u0e17\\u0e22\\u0e32\\u0e28\\u0e32\\u0e2a\\u0e15\\u0e23\\u0e4c\\u0e41\\u0e25\\u0e30\\u0e40\\u0e17\\u0e04\\u0e42\\u0e19\\u0e42\\u0e25\\u0e22\\u0e35\\u0e01\\u0e32\\u0e23\\u0e2d\\u0e32\\u0e2b\\u0e32\\u0e23)\",\"\\u0e27\\u0e34\\u0e17\\u0e22\\u0e32\\u0e28\\u0e32\\u0e2a\\u0e15\\u0e23\\u0e4c\\u0e41\\u0e25\\u0e30\\u0e40\\u0e17\\u0e04\\u0e42\\u0e19\\u0e42\\u0e25\\u0e22\\u0e35(\\u0e27\\u0e31\\u0e2a\\u0e14\\u0e38\\u0e28\\u0e32\\u0e2a\\u0e15\\u0e23\\u0e4c)\",\"\\u0e1e\\u0e22\\u0e32\\u0e1a\\u0e32\\u0e25\\u0e28\\u0e32\\u0e2a\\u0e15\\u0e23\\u0e4c\",\"\\u0e40\\u0e28\\u0e23\\u0e29\\u0e10\\u0e28\\u0e32\\u0e2a\\u0e15\\u0e23\\u0e4c\",\"\\u0e41\\u0e1e\\u0e17\\u0e22\\u0e28\\u0e32\\u0e2a\\u0e15\\u0e23\\u0e4c\",\"\\u0e2a\\u0e2b\\u0e40\\u0e27\\u0e0a\\u0e28\\u0e32\\u0e2a\\u0e15\\u0e23\\u0e4c(\\u0e01\\u0e32\\u0e22\\u0e20\\u0e32\\u0e1e\\u0e1a\\u0e33\\u0e1a\\u0e31\\u0e14)\",\"\\u0e28\\u0e34\\u0e25\\u0e1b\\u0e28\\u0e32\\u0e2a\\u0e15\\u0e23\\u0e4c(\\u0e42\\u0e04\\u0e23\\u0e07\\u0e01\\u0e32\\u0e23\\u0e01\\u0e32\\u0e23\\u0e2a\\u0e37\\u0e48\\u0e2d\\u0e2a\\u0e32\\u0e23\\u0e20\\u0e32\\u0e29\\u0e32\\u0e2d\\u0e31\\u0e07\\u0e01\\u0e24\\u0e29\\u0e40\\u0e0a\\u0e34\\u0e07\\u0e18\\u0e38\\u0e23\\u0e01\\u0e34\\u0e08\\u0e2b\\u0e25\\u0e31\\u0e01\\u0e2a\\u0e39\\u0e15\\u0e23\\u0e19\\u0e32\\u0e19\\u0e32\\u0e0a\\u0e32\\u0e15\\u0e34)\",\"\\u0e1e\\u0e32\\u0e13\\u0e34\\u0e0a\\u0e22\\u0e28\\u0e32\\u0e2a\\u0e15\\u0e23\\u0e4c\\u0e41\\u0e25\\u0e30\\u0e01\\u0e32\\u0e23\\u0e1a\\u0e31\\u0e0d\\u0e0a\\u0e35(\\u0e01\\u0e32\\u0e23\\u0e1a\\u0e31\\u0e0d\\u0e0a\\u0e35)\",\"\\u0e1e\\u0e32\\u0e13\\u0e34\\u0e0a\\u0e22\\u0e28\\u0e32\\u0e2a\\u0e15\\u0e23\\u0e4c\\u0e41\\u0e25\\u0e30\\u0e01\\u0e32\\u0e23\\u0e1a\\u0e31\\u0e0d\\u0e0a\\u0e35(\\u0e01\\u0e32\\u0e23\\u0e40\\u0e07\\u0e34\\u0e19)\",\"\\u0e27\\u0e34\\u0e17\\u0e22\\u0e32\\u0e28\\u0e32\\u0e2a\\u0e15\\u0e23\\u0e4c\\u0e41\\u0e25\\u0e30\\u0e40\\u0e17\\u0e04\\u0e42\\u0e19\\u0e42\\u0e25\\u0e22\\u0e35(\\u0e04\\u0e13\\u0e34\\u0e15\\u0e28\\u0e32\\u0e2a\\u0e15\\u0e23\\u0e4c)\",\"\\u0e2a\\u0e32\\u0e18\\u0e32\\u0e23\\u0e13\\u0e2a\\u0e38\\u0e02\\u0e28\\u0e32\\u0e2a\\u0e15\\u0e23\\u0e4c(\\u0e2d\\u0e32\\u0e0a\\u0e35\\u0e27\\u0e2d\\u0e19\\u0e32\\u0e21\\u0e31\\u0e22\\u0e41\\u0e25\\u0e30\\u0e04\\u0e27\\u0e32\\u0e21\\u0e1b\\u0e25\\u0e2d\\u0e14\\u0e20\\u0e31\\u0e22)\",\"\\u0e40\\u0e20\\u0e2a\\u0e31\\u0e0a\\u0e28\\u0e32\\u0e2a\\u0e15\\u0e23\\u0e4c(\\u0e27\\u0e34\\u0e0a\\u0e32\\u0e01\\u0e32\\u0e23\\u0e1a\\u0e23\\u0e34\\u0e1a\\u0e32\\u0e25\\u0e40\\u0e20\\u0e2a\\u0e31\\u0e0a\\u0e01\\u0e23\\u0e23\\u0e21)\",\"\\u0e23\\u0e31\\u0e10\\u0e28\\u0e32\\u0e2a\\u0e15\\u0e23\\u0e4c(\\u0e27\\u0e34\\u0e0a\\u0e32\\u0e40\\u0e2d\\u0e01\\u0e01\\u0e32\\u0e23\\u0e23\\u0e30\\u0e2b\\u0e27\\u0e48\\u0e32\\u0e07\\u0e1b\\u0e23\\u0e30\\u0e40\\u0e17\\u0e28)\",\"\\u0e27\\u0e34\\u0e17\\u0e22\\u0e32\\u0e25\\u0e31\\u0e22\\u0e41\\u0e1e\\u0e17\\u0e22\\u0e28\\u0e32\\u0e2a\\u0e15\\u0e23\\u0e4c\\u0e19\\u0e32\\u0e19\\u0e32\\u0e0a\\u0e32\\u0e15\\u0e34\\u0e08\\u0e38\\u0e2c\\u0e32\\u0e20\\u0e23\\u0e13\\u0e4c(\\u0e40\\u0e17\\u0e04\\u0e42\\u0e19\\u0e42\\u0e25\\u0e22\\u0e35\\u0e2b\\u0e31\\u0e27\\u0e43\\u0e08\\u0e41\\u0e25\\u0e30\\u0e17\\u0e23\\u0e27\\u0e07\\u0e2d\\u0e01)\",\"\\u0e27\\u0e34\\u0e17\\u0e22\\u0e32\\u0e28\\u0e32\\u0e2a\\u0e15\\u0e23\\u0e4c\\u0e41\\u0e25\\u0e30\\u0e40\\u0e17\\u0e04\\u0e42\\u0e19\\u0e42\\u0e25\\u0e22\\u0e35(\\u0e04\\u0e13\\u0e34\\u0e15\\u0e28\\u0e32\\u0e2a\\u0e15\\u0e23\\u0e4c\\u0e1b\\u0e23\\u0e30\\u0e22\\u0e38\\u0e01\\u0e15\\u0e4c)\",\"\\u0e2a\\u0e2b\\u0e40\\u0e27\\u0e0a\\u0e28\\u0e32\\u0e2a\\u0e15\\u0e23\\u0e4c(\\u0e27\\u0e34\\u0e17\\u0e22\\u0e32\\u0e28\\u0e32\\u0e2a\\u0e15\\u0e23\\u0e4c\\u0e01\\u0e32\\u0e23\\u0e01\\u0e35\\u0e2c\\u0e32\\u0e41\\u0e25\\u0e30\\u0e01\\u0e32\\u0e23\\u0e2d\\u0e2d\\u0e01\\u0e01\\u0e33\\u0e25\\u0e31\\u0e07\\u0e01\\u0e32\\u0e22)\",\"\\u0e28\\u0e34\\u0e25\\u0e1b\\u0e28\\u0e32\\u0e2a\\u0e15\\u0e23\\u0e4c(\\u0e20\\u0e32\\u0e29\\u0e32\\u0e41\\u0e25\\u0e30\\u0e27\\u0e31\\u0e12\\u0e19\\u0e18\\u0e23\\u0e23\\u0e21\\u0e08\\u0e35\\u0e19)\",\"\\u0e2a\\u0e32\\u0e18\\u0e32\\u0e23\\u0e13\\u0e2a\\u0e38\\u0e02\\u0e28\\u0e32\\u0e2a\\u0e15\\u0e23\\u0e4c(\\u0e2d\\u0e19\\u0e32\\u0e21\\u0e31\\u0e22\\u0e2a\\u0e34\\u0e48\\u0e07\\u0e41\\u0e27\\u0e14\\u0e25\\u0e49\\u0e2d\\u0e21)\",\"\\u0e1e\\u0e32\\u0e13\\u0e34\\u0e0a\\u0e22\\u0e28\\u0e32\\u0e2a\\u0e15\\u0e23\\u0e4c\\u0e41\\u0e25\\u0e30\\u0e01\\u0e32\\u0e23\\u0e1a\\u0e31\\u0e0d\\u0e0a\\u0e35(\\u0e01\\u0e32\\u0e23\\u0e1a\\u0e23\\u0e34\\u0e2b\\u0e32\\u0e23\\u0e2d\\u0e07\\u0e04\\u0e4c\\u0e01\\u0e32\\u0e23\\u0e01\\u0e32\\u0e23\\u0e1b\\u0e23\\u0e30\\u0e01\\u0e2d\\u0e1a\\u0e01\\u0e32\\u0e23\\u0e41\\u0e25\\u0e30\\u0e17\\u0e23\\u0e31\\u0e1e\\u0e22\\u0e32\\u0e01\\u0e23\\u0e21\\u0e19\\u0e38\\u0e29\\u0e22\\u0e4c)\",\"\\u0e2a\\u0e31\\u0e07\\u0e04\\u0e21\\u0e27\\u0e34\\u0e17\\u0e22\\u0e32\\u0e41\\u0e25\\u0e30\\u0e21\\u0e32\\u0e19\\u0e38\\u0e29\\u0e22\\u0e27\\u0e34\\u0e17\\u0e22\\u0e32(\\u0e04\\u0e13\\u0e30\\u0e2a\\u0e31\\u0e07\\u0e04\\u0e21\\u0e27\\u0e34\\u0e17\\u0e22\\u0e32\\u0e41\\u0e25\\u0e30\\u0e21\\u0e32\\u0e19\\u0e38\\u0e29\\u0e22\\u0e27\\u0e34\\u0e17\\u0e22\\u0e32)\",\"\\u0e2a\\u0e2b\\u0e40\\u0e27\\u0e0a\\u0e28\\u0e32\\u0e2a\\u0e15\\u0e23\\u0e4c(\\u0e40\\u0e17\\u0e04\\u0e19\\u0e34\\u0e04\\u0e01\\u0e32\\u0e23\\u0e41\\u0e1e\\u0e17\\u0e22\\u0e4c)\",\"\\u0e27\\u0e34\\u0e17\\u0e22\\u0e32\\u0e25\\u0e31\\u0e22\\u0e41\\u0e1e\\u0e17\\u0e22\\u0e28\\u0e32\\u0e2a\\u0e15\\u0e23\\u0e4c\\u0e19\\u0e32\\u0e19\\u0e32\\u0e0a\\u0e32\\u0e15\\u0e34\\u0e08\\u0e38\\u0e2c\\u0e32\\u0e20\\u0e23\\u0e13\\u0e4c(\\u0e01\\u0e32\\u0e23\\u0e41\\u0e1e\\u0e17\\u0e22\\u0e4c\\u0e41\\u0e1c\\u0e19\\u0e08\\u0e35\\u0e19)\"],\"yaxis\":\"y\",\"type\":\"bar\",\"text\":[\"33 (32.7%)\",\"9 (8.9%)\",\"7 (6.9%)\",\"5 (5.0%)\",\"5 (5.0%)\",\"5 (5.0%)\",\"4 (4.0%)\",\"4 (4.0%)\",\"3 (3.0%)\",\"3 (3.0%)\",\"3 (3.0%)\",\"2 (2.0%)\",\"2 (2.0%)\",\"2 (2.0%)\",\"2 (2.0%)\",\"1 (1.0%)\",\"1 (1.0%)\",\"1 (1.0%)\",\"1 (1.0%)\",\"1 (1.0%)\",\"1 (1.0%)\",\"1 (1.0%)\",\"1 (1.0%)\",\"1 (1.0%)\",\"1 (1.0%)\",\"1 (1.0%)\",\"1 (1.0%)\"]}],                        {\"template\":{\"data\":{\"histogram2dcontour\":[{\"type\":\"histogram2dcontour\",\"colorbar\":{\"outlinewidth\":0,\"ticks\":\"\"},\"colorscale\":[[0.0,\"#0d0887\"],[0.1111111111111111,\"#46039f\"],[0.2222222222222222,\"#7201a8\"],[0.3333333333333333,\"#9c179e\"],[0.4444444444444444,\"#bd3786\"],[0.5555555555555556,\"#d8576b\"],[0.6666666666666666,\"#ed7953\"],[0.7777777777777778,\"#fb9f3a\"],[0.8888888888888888,\"#fdca26\"],[1.0,\"#f0f921\"]]}],\"choropleth\":[{\"type\":\"choropleth\",\"colorbar\":{\"outlinewidth\":0,\"ticks\":\"\"}}],\"histogram2d\":[{\"type\":\"histogram2d\",\"colorbar\":{\"outlinewidth\":0,\"ticks\":\"\"},\"colorscale\":[[0.0,\"#0d0887\"],[0.1111111111111111,\"#46039f\"],[0.2222222222222222,\"#7201a8\"],[0.3333333333333333,\"#9c179e\"],[0.4444444444444444,\"#bd3786\"],[0.5555555555555556,\"#d8576b\"],[0.6666666666666666,\"#ed7953\"],[0.7777777777777778,\"#fb9f3a\"],[0.8888888888888888,\"#fdca26\"],[1.0,\"#f0f921\"]]}],\"heatmap\":[{\"type\":\"heatmap\",\"colorbar\":{\"outlinewidth\":0,\"ticks\":\"\"},\"colorscale\":[[0.0,\"#0d0887\"],[0.1111111111111111,\"#46039f\"],[0.2222222222222222,\"#7201a8\"],[0.3333333333333333,\"#9c179e\"],[0.4444444444444444,\"#bd3786\"],[0.5555555555555556,\"#d8576b\"],[0.6666666666666666,\"#ed7953\"],[0.7777777777777778,\"#fb9f3a\"],[0.8888888888888888,\"#fdca26\"],[1.0,\"#f0f921\"]]}],\"heatmapgl\":[{\"type\":\"heatmapgl\",\"colorbar\":{\"outlinewidth\":0,\"ticks\":\"\"},\"colorscale\":[[0.0,\"#0d0887\"],[0.1111111111111111,\"#46039f\"],[0.2222222222222222,\"#7201a8\"],[0.3333333333333333,\"#9c179e\"],[0.4444444444444444,\"#bd3786\"],[0.5555555555555556,\"#d8576b\"],[0.6666666666666666,\"#ed7953\"],[0.7777777777777778,\"#fb9f3a\"],[0.8888888888888888,\"#fdca26\"],[1.0,\"#f0f921\"]]}],\"contourcarpet\":[{\"type\":\"contourcarpet\",\"colorbar\":{\"outlinewidth\":0,\"ticks\":\"\"}}],\"contour\":[{\"type\":\"contour\",\"colorbar\":{\"outlinewidth\":0,\"ticks\":\"\"},\"colorscale\":[[0.0,\"#0d0887\"],[0.1111111111111111,\"#46039f\"],[0.2222222222222222,\"#7201a8\"],[0.3333333333333333,\"#9c179e\"],[0.4444444444444444,\"#bd3786\"],[0.5555555555555556,\"#d8576b\"],[0.6666666666666666,\"#ed7953\"],[0.7777777777777778,\"#fb9f3a\"],[0.8888888888888888,\"#fdca26\"],[1.0,\"#f0f921\"]]}],\"surface\":[{\"type\":\"surface\",\"colorbar\":{\"outlinewidth\":0,\"ticks\":\"\"},\"colorscale\":[[0.0,\"#0d0887\"],[0.1111111111111111,\"#46039f\"],[0.2222222222222222,\"#7201a8\"],[0.3333333333333333,\"#9c179e\"],[0.4444444444444444,\"#bd3786\"],[0.5555555555555556,\"#d8576b\"],[0.6666666666666666,\"#ed7953\"],[0.7777777777777778,\"#fb9f3a\"],[0.8888888888888888,\"#fdca26\"],[1.0,\"#f0f921\"]]}],\"mesh3d\":[{\"type\":\"mesh3d\",\"colorbar\":{\"outlinewidth\":0,\"ticks\":\"\"}}],\"scatter\":[{\"fillpattern\":{\"fillmode\":\"overlay\",\"size\":10,\"solidity\":0.2},\"type\":\"scatter\"}],\"parcoords\":[{\"type\":\"parcoords\",\"line\":{\"colorbar\":{\"outlinewidth\":0,\"ticks\":\"\"}}}],\"scatterpolargl\":[{\"type\":\"scatterpolargl\",\"marker\":{\"colorbar\":{\"outlinewidth\":0,\"ticks\":\"\"}}}],\"bar\":[{\"error_x\":{\"color\":\"#2a3f5f\"},\"error_y\":{\"color\":\"#2a3f5f\"},\"marker\":{\"line\":{\"color\":\"#E5ECF6\",\"width\":0.5},\"pattern\":{\"fillmode\":\"overlay\",\"size\":10,\"solidity\":0.2}},\"type\":\"bar\"}],\"scattergeo\":[{\"type\":\"scattergeo\",\"marker\":{\"colorbar\":{\"outlinewidth\":0,\"ticks\":\"\"}}}],\"scatterpolar\":[{\"type\":\"scatterpolar\",\"marker\":{\"colorbar\":{\"outlinewidth\":0,\"ticks\":\"\"}}}],\"histogram\":[{\"marker\":{\"pattern\":{\"fillmode\":\"overlay\",\"size\":10,\"solidity\":0.2}},\"type\":\"histogram\"}],\"scattergl\":[{\"type\":\"scattergl\",\"marker\":{\"colorbar\":{\"outlinewidth\":0,\"ticks\":\"\"}}}],\"scatter3d\":[{\"type\":\"scatter3d\",\"line\":{\"colorbar\":{\"outlinewidth\":0,\"ticks\":\"\"}},\"marker\":{\"colorbar\":{\"outlinewidth\":0,\"ticks\":\"\"}}}],\"scattermapbox\":[{\"type\":\"scattermapbox\",\"marker\":{\"colorbar\":{\"outlinewidth\":0,\"ticks\":\"\"}}}],\"scatterternary\":[{\"type\":\"scatterternary\",\"marker\":{\"colorbar\":{\"outlinewidth\":0,\"ticks\":\"\"}}}],\"scattercarpet\":[{\"type\":\"scattercarpet\",\"marker\":{\"colorbar\":{\"outlinewidth\":0,\"ticks\":\"\"}}}],\"carpet\":[{\"aaxis\":{\"endlinecolor\":\"#2a3f5f\",\"gridcolor\":\"white\",\"linecolor\":\"white\",\"minorgridcolor\":\"white\",\"startlinecolor\":\"#2a3f5f\"},\"baxis\":{\"endlinecolor\":\"#2a3f5f\",\"gridcolor\":\"white\",\"linecolor\":\"white\",\"minorgridcolor\":\"white\",\"startlinecolor\":\"#2a3f5f\"},\"type\":\"carpet\"}],\"table\":[{\"cells\":{\"fill\":{\"color\":\"#EBF0F8\"},\"line\":{\"color\":\"white\"}},\"header\":{\"fill\":{\"color\":\"#C8D4E3\"},\"line\":{\"color\":\"white\"}},\"type\":\"table\"}],\"barpolar\":[{\"marker\":{\"line\":{\"color\":\"#E5ECF6\",\"width\":0.5},\"pattern\":{\"fillmode\":\"overlay\",\"size\":10,\"solidity\":0.2}},\"type\":\"barpolar\"}],\"pie\":[{\"automargin\":true,\"type\":\"pie\"}]},\"layout\":{\"autotypenumbers\":\"strict\",\"colorway\":[\"#636efa\",\"#EF553B\",\"#00cc96\",\"#ab63fa\",\"#FFA15A\",\"#19d3f3\",\"#FF6692\",\"#B6E880\",\"#FF97FF\",\"#FECB52\"],\"font\":{\"color\":\"#2a3f5f\"},\"hovermode\":\"closest\",\"hoverlabel\":{\"align\":\"left\"},\"paper_bgcolor\":\"white\",\"plot_bgcolor\":\"#E5ECF6\",\"polar\":{\"bgcolor\":\"#E5ECF6\",\"angularaxis\":{\"gridcolor\":\"white\",\"linecolor\":\"white\",\"ticks\":\"\"},\"radialaxis\":{\"gridcolor\":\"white\",\"linecolor\":\"white\",\"ticks\":\"\"}},\"ternary\":{\"bgcolor\":\"#E5ECF6\",\"aaxis\":{\"gridcolor\":\"white\",\"linecolor\":\"white\",\"ticks\":\"\"},\"baxis\":{\"gridcolor\":\"white\",\"linecolor\":\"white\",\"ticks\":\"\"},\"caxis\":{\"gridcolor\":\"white\",\"linecolor\":\"white\",\"ticks\":\"\"}},\"coloraxis\":{\"colorbar\":{\"outlinewidth\":0,\"ticks\":\"\"}},\"colorscale\":{\"sequential\":[[0.0,\"#0d0887\"],[0.1111111111111111,\"#46039f\"],[0.2222222222222222,\"#7201a8\"],[0.3333333333333333,\"#9c179e\"],[0.4444444444444444,\"#bd3786\"],[0.5555555555555556,\"#d8576b\"],[0.6666666666666666,\"#ed7953\"],[0.7777777777777778,\"#fb9f3a\"],[0.8888888888888888,\"#fdca26\"],[1.0,\"#f0f921\"]],\"sequentialminus\":[[0.0,\"#0d0887\"],[0.1111111111111111,\"#46039f\"],[0.2222222222222222,\"#7201a8\"],[0.3333333333333333,\"#9c179e\"],[0.4444444444444444,\"#bd3786\"],[0.5555555555555556,\"#d8576b\"],[0.6666666666666666,\"#ed7953\"],[0.7777777777777778,\"#fb9f3a\"],[0.8888888888888888,\"#fdca26\"],[1.0,\"#f0f921\"]],\"diverging\":[[0,\"#8e0152\"],[0.1,\"#c51b7d\"],[0.2,\"#de77ae\"],[0.3,\"#f1b6da\"],[0.4,\"#fde0ef\"],[0.5,\"#f7f7f7\"],[0.6,\"#e6f5d0\"],[0.7,\"#b8e186\"],[0.8,\"#7fbc41\"],[0.9,\"#4d9221\"],[1,\"#276419\"]]},\"xaxis\":{\"gridcolor\":\"white\",\"linecolor\":\"white\",\"ticks\":\"\",\"title\":{\"standoff\":15},\"zerolinecolor\":\"white\",\"automargin\":true,\"zerolinewidth\":2},\"yaxis\":{\"gridcolor\":\"white\",\"linecolor\":\"white\",\"ticks\":\"\",\"title\":{\"standoff\":15},\"zerolinecolor\":\"white\",\"automargin\":true,\"zerolinewidth\":2},\"scene\":{\"xaxis\":{\"backgroundcolor\":\"#E5ECF6\",\"gridcolor\":\"white\",\"linecolor\":\"white\",\"showbackground\":true,\"ticks\":\"\",\"zerolinecolor\":\"white\",\"gridwidth\":2},\"yaxis\":{\"backgroundcolor\":\"#E5ECF6\",\"gridcolor\":\"white\",\"linecolor\":\"white\",\"showbackground\":true,\"ticks\":\"\",\"zerolinecolor\":\"white\",\"gridwidth\":2},\"zaxis\":{\"backgroundcolor\":\"#E5ECF6\",\"gridcolor\":\"white\",\"linecolor\":\"white\",\"showbackground\":true,\"ticks\":\"\",\"zerolinecolor\":\"white\",\"gridwidth\":2}},\"shapedefaults\":{\"line\":{\"color\":\"#2a3f5f\"}},\"annotationdefaults\":{\"arrowcolor\":\"#2a3f5f\",\"arrowhead\":0,\"arrowwidth\":1},\"geo\":{\"bgcolor\":\"white\",\"landcolor\":\"#E5ECF6\",\"subunitcolor\":\"white\",\"showland\":true,\"showlakes\":true,\"lakecolor\":\"white\"},\"title\":{\"x\":0.05},\"mapbox\":{\"style\":\"light\"}}},\"xaxis\":{\"anchor\":\"y\",\"domain\":[0.0,1.0],\"title\":{\"text\":\"\\u0e04\\u0e27\\u0e32\\u0e21\\u0e16\\u0e35\\u0e48\",\"font\":{\"size\":14,\"color\":\"black\",\"family\":\"Helvetica\"}},\"range\":[0,43]},\"yaxis\":{\"anchor\":\"x\",\"domain\":[0.0,1.0],\"title\":{\"text\":\"\\u0e04\\u0e13\\u0e30/\\u0e2a\\u0e32\\u0e02\\u0e32\",\"font\":{\"size\":14,\"color\":\"black\",\"family\":\"Helvetica\"}},\"autorange\":\"reversed\"},\"coloraxis\":{\"colorbar\":{\"title\":{\"text\":\"\\u0e04\\u0e27\\u0e32\\u0e21\\u0e16\\u0e35\\u0e48\"}},\"colorscale\":[[0.0,\"#30123b\"],[0.07142857142857142,\"#4145ab\"],[0.14285714285714285,\"#4675ed\"],[0.21428571428571427,\"#39a2fc\"],[0.2857142857142857,\"#1bcfd4\"],[0.35714285714285715,\"#24eca6\"],[0.42857142857142855,\"#61fc6c\"],[0.5,\"#a4fc3b\"],[0.5714285714285714,\"#d1e834\"],[0.6428571428571429,\"#f3c63a\"],[0.7142857142857143,\"#fe9b2d\"],[0.7857142857142857,\"#f36315\"],[0.8571428571428571,\"#d93806\"],[0.9285714285714286,\"#b11901\"],[1.0,\"#7a0402\"]]},\"legend\":{\"tracegroupgap\":0},\"margin\":{\"t\":80,\"l\":100,\"r\":50,\"b\":50},\"barmode\":\"relative\",\"font\":{\"size\":12,\"color\":\"black\",\"family\":\"Helvetica\"},\"title\":{\"text\":\"\\u0e41\\u0e1c\\u0e19\\u0e20\\u0e39\\u0e21\\u0e34\\u0e41\\u0e17\\u0e48\\u0e07\\u0e41\\u0e2a\\u0e14\\u0e07\\u0e2a\\u0e31\\u0e14\\u0e2a\\u0e48\\u0e27\\u0e19\\u0e02\\u0e2d\\u0e07\\u0e1c\\u0e39\\u0e49\\u0e15\\u0e2d\\u0e1a\\u0e41\\u0e1a\\u0e1a\\u0e2a\\u0e2d\\u0e1a\\u0e16\\u0e32\\u0e21\\u0e08\\u0e33\\u0e41\\u0e19\\u0e01\\u0e15\\u0e32\\u0e21\\u0e04\\u0e13\\u0e30\\u0e41\\u0e25\\u0e30\\u0e2a\\u0e32\\u0e02\\u0e32\\u0e27\\u0e34\\u0e0a\\u0e32\",\"font\":{\"size\":22,\"color\":\"black\",\"family\":\"Helvetica\"},\"x\":0.5},\"height\":600,\"width\":1000,\"showlegend\":false,\"plot_bgcolor\":\"white\"},                        {\"responsive\": true}                    ).then(function(){\n",
              "                            \n",
              "var gd = document.getElementById('f3fa1e24-1f02-45a0-a31e-5075de32cbad');\n",
              "var x = new MutationObserver(function (mutations, observer) {{\n",
              "        var display = window.getComputedStyle(gd).display;\n",
              "        if (!display || display === 'none') {{\n",
              "            console.log([gd, 'removed!']);\n",
              "            Plotly.purge(gd);\n",
              "            observer.disconnect();\n",
              "        }}\n",
              "}});\n",
              "\n",
              "// Listen for the removal of the full notebook cells\n",
              "var notebookContainer = gd.closest('#notebook-container');\n",
              "if (notebookContainer) {{\n",
              "    x.observe(notebookContainer, {childList: true});\n",
              "}}\n",
              "\n",
              "// Listen for the clearing of the current output cell\n",
              "var outputEl = gd.closest('.output');\n",
              "if (outputEl) {{\n",
              "    x.observe(outputEl, {childList: true});\n",
              "}}\n",
              "\n",
              "                        })                };                            </script>        </div>\n",
              "</body>\n",
              "</html>"
            ]
          },
          "metadata": {}
        }
      ],
      "source": [
        "m_when_ac_counts = df['major'].astype(str).str.strip().replace(' ', '', regex=True)\n",
        "m_when_ac_counts = m_when_ac_counts.str.split(',', expand=True).stack().value_counts().reset_index()\n",
        "m_when_ac_counts.columns = ['choice', 'frequency']\n",
        "m_when_ac_counts = m_when_ac_counts[m_when_ac_counts['choice'] != 'nan']\n",
        "\n",
        "# Calculate the percentage values\n",
        "m_when_ac_counts['percentage'] = m_when_ac_counts['frequency'] / m_when_ac_counts['frequency'].sum() * 100\n",
        "m_when_ac_counts['text'] = m_when_ac_counts.apply(lambda x: f\"{x['frequency']} ({x['percentage']:.1f}%)\", axis=1)\n",
        "\n",
        "fig = px.bar(m_when_ac_counts, x='frequency', y='choice', orientation='h',\n",
        "             color='frequency', color_continuous_scale='turbo',labels={'frequency':'ความถี่', 'choice':'คณะ/สาขา'})\n",
        "fig.update_layout(title='แผนภูมิแท่งแสดงสัดส่วนของผู้ตอบแบบสอบถามจำแนกตามคณะและสาขาวิชา',\n",
        "    font=dict(size=12, color='black', family='Helvetica'),\n",
        "    xaxis=dict(range=[0, m_when_ac_counts['frequency'].max() + 10],\n",
        "               title_font=dict(size=14, color='black', family='Helvetica')),\n",
        "    yaxis=dict(title_font=dict(size=14, color='black', family='Helvetica'), autorange='reversed'),\n",
        "    margin=dict(l=100, r=50, b=50, t=80),\n",
        "    height=600,\n",
        "    width=1000,\n",
        "    showlegend=False,\n",
        "    plot_bgcolor='white',\n",
        "    title_font=dict(size=22, color='black', family='Helvetica'),\n",
        ")\n",
        "fig.update_layout(title_x=0.5)\n",
        "\n",
        "# Add the frequency and percentage values beside the bars\n",
        "fig.update_traces(text=m_when_ac_counts['text'], textposition='outside')\n",
        "\n",
        "fig.show()\n"
      ]
    },
    {
      "cell_type": "code",
      "execution_count": null,
      "metadata": {
        "id": "nEpSVIBW3OW0",
        "colab": {
          "base_uri": "https://localhost:8080/"
        },
        "outputId": "351c2152-c70f-4229-844f-666e1f31bed4"
      },
      "outputs": [
        {
          "output_type": "display_data",
          "data": {
            "text/html": [
              "<html>\n",
              "<head><meta charset=\"utf-8\" /></head>\n",
              "<body>\n",
              "    <div>            <script src=\"https://cdnjs.cloudflare.com/ajax/libs/mathjax/2.7.5/MathJax.js?config=TeX-AMS-MML_SVG\"></script><script type=\"text/javascript\">if (window.MathJax && window.MathJax.Hub && window.MathJax.Hub.Config) {window.MathJax.Hub.Config({SVG: {font: \"STIX-Web\"}});}</script>                <script type=\"text/javascript\">window.PlotlyConfig = {MathJaxConfig: 'local'};</script>\n",
              "        <script src=\"https://cdn.plot.ly/plotly-2.18.2.min.js\"></script>                <div id=\"9b1c172f-384d-4af5-9a1a-ae2e59f862c9\" class=\"plotly-graph-div\" style=\"height:500px; width:900px;\"></div>            <script type=\"text/javascript\">                                    window.PLOTLYENV=window.PLOTLYENV || {};                                    if (document.getElementById(\"9b1c172f-384d-4af5-9a1a-ae2e59f862c9\")) {                    Plotly.newPlot(                        \"9b1c172f-384d-4af5-9a1a-ae2e59f862c9\",                        [{\"domain\":{\"x\":[0.0,1.0],\"y\":[0.0,1.0]},\"hovertemplate\":\"label=%{label}<br>value=%{value}<extra></extra>\",\"labels\":[\"\\u0e40\\u0e1e\\u0e25\\u0e07\",\"\\u0e2b\\u0e19\\u0e31\\u0e07\",\"\\u0e40\\u0e01\\u0e21\"],\"legendgroup\":\"\",\"name\":\"\",\"showlegend\":true,\"values\":[50,27,24],\"type\":\"pie\",\"marker\":{\"colors\":[\"#E45756\",\"#F58518\",\"#47B39C\",\"#1D3557\"]},\"pull\":[0.02,0.02,0.02],\"textinfo\":\"percent+value\"}],                        {\"template\":{\"data\":{\"histogram2dcontour\":[{\"type\":\"histogram2dcontour\",\"colorbar\":{\"outlinewidth\":0,\"ticks\":\"\"},\"colorscale\":[[0.0,\"#0d0887\"],[0.1111111111111111,\"#46039f\"],[0.2222222222222222,\"#7201a8\"],[0.3333333333333333,\"#9c179e\"],[0.4444444444444444,\"#bd3786\"],[0.5555555555555556,\"#d8576b\"],[0.6666666666666666,\"#ed7953\"],[0.7777777777777778,\"#fb9f3a\"],[0.8888888888888888,\"#fdca26\"],[1.0,\"#f0f921\"]]}],\"choropleth\":[{\"type\":\"choropleth\",\"colorbar\":{\"outlinewidth\":0,\"ticks\":\"\"}}],\"histogram2d\":[{\"type\":\"histogram2d\",\"colorbar\":{\"outlinewidth\":0,\"ticks\":\"\"},\"colorscale\":[[0.0,\"#0d0887\"],[0.1111111111111111,\"#46039f\"],[0.2222222222222222,\"#7201a8\"],[0.3333333333333333,\"#9c179e\"],[0.4444444444444444,\"#bd3786\"],[0.5555555555555556,\"#d8576b\"],[0.6666666666666666,\"#ed7953\"],[0.7777777777777778,\"#fb9f3a\"],[0.8888888888888888,\"#fdca26\"],[1.0,\"#f0f921\"]]}],\"heatmap\":[{\"type\":\"heatmap\",\"colorbar\":{\"outlinewidth\":0,\"ticks\":\"\"},\"colorscale\":[[0.0,\"#0d0887\"],[0.1111111111111111,\"#46039f\"],[0.2222222222222222,\"#7201a8\"],[0.3333333333333333,\"#9c179e\"],[0.4444444444444444,\"#bd3786\"],[0.5555555555555556,\"#d8576b\"],[0.6666666666666666,\"#ed7953\"],[0.7777777777777778,\"#fb9f3a\"],[0.8888888888888888,\"#fdca26\"],[1.0,\"#f0f921\"]]}],\"heatmapgl\":[{\"type\":\"heatmapgl\",\"colorbar\":{\"outlinewidth\":0,\"ticks\":\"\"},\"colorscale\":[[0.0,\"#0d0887\"],[0.1111111111111111,\"#46039f\"],[0.2222222222222222,\"#7201a8\"],[0.3333333333333333,\"#9c179e\"],[0.4444444444444444,\"#bd3786\"],[0.5555555555555556,\"#d8576b\"],[0.6666666666666666,\"#ed7953\"],[0.7777777777777778,\"#fb9f3a\"],[0.8888888888888888,\"#fdca26\"],[1.0,\"#f0f921\"]]}],\"contourcarpet\":[{\"type\":\"contourcarpet\",\"colorbar\":{\"outlinewidth\":0,\"ticks\":\"\"}}],\"contour\":[{\"type\":\"contour\",\"colorbar\":{\"outlinewidth\":0,\"ticks\":\"\"},\"colorscale\":[[0.0,\"#0d0887\"],[0.1111111111111111,\"#46039f\"],[0.2222222222222222,\"#7201a8\"],[0.3333333333333333,\"#9c179e\"],[0.4444444444444444,\"#bd3786\"],[0.5555555555555556,\"#d8576b\"],[0.6666666666666666,\"#ed7953\"],[0.7777777777777778,\"#fb9f3a\"],[0.8888888888888888,\"#fdca26\"],[1.0,\"#f0f921\"]]}],\"surface\":[{\"type\":\"surface\",\"colorbar\":{\"outlinewidth\":0,\"ticks\":\"\"},\"colorscale\":[[0.0,\"#0d0887\"],[0.1111111111111111,\"#46039f\"],[0.2222222222222222,\"#7201a8\"],[0.3333333333333333,\"#9c179e\"],[0.4444444444444444,\"#bd3786\"],[0.5555555555555556,\"#d8576b\"],[0.6666666666666666,\"#ed7953\"],[0.7777777777777778,\"#fb9f3a\"],[0.8888888888888888,\"#fdca26\"],[1.0,\"#f0f921\"]]}],\"mesh3d\":[{\"type\":\"mesh3d\",\"colorbar\":{\"outlinewidth\":0,\"ticks\":\"\"}}],\"scatter\":[{\"fillpattern\":{\"fillmode\":\"overlay\",\"size\":10,\"solidity\":0.2},\"type\":\"scatter\"}],\"parcoords\":[{\"type\":\"parcoords\",\"line\":{\"colorbar\":{\"outlinewidth\":0,\"ticks\":\"\"}}}],\"scatterpolargl\":[{\"type\":\"scatterpolargl\",\"marker\":{\"colorbar\":{\"outlinewidth\":0,\"ticks\":\"\"}}}],\"bar\":[{\"error_x\":{\"color\":\"#2a3f5f\"},\"error_y\":{\"color\":\"#2a3f5f\"},\"marker\":{\"line\":{\"color\":\"#E5ECF6\",\"width\":0.5},\"pattern\":{\"fillmode\":\"overlay\",\"size\":10,\"solidity\":0.2}},\"type\":\"bar\"}],\"scattergeo\":[{\"type\":\"scattergeo\",\"marker\":{\"colorbar\":{\"outlinewidth\":0,\"ticks\":\"\"}}}],\"scatterpolar\":[{\"type\":\"scatterpolar\",\"marker\":{\"colorbar\":{\"outlinewidth\":0,\"ticks\":\"\"}}}],\"histogram\":[{\"marker\":{\"pattern\":{\"fillmode\":\"overlay\",\"size\":10,\"solidity\":0.2}},\"type\":\"histogram\"}],\"scattergl\":[{\"type\":\"scattergl\",\"marker\":{\"colorbar\":{\"outlinewidth\":0,\"ticks\":\"\"}}}],\"scatter3d\":[{\"type\":\"scatter3d\",\"line\":{\"colorbar\":{\"outlinewidth\":0,\"ticks\":\"\"}},\"marker\":{\"colorbar\":{\"outlinewidth\":0,\"ticks\":\"\"}}}],\"scattermapbox\":[{\"type\":\"scattermapbox\",\"marker\":{\"colorbar\":{\"outlinewidth\":0,\"ticks\":\"\"}}}],\"scatterternary\":[{\"type\":\"scatterternary\",\"marker\":{\"colorbar\":{\"outlinewidth\":0,\"ticks\":\"\"}}}],\"scattercarpet\":[{\"type\":\"scattercarpet\",\"marker\":{\"colorbar\":{\"outlinewidth\":0,\"ticks\":\"\"}}}],\"carpet\":[{\"aaxis\":{\"endlinecolor\":\"#2a3f5f\",\"gridcolor\":\"white\",\"linecolor\":\"white\",\"minorgridcolor\":\"white\",\"startlinecolor\":\"#2a3f5f\"},\"baxis\":{\"endlinecolor\":\"#2a3f5f\",\"gridcolor\":\"white\",\"linecolor\":\"white\",\"minorgridcolor\":\"white\",\"startlinecolor\":\"#2a3f5f\"},\"type\":\"carpet\"}],\"table\":[{\"cells\":{\"fill\":{\"color\":\"#EBF0F8\"},\"line\":{\"color\":\"white\"}},\"header\":{\"fill\":{\"color\":\"#C8D4E3\"},\"line\":{\"color\":\"white\"}},\"type\":\"table\"}],\"barpolar\":[{\"marker\":{\"line\":{\"color\":\"#E5ECF6\",\"width\":0.5},\"pattern\":{\"fillmode\":\"overlay\",\"size\":10,\"solidity\":0.2}},\"type\":\"barpolar\"}],\"pie\":[{\"automargin\":true,\"type\":\"pie\"}]},\"layout\":{\"autotypenumbers\":\"strict\",\"colorway\":[\"#636efa\",\"#EF553B\",\"#00cc96\",\"#ab63fa\",\"#FFA15A\",\"#19d3f3\",\"#FF6692\",\"#B6E880\",\"#FF97FF\",\"#FECB52\"],\"font\":{\"color\":\"#2a3f5f\"},\"hovermode\":\"closest\",\"hoverlabel\":{\"align\":\"left\"},\"paper_bgcolor\":\"white\",\"plot_bgcolor\":\"#E5ECF6\",\"polar\":{\"bgcolor\":\"#E5ECF6\",\"angularaxis\":{\"gridcolor\":\"white\",\"linecolor\":\"white\",\"ticks\":\"\"},\"radialaxis\":{\"gridcolor\":\"white\",\"linecolor\":\"white\",\"ticks\":\"\"}},\"ternary\":{\"bgcolor\":\"#E5ECF6\",\"aaxis\":{\"gridcolor\":\"white\",\"linecolor\":\"white\",\"ticks\":\"\"},\"baxis\":{\"gridcolor\":\"white\",\"linecolor\":\"white\",\"ticks\":\"\"},\"caxis\":{\"gridcolor\":\"white\",\"linecolor\":\"white\",\"ticks\":\"\"}},\"coloraxis\":{\"colorbar\":{\"outlinewidth\":0,\"ticks\":\"\"}},\"colorscale\":{\"sequential\":[[0.0,\"#0d0887\"],[0.1111111111111111,\"#46039f\"],[0.2222222222222222,\"#7201a8\"],[0.3333333333333333,\"#9c179e\"],[0.4444444444444444,\"#bd3786\"],[0.5555555555555556,\"#d8576b\"],[0.6666666666666666,\"#ed7953\"],[0.7777777777777778,\"#fb9f3a\"],[0.8888888888888888,\"#fdca26\"],[1.0,\"#f0f921\"]],\"sequentialminus\":[[0.0,\"#0d0887\"],[0.1111111111111111,\"#46039f\"],[0.2222222222222222,\"#7201a8\"],[0.3333333333333333,\"#9c179e\"],[0.4444444444444444,\"#bd3786\"],[0.5555555555555556,\"#d8576b\"],[0.6666666666666666,\"#ed7953\"],[0.7777777777777778,\"#fb9f3a\"],[0.8888888888888888,\"#fdca26\"],[1.0,\"#f0f921\"]],\"diverging\":[[0,\"#8e0152\"],[0.1,\"#c51b7d\"],[0.2,\"#de77ae\"],[0.3,\"#f1b6da\"],[0.4,\"#fde0ef\"],[0.5,\"#f7f7f7\"],[0.6,\"#e6f5d0\"],[0.7,\"#b8e186\"],[0.8,\"#7fbc41\"],[0.9,\"#4d9221\"],[1,\"#276419\"]]},\"xaxis\":{\"gridcolor\":\"white\",\"linecolor\":\"white\",\"ticks\":\"\",\"title\":{\"standoff\":15},\"zerolinecolor\":\"white\",\"automargin\":true,\"zerolinewidth\":2},\"yaxis\":{\"gridcolor\":\"white\",\"linecolor\":\"white\",\"ticks\":\"\",\"title\":{\"standoff\":15},\"zerolinecolor\":\"white\",\"automargin\":true,\"zerolinewidth\":2},\"scene\":{\"xaxis\":{\"backgroundcolor\":\"#E5ECF6\",\"gridcolor\":\"white\",\"linecolor\":\"white\",\"showbackground\":true,\"ticks\":\"\",\"zerolinecolor\":\"white\",\"gridwidth\":2},\"yaxis\":{\"backgroundcolor\":\"#E5ECF6\",\"gridcolor\":\"white\",\"linecolor\":\"white\",\"showbackground\":true,\"ticks\":\"\",\"zerolinecolor\":\"white\",\"gridwidth\":2},\"zaxis\":{\"backgroundcolor\":\"#E5ECF6\",\"gridcolor\":\"white\",\"linecolor\":\"white\",\"showbackground\":true,\"ticks\":\"\",\"zerolinecolor\":\"white\",\"gridwidth\":2}},\"shapedefaults\":{\"line\":{\"color\":\"#2a3f5f\"}},\"annotationdefaults\":{\"arrowcolor\":\"#2a3f5f\",\"arrowhead\":0,\"arrowwidth\":1},\"geo\":{\"bgcolor\":\"white\",\"landcolor\":\"#E5ECF6\",\"subunitcolor\":\"white\",\"showland\":true,\"showlakes\":true,\"lakecolor\":\"white\"},\"title\":{\"x\":0.05},\"mapbox\":{\"style\":\"light\"}}},\"legend\":{\"tracegroupgap\":0},\"margin\":{\"t\":60},\"font\":{\"size\":13,\"color\":\"black\",\"family\":\"Helvetica\"},\"title\":{\"text\":\"\\u0e41\\u0e1c\\u0e19\\u0e20\\u0e39\\u0e21\\u0e34\\u0e27\\u0e07\\u0e01\\u0e25\\u0e21\\u0e41\\u0e2a\\u0e14\\u0e07\\u0e17\\u0e35\\u0e48\\u0e1c\\u0e39\\u0e49\\u0e15\\u0e2d\\u0e1a\\u0e41\\u0e1a\\u0e1a\\u0e2a\\u0e2d\\u0e1a\\u0e16\\u0e32\\u0e21\\u0e40\\u0e25\\u0e37\\u0e2d\\u0e01\\u0e43\\u0e0a\\u0e49\\u0e2d\\u0e38\\u0e15\\u0e2a\\u0e32\\u0e2b\\u0e01\\u0e23\\u0e23\\u0e21\\u0e04\\u0e27\\u0e32\\u0e21\\u0e1a\\u0e31\\u0e19\\u0e40\\u0e17\\u0e34\\u0e07\\u0e41\\u0e15\\u0e48\\u0e25\\u0e30\\u0e1b\\u0e23\\u0e30\\u0e40\\u0e20\\u0e17\\u0e43\\u0e19\\u0e01\\u0e32\\u0e23\\u0e04\\u0e25\\u0e32\\u0e22\\u0e04\\u0e27\\u0e32\\u0e21\\u0e40\\u0e04\\u0e23\\u0e35\\u0e22\\u0e14\",\"font\":{\"size\":20,\"color\":\"black\",\"family\":\"Helvetica\"},\"x\":0.5},\"plot_bgcolor\":\"white\",\"height\":500,\"width\":900,\"showlegend\":true},                        {\"responsive\": true}                    ).then(function(){\n",
              "                            \n",
              "var gd = document.getElementById('9b1c172f-384d-4af5-9a1a-ae2e59f862c9');\n",
              "var x = new MutationObserver(function (mutations, observer) {{\n",
              "        var display = window.getComputedStyle(gd).display;\n",
              "        if (!display || display === 'none') {{\n",
              "            console.log([gd, 'removed!']);\n",
              "            Plotly.purge(gd);\n",
              "            observer.disconnect();\n",
              "        }}\n",
              "}});\n",
              "\n",
              "// Listen for the removal of the full notebook cells\n",
              "var notebookContainer = gd.closest('#notebook-container');\n",
              "if (notebookContainer) {{\n",
              "    x.observe(notebookContainer, {childList: true});\n",
              "}}\n",
              "\n",
              "// Listen for the clearing of the current output cell\n",
              "var outputEl = gd.closest('.output');\n",
              "if (outputEl) {{\n",
              "    x.observe(outputEl, {childList: true});\n",
              "}}\n",
              "\n",
              "                        })                };                            </script>        </div>\n",
              "</body>\n",
              "</html>"
            ]
          },
          "metadata": {}
        }
      ],
      "source": [
        "grouped_dfm = df['category'].value_counts()\n",
        "\n",
        "fig = px.pie(values=grouped_dfm, names=grouped_dfm.index)\n",
        "fig.update_traces(pull=[0.02]*len(grouped_dfm), textinfo='percent+value',marker=dict(colors=['#E45756','#F58518','#47B39C','#1D3557']))\n",
        "fig.update_layout(title='แผนภูมิวงกลมแสดงที่ผู้ตอบแบบสอบถามเลือกใช้อุตสาหกรรมความบันเทิงแต่ละประเภทในการคลายความเครียด',\n",
        "                  plot_bgcolor='white',\n",
        "                  height=500,\n",
        "                  width=900,\n",
        "                  font=dict(size=13, color='black', family='Helvetica'),\n",
        "                  title_font=dict(size=20, color='black', family='Helvetica'),\n",
        "                  showlegend=True)\n",
        "fig.update_layout(title_x=0.5)\n",
        "fig.show()\n"
      ]
    },
    {
      "cell_type": "markdown",
      "metadata": {
        "id": "FWSVhYXHYh52"
      },
      "source": [
        "#MUSIC"
      ]
    },
    {
      "cell_type": "code",
      "execution_count": null,
      "metadata": {
        "id": "xs1JZGpez6K5"
      },
      "outputs": [],
      "source": [
        "df_ms = df[df['category'] == 'เพลง']"
      ]
    },
    {
      "cell_type": "markdown",
      "metadata": {
        "id": "xpL0LPadI22Q"
      },
      "source": [
        "###แผนภูมิวงกลมแสดงจำนวนนักศึกษาที่เลือกเพลงเพื่อคลายความเครียดจำแนกตามเพศ"
      ]
    },
    {
      "cell_type": "code",
      "execution_count": null,
      "metadata": {
        "colab": {
          "base_uri": "https://localhost:8080/",
          "height": 537
        },
        "id": "Dyta-Bp-LZsD",
        "outputId": "605643c8-93a7-452f-fbc9-7f684fe07add"
      },
      "outputs": [
        {
          "output_type": "display_data",
          "data": {
            "text/html": [
              "<html>\n",
              "<head><meta charset=\"utf-8\" /></head>\n",
              "<body>\n",
              "    <div>            <script src=\"https://cdnjs.cloudflare.com/ajax/libs/mathjax/2.7.5/MathJax.js?config=TeX-AMS-MML_SVG\"></script><script type=\"text/javascript\">if (window.MathJax && window.MathJax.Hub && window.MathJax.Hub.Config) {window.MathJax.Hub.Config({SVG: {font: \"STIX-Web\"}});}</script>                <script type=\"text/javascript\">window.PlotlyConfig = {MathJaxConfig: 'local'};</script>\n",
              "        <script src=\"https://cdn.plot.ly/plotly-2.18.2.min.js\"></script>                <div id=\"c78a2e7f-bfe5-4dc1-b4dd-27f8a81405b4\" class=\"plotly-graph-div\" style=\"height:500px; width:850px;\"></div>            <script type=\"text/javascript\">                                    window.PLOTLYENV=window.PLOTLYENV || {};                                    if (document.getElementById(\"c78a2e7f-bfe5-4dc1-b4dd-27f8a81405b4\")) {                    Plotly.newPlot(                        \"c78a2e7f-bfe5-4dc1-b4dd-27f8a81405b4\",                        [{\"domain\":{\"x\":[0.0,1.0],\"y\":[0.0,1.0]},\"hovertemplate\":\"label=%{label}<br>value=%{value}<extra></extra>\",\"labels\":[\"\\u0e2b\\u0e0d\\u0e34\\u0e07\",\"\\u0e0a\\u0e32\\u0e22\",\"\\u0e44\\u0e21\\u0e48\\u0e23\\u0e30\\u0e1a\\u0e38\",\"LGBTQ+\"],\"legendgroup\":\"\",\"name\":\"\",\"showlegend\":true,\"values\":[39,6,4,1],\"type\":\"pie\",\"marker\":{\"colors\":[\"#636EFA\",\"#EF553B\",\"#00CC96\",\"#AB63FA\",\"#FFA15A\",\"#19D3F3\",\"#FF6692\",\"#B6E880\",\"#FF97FF\",\"#FECB52\"]},\"pull\":[0.02,0.02,0.02,0.02],\"textinfo\":\"percent+value\"}],                        {\"template\":{\"data\":{\"histogram2dcontour\":[{\"type\":\"histogram2dcontour\",\"colorbar\":{\"outlinewidth\":0,\"ticks\":\"\"},\"colorscale\":[[0.0,\"#0d0887\"],[0.1111111111111111,\"#46039f\"],[0.2222222222222222,\"#7201a8\"],[0.3333333333333333,\"#9c179e\"],[0.4444444444444444,\"#bd3786\"],[0.5555555555555556,\"#d8576b\"],[0.6666666666666666,\"#ed7953\"],[0.7777777777777778,\"#fb9f3a\"],[0.8888888888888888,\"#fdca26\"],[1.0,\"#f0f921\"]]}],\"choropleth\":[{\"type\":\"choropleth\",\"colorbar\":{\"outlinewidth\":0,\"ticks\":\"\"}}],\"histogram2d\":[{\"type\":\"histogram2d\",\"colorbar\":{\"outlinewidth\":0,\"ticks\":\"\"},\"colorscale\":[[0.0,\"#0d0887\"],[0.1111111111111111,\"#46039f\"],[0.2222222222222222,\"#7201a8\"],[0.3333333333333333,\"#9c179e\"],[0.4444444444444444,\"#bd3786\"],[0.5555555555555556,\"#d8576b\"],[0.6666666666666666,\"#ed7953\"],[0.7777777777777778,\"#fb9f3a\"],[0.8888888888888888,\"#fdca26\"],[1.0,\"#f0f921\"]]}],\"heatmap\":[{\"type\":\"heatmap\",\"colorbar\":{\"outlinewidth\":0,\"ticks\":\"\"},\"colorscale\":[[0.0,\"#0d0887\"],[0.1111111111111111,\"#46039f\"],[0.2222222222222222,\"#7201a8\"],[0.3333333333333333,\"#9c179e\"],[0.4444444444444444,\"#bd3786\"],[0.5555555555555556,\"#d8576b\"],[0.6666666666666666,\"#ed7953\"],[0.7777777777777778,\"#fb9f3a\"],[0.8888888888888888,\"#fdca26\"],[1.0,\"#f0f921\"]]}],\"heatmapgl\":[{\"type\":\"heatmapgl\",\"colorbar\":{\"outlinewidth\":0,\"ticks\":\"\"},\"colorscale\":[[0.0,\"#0d0887\"],[0.1111111111111111,\"#46039f\"],[0.2222222222222222,\"#7201a8\"],[0.3333333333333333,\"#9c179e\"],[0.4444444444444444,\"#bd3786\"],[0.5555555555555556,\"#d8576b\"],[0.6666666666666666,\"#ed7953\"],[0.7777777777777778,\"#fb9f3a\"],[0.8888888888888888,\"#fdca26\"],[1.0,\"#f0f921\"]]}],\"contourcarpet\":[{\"type\":\"contourcarpet\",\"colorbar\":{\"outlinewidth\":0,\"ticks\":\"\"}}],\"contour\":[{\"type\":\"contour\",\"colorbar\":{\"outlinewidth\":0,\"ticks\":\"\"},\"colorscale\":[[0.0,\"#0d0887\"],[0.1111111111111111,\"#46039f\"],[0.2222222222222222,\"#7201a8\"],[0.3333333333333333,\"#9c179e\"],[0.4444444444444444,\"#bd3786\"],[0.5555555555555556,\"#d8576b\"],[0.6666666666666666,\"#ed7953\"],[0.7777777777777778,\"#fb9f3a\"],[0.8888888888888888,\"#fdca26\"],[1.0,\"#f0f921\"]]}],\"surface\":[{\"type\":\"surface\",\"colorbar\":{\"outlinewidth\":0,\"ticks\":\"\"},\"colorscale\":[[0.0,\"#0d0887\"],[0.1111111111111111,\"#46039f\"],[0.2222222222222222,\"#7201a8\"],[0.3333333333333333,\"#9c179e\"],[0.4444444444444444,\"#bd3786\"],[0.5555555555555556,\"#d8576b\"],[0.6666666666666666,\"#ed7953\"],[0.7777777777777778,\"#fb9f3a\"],[0.8888888888888888,\"#fdca26\"],[1.0,\"#f0f921\"]]}],\"mesh3d\":[{\"type\":\"mesh3d\",\"colorbar\":{\"outlinewidth\":0,\"ticks\":\"\"}}],\"scatter\":[{\"fillpattern\":{\"fillmode\":\"overlay\",\"size\":10,\"solidity\":0.2},\"type\":\"scatter\"}],\"parcoords\":[{\"type\":\"parcoords\",\"line\":{\"colorbar\":{\"outlinewidth\":0,\"ticks\":\"\"}}}],\"scatterpolargl\":[{\"type\":\"scatterpolargl\",\"marker\":{\"colorbar\":{\"outlinewidth\":0,\"ticks\":\"\"}}}],\"bar\":[{\"error_x\":{\"color\":\"#2a3f5f\"},\"error_y\":{\"color\":\"#2a3f5f\"},\"marker\":{\"line\":{\"color\":\"#E5ECF6\",\"width\":0.5},\"pattern\":{\"fillmode\":\"overlay\",\"size\":10,\"solidity\":0.2}},\"type\":\"bar\"}],\"scattergeo\":[{\"type\":\"scattergeo\",\"marker\":{\"colorbar\":{\"outlinewidth\":0,\"ticks\":\"\"}}}],\"scatterpolar\":[{\"type\":\"scatterpolar\",\"marker\":{\"colorbar\":{\"outlinewidth\":0,\"ticks\":\"\"}}}],\"histogram\":[{\"marker\":{\"pattern\":{\"fillmode\":\"overlay\",\"size\":10,\"solidity\":0.2}},\"type\":\"histogram\"}],\"scattergl\":[{\"type\":\"scattergl\",\"marker\":{\"colorbar\":{\"outlinewidth\":0,\"ticks\":\"\"}}}],\"scatter3d\":[{\"type\":\"scatter3d\",\"line\":{\"colorbar\":{\"outlinewidth\":0,\"ticks\":\"\"}},\"marker\":{\"colorbar\":{\"outlinewidth\":0,\"ticks\":\"\"}}}],\"scattermapbox\":[{\"type\":\"scattermapbox\",\"marker\":{\"colorbar\":{\"outlinewidth\":0,\"ticks\":\"\"}}}],\"scatterternary\":[{\"type\":\"scatterternary\",\"marker\":{\"colorbar\":{\"outlinewidth\":0,\"ticks\":\"\"}}}],\"scattercarpet\":[{\"type\":\"scattercarpet\",\"marker\":{\"colorbar\":{\"outlinewidth\":0,\"ticks\":\"\"}}}],\"carpet\":[{\"aaxis\":{\"endlinecolor\":\"#2a3f5f\",\"gridcolor\":\"white\",\"linecolor\":\"white\",\"minorgridcolor\":\"white\",\"startlinecolor\":\"#2a3f5f\"},\"baxis\":{\"endlinecolor\":\"#2a3f5f\",\"gridcolor\":\"white\",\"linecolor\":\"white\",\"minorgridcolor\":\"white\",\"startlinecolor\":\"#2a3f5f\"},\"type\":\"carpet\"}],\"table\":[{\"cells\":{\"fill\":{\"color\":\"#EBF0F8\"},\"line\":{\"color\":\"white\"}},\"header\":{\"fill\":{\"color\":\"#C8D4E3\"},\"line\":{\"color\":\"white\"}},\"type\":\"table\"}],\"barpolar\":[{\"marker\":{\"line\":{\"color\":\"#E5ECF6\",\"width\":0.5},\"pattern\":{\"fillmode\":\"overlay\",\"size\":10,\"solidity\":0.2}},\"type\":\"barpolar\"}],\"pie\":[{\"automargin\":true,\"type\":\"pie\"}]},\"layout\":{\"autotypenumbers\":\"strict\",\"colorway\":[\"#636efa\",\"#EF553B\",\"#00cc96\",\"#ab63fa\",\"#FFA15A\",\"#19d3f3\",\"#FF6692\",\"#B6E880\",\"#FF97FF\",\"#FECB52\"],\"font\":{\"color\":\"#2a3f5f\"},\"hovermode\":\"closest\",\"hoverlabel\":{\"align\":\"left\"},\"paper_bgcolor\":\"white\",\"plot_bgcolor\":\"#E5ECF6\",\"polar\":{\"bgcolor\":\"#E5ECF6\",\"angularaxis\":{\"gridcolor\":\"white\",\"linecolor\":\"white\",\"ticks\":\"\"},\"radialaxis\":{\"gridcolor\":\"white\",\"linecolor\":\"white\",\"ticks\":\"\"}},\"ternary\":{\"bgcolor\":\"#E5ECF6\",\"aaxis\":{\"gridcolor\":\"white\",\"linecolor\":\"white\",\"ticks\":\"\"},\"baxis\":{\"gridcolor\":\"white\",\"linecolor\":\"white\",\"ticks\":\"\"},\"caxis\":{\"gridcolor\":\"white\",\"linecolor\":\"white\",\"ticks\":\"\"}},\"coloraxis\":{\"colorbar\":{\"outlinewidth\":0,\"ticks\":\"\"}},\"colorscale\":{\"sequential\":[[0.0,\"#0d0887\"],[0.1111111111111111,\"#46039f\"],[0.2222222222222222,\"#7201a8\"],[0.3333333333333333,\"#9c179e\"],[0.4444444444444444,\"#bd3786\"],[0.5555555555555556,\"#d8576b\"],[0.6666666666666666,\"#ed7953\"],[0.7777777777777778,\"#fb9f3a\"],[0.8888888888888888,\"#fdca26\"],[1.0,\"#f0f921\"]],\"sequentialminus\":[[0.0,\"#0d0887\"],[0.1111111111111111,\"#46039f\"],[0.2222222222222222,\"#7201a8\"],[0.3333333333333333,\"#9c179e\"],[0.4444444444444444,\"#bd3786\"],[0.5555555555555556,\"#d8576b\"],[0.6666666666666666,\"#ed7953\"],[0.7777777777777778,\"#fb9f3a\"],[0.8888888888888888,\"#fdca26\"],[1.0,\"#f0f921\"]],\"diverging\":[[0,\"#8e0152\"],[0.1,\"#c51b7d\"],[0.2,\"#de77ae\"],[0.3,\"#f1b6da\"],[0.4,\"#fde0ef\"],[0.5,\"#f7f7f7\"],[0.6,\"#e6f5d0\"],[0.7,\"#b8e186\"],[0.8,\"#7fbc41\"],[0.9,\"#4d9221\"],[1,\"#276419\"]]},\"xaxis\":{\"gridcolor\":\"white\",\"linecolor\":\"white\",\"ticks\":\"\",\"title\":{\"standoff\":15},\"zerolinecolor\":\"white\",\"automargin\":true,\"zerolinewidth\":2},\"yaxis\":{\"gridcolor\":\"white\",\"linecolor\":\"white\",\"ticks\":\"\",\"title\":{\"standoff\":15},\"zerolinecolor\":\"white\",\"automargin\":true,\"zerolinewidth\":2},\"scene\":{\"xaxis\":{\"backgroundcolor\":\"#E5ECF6\",\"gridcolor\":\"white\",\"linecolor\":\"white\",\"showbackground\":true,\"ticks\":\"\",\"zerolinecolor\":\"white\",\"gridwidth\":2},\"yaxis\":{\"backgroundcolor\":\"#E5ECF6\",\"gridcolor\":\"white\",\"linecolor\":\"white\",\"showbackground\":true,\"ticks\":\"\",\"zerolinecolor\":\"white\",\"gridwidth\":2},\"zaxis\":{\"backgroundcolor\":\"#E5ECF6\",\"gridcolor\":\"white\",\"linecolor\":\"white\",\"showbackground\":true,\"ticks\":\"\",\"zerolinecolor\":\"white\",\"gridwidth\":2}},\"shapedefaults\":{\"line\":{\"color\":\"#2a3f5f\"}},\"annotationdefaults\":{\"arrowcolor\":\"#2a3f5f\",\"arrowhead\":0,\"arrowwidth\":1},\"geo\":{\"bgcolor\":\"white\",\"landcolor\":\"#E5ECF6\",\"subunitcolor\":\"white\",\"showland\":true,\"showlakes\":true,\"lakecolor\":\"white\"},\"title\":{\"x\":0.05},\"mapbox\":{\"style\":\"light\"}}},\"legend\":{\"tracegroupgap\":0},\"margin\":{\"t\":60},\"font\":{\"size\":12,\"color\":\"black\",\"family\":\"Helvetica\"},\"title\":{\"text\":\"\\u0e41\\u0e1c\\u0e19\\u0e20\\u0e39\\u0e21\\u0e34\\u0e27\\u0e07\\u0e01\\u0e25\\u0e21\\u0e41\\u0e2a\\u0e14\\u0e07\\u0e08\\u0e33\\u0e19\\u0e27\\u0e19\\u0e19\\u0e31\\u0e01\\u0e28\\u0e36\\u0e01\\u0e29\\u0e32\\u0e17\\u0e35\\u0e48\\u0e40\\u0e25\\u0e37\\u0e2d\\u0e01\\u0e40\\u0e1e\\u0e25\\u0e07\\u0e40\\u0e1e\\u0e37\\u0e48\\u0e2d\\u0e04\\u0e25\\u0e32\\u0e22\\u0e04\\u0e27\\u0e32\\u0e21\\u0e40\\u0e04\\u0e23\\u0e35\\u0e22\\u0e14\\u0e08\\u0e33\\u0e41\\u0e19\\u0e01\\u0e15\\u0e32\\u0e21\\u0e40\\u0e1e\\u0e28\",\"font\":{\"size\":20,\"color\":\"black\",\"family\":\"Helvetica\"}},\"plot_bgcolor\":\"white\",\"height\":500,\"width\":850,\"showlegend\":true},                        {\"responsive\": true}                    ).then(function(){\n",
              "                            \n",
              "var gd = document.getElementById('c78a2e7f-bfe5-4dc1-b4dd-27f8a81405b4');\n",
              "var x = new MutationObserver(function (mutations, observer) {{\n",
              "        var display = window.getComputedStyle(gd).display;\n",
              "        if (!display || display === 'none') {{\n",
              "            console.log([gd, 'removed!']);\n",
              "            Plotly.purge(gd);\n",
              "            observer.disconnect();\n",
              "        }}\n",
              "}});\n",
              "\n",
              "// Listen for the removal of the full notebook cells\n",
              "var notebookContainer = gd.closest('#notebook-container');\n",
              "if (notebookContainer) {{\n",
              "    x.observe(notebookContainer, {childList: true});\n",
              "}}\n",
              "\n",
              "// Listen for the clearing of the current output cell\n",
              "var outputEl = gd.closest('.output');\n",
              "if (outputEl) {{\n",
              "    x.observe(outputEl, {childList: true});\n",
              "}}\n",
              "\n",
              "                        })                };                            </script>        </div>\n",
              "</body>\n",
              "</html>"
            ]
          },
          "metadata": {}
        }
      ],
      "source": [
        "import plotly.express as px\n",
        "\n",
        "grouped_dfm = df_ms['gender'].value_counts()\n",
        "\n",
        "fig = px.pie(values=grouped_dfm, names=grouped_dfm.index)\n",
        "fig.update_traces(pull=[0.02]*len(grouped_dfm), textinfo='percent+value',marker=dict(colors=px.colors.qualitative.Plotly))\n",
        "fig.update_layout(title='แผนภูมิวงกลมแสดงจำนวนนักศึกษาที่เลือกเพลงเพื่อคลายความเครียดจำแนกตามเพศ',\n",
        "                  plot_bgcolor='white',\n",
        "                  height=500,\n",
        "                  width=850,\n",
        "                  font=dict(size=12, color='black', family='Helvetica'),\n",
        "                  title_font=dict(size=20, color='black', family='Helvetica'),\n",
        "                  showlegend=True)\n",
        "fig.show()"
      ]
    },
    {
      "cell_type": "markdown",
      "metadata": {
        "id": "Kf7pUm8W0NiK"
      },
      "source": [
        "###Word Cloud แสดงรูปแบบของเพลงตามจังหวะ ประเภทที่ฟังเพื่อคลายความเครียดมากที่สุด\n",
        "\n",
        "\n",
        "\n"
      ]
    },
    {
      "cell_type": "code",
      "execution_count": null,
      "metadata": {
        "id": "YBEsYm5iwYNi"
      },
      "outputs": [],
      "source": [
        "df_ms = df_ms.replace('ป๊อป (POP)','POP')\n",
        "df_ms = df_ms.replace('ริทึมแอนด์บลูส์ (R&B)','RB')\n",
        "df_ms = df_ms.replace('อิเล็กทรอนิกส์ (Electronic)','Electronic')\n",
        "df_ms = df_ms.replace('แจ๊ส (Jazz)','Jazz')\n",
        "df_ms = df_ms.replace('เพลงบรรเลง (Instrumental)','Instrumental')\n",
        "df_ms = df_ms.replace('ร็อก (Rock)','Rock')\n",
        "df_ms = df_ms.replace('คลาสสิก (Classic)','Classic')\n",
        "df_ms = df_ms.replace('ฮิปฮอป (Hip hop)','HipHop')\n",
        "\n",
        "b1 = len(df_ms[df_ms['s_beat'] == 'POP'])\n",
        "b2 =len(df_ms[df_ms['s_beat'] == 'R&B'])\n",
        "b3 =len(df_ms[df_ms['s_beat'] == 'Electronic'])\n",
        "b4 =len(df_ms[df_ms['s_beat'] == 'Jazz'])\n",
        "b5 =len(df_ms[df_ms['s_beat'] == 'Instrumental'])\n",
        "b6 =len(df_ms[df_ms['s_beat'] == 'Rock'])\n",
        "b7 =len(df_ms[df_ms['s_beat'] == 'Classic'])\n",
        "b8 =len(df_ms[df_ms['s_beat'] == 'Hip hop'])\n",
        "\n",
        "ms_beat= {'Name':['POP','R&B','Electronic',\n",
        "                'Jazz','Instrumental','Rock',\n",
        "                'Classic','Hip hop'], 'count_sbeat':[b1,b2,b3,b4,b5,b6,b7,b8,]}\n",
        "df_ms_beat = pd.DataFrame(ms_beat)"
      ]
    },
    {
      "cell_type": "code",
      "execution_count": null,
      "metadata": {
        "colab": {
          "base_uri": "https://localhost:8080/",
          "height": 452
        },
        "id": "Oh_GEZnK0-Yz",
        "outputId": "52ccaf7c-212c-46f2-d032-fdc86b77a89e"
      },
      "outputs": [
        {
          "output_type": "display_data",
          "data": {
            "text/plain": [
              "<Figure size 500x500 with 1 Axes>"
            ],
            "image/png": "[encoded data removed]"
          },
          "metadata": {}
        }
      ],
      "source": [
        "from wordcloud import WordCloud\n",
        "import matplotlib.pyplot as plt\n",
        "\n",
        "# Combine all m_type values into a single string\n",
        "text = ' '.join(df_ms['s_beat'].astype(str).tolist())\n",
        "\n",
        "# Generate word cloud image\n",
        "wordcloud = WordCloud(width=800, height=800, background_color='white').generate(text)\n",
        "plt.figure(figsize=(5, 5))\n",
        "# Create a title with a colored rectangle behind it\n",
        "title = 'Word Cloud แสดงรูปแบบของเพลงตามจังหวะ ประเภทที่ฟังเพื่อคลายความเครียดมากที่สุด'\n",
        "title_box = dict(boxstyle='round', facecolor='lightblue', alpha=0.8)\n",
        "plt.text(0.5, 1.05, title, size=15, ha='center', va='center', transform=plt.gca().transAxes, bbox=title_box)\n",
        "\n",
        "# Display the image\n",
        "plt.imshow(wordcloud, interpolation='bilinear')\n",
        "plt.axis('off')\n",
        "plt.tight_layout(pad=0)\n",
        "plt.savefig('m_friend.png', dpi=1200)\n",
        "plt.show()\n"
      ]
    },
    {
      "cell_type": "markdown",
      "metadata": {
        "id": "-pCo2ktz0NeN"
      },
      "source": [
        "###คุณชอบฟังเพลงในรูปแบบของเพลงตามเครื่องดนตรีและเนื้อหา ประเภทใดเพื่อคลายความเครียดมากที่สุด"
      ]
    },
    {
      "cell_type": "code",
      "execution_count": null,
      "metadata": {
        "colab": {
          "base_uri": "https://localhost:8080/",
          "height": 537
        },
        "id": "yeeRKLNv0yna",
        "outputId": "1aef73e4-b5fa-4ba0-ce39-f7e980f02e7f"
      },
      "outputs": [
        {
          "output_type": "display_data",
          "data": {
            "text/html": [
              "<html>\n",
              "<head><meta charset=\"utf-8\" /></head>\n",
              "<body>\n",
              "    <div>            <script src=\"https://cdnjs.cloudflare.com/ajax/libs/mathjax/2.7.5/MathJax.js?config=TeX-AMS-MML_SVG\"></script><script type=\"text/javascript\">if (window.MathJax && window.MathJax.Hub && window.MathJax.Hub.Config) {window.MathJax.Hub.Config({SVG: {font: \"STIX-Web\"}});}</script>                <script type=\"text/javascript\">window.PlotlyConfig = {MathJaxConfig: 'local'};</script>\n",
              "        <script src=\"https://cdn.plot.ly/plotly-2.18.2.min.js\"></script>                <div id=\"74afeaab-0522-4e01-a202-2a0430a44e17\" class=\"plotly-graph-div\" style=\"height:500px; width:750px;\"></div>            <script type=\"text/javascript\">                                    window.PLOTLYENV=window.PLOTLYENV || {};                                    if (document.getElementById(\"74afeaab-0522-4e01-a202-2a0430a44e17\")) {                    Plotly.newPlot(                        \"74afeaab-0522-4e01-a202-2a0430a44e17\",                        [{\"domain\":{\"x\":[0.0,1.0],\"y\":[0.0,1.0]},\"hovertemplate\":\"label=%{label}<br>value=%{value}<extra></extra>\",\"labels\":[\"\\u0e40\\u0e1e\\u0e25\\u0e07\\u0e2a\\u0e32\\u0e01\\u0e25\",\"\\u0e40\\u0e1e\\u0e25\\u0e07\\u0e44\\u0e17\\u0e22\\u0e2a\\u0e32\\u0e01\\u0e25\",\"\\u0e40\\u0e1e\\u0e25\\u0e07\\u0e44\\u0e17\\u0e22\\u0e40\\u0e14\\u0e34\\u0e21\"],\"legendgroup\":\"\",\"name\":\"\",\"showlegend\":true,\"values\":[26,23,1],\"type\":\"pie\",\"marker\":{\"colors\":[\"#636EFA\",\"#EF553B\",\"#00CC96\",\"#AB63FA\",\"#FFA15A\",\"#19D3F3\",\"#FF6692\",\"#B6E880\",\"#FF97FF\",\"#FECB52\"]},\"pull\":[0.02,0.02,0.02],\"textinfo\":\"percent+value\"}],                        {\"template\":{\"data\":{\"histogram2dcontour\":[{\"type\":\"histogram2dcontour\",\"colorbar\":{\"outlinewidth\":0,\"ticks\":\"\"},\"colorscale\":[[0.0,\"#0d0887\"],[0.1111111111111111,\"#46039f\"],[0.2222222222222222,\"#7201a8\"],[0.3333333333333333,\"#9c179e\"],[0.4444444444444444,\"#bd3786\"],[0.5555555555555556,\"#d8576b\"],[0.6666666666666666,\"#ed7953\"],[0.7777777777777778,\"#fb9f3a\"],[0.8888888888888888,\"#fdca26\"],[1.0,\"#f0f921\"]]}],\"choropleth\":[{\"type\":\"choropleth\",\"colorbar\":{\"outlinewidth\":0,\"ticks\":\"\"}}],\"histogram2d\":[{\"type\":\"histogram2d\",\"colorbar\":{\"outlinewidth\":0,\"ticks\":\"\"},\"colorscale\":[[0.0,\"#0d0887\"],[0.1111111111111111,\"#46039f\"],[0.2222222222222222,\"#7201a8\"],[0.3333333333333333,\"#9c179e\"],[0.4444444444444444,\"#bd3786\"],[0.5555555555555556,\"#d8576b\"],[0.6666666666666666,\"#ed7953\"],[0.7777777777777778,\"#fb9f3a\"],[0.8888888888888888,\"#fdca26\"],[1.0,\"#f0f921\"]]}],\"heatmap\":[{\"type\":\"heatmap\",\"colorbar\":{\"outlinewidth\":0,\"ticks\":\"\"},\"colorscale\":[[0.0,\"#0d0887\"],[0.1111111111111111,\"#46039f\"],[0.2222222222222222,\"#7201a8\"],[0.3333333333333333,\"#9c179e\"],[0.4444444444444444,\"#bd3786\"],[0.5555555555555556,\"#d8576b\"],[0.6666666666666666,\"#ed7953\"],[0.7777777777777778,\"#fb9f3a\"],[0.8888888888888888,\"#fdca26\"],[1.0,\"#f0f921\"]]}],\"heatmapgl\":[{\"type\":\"heatmapgl\",\"colorbar\":{\"outlinewidth\":0,\"ticks\":\"\"},\"colorscale\":[[0.0,\"#0d0887\"],[0.1111111111111111,\"#46039f\"],[0.2222222222222222,\"#7201a8\"],[0.3333333333333333,\"#9c179e\"],[0.4444444444444444,\"#bd3786\"],[0.5555555555555556,\"#d8576b\"],[0.6666666666666666,\"#ed7953\"],[0.7777777777777778,\"#fb9f3a\"],[0.8888888888888888,\"#fdca26\"],[1.0,\"#f0f921\"]]}],\"contourcarpet\":[{\"type\":\"contourcarpet\",\"colorbar\":{\"outlinewidth\":0,\"ticks\":\"\"}}],\"contour\":[{\"type\":\"contour\",\"colorbar\":{\"outlinewidth\":0,\"ticks\":\"\"},\"colorscale\":[[0.0,\"#0d0887\"],[0.1111111111111111,\"#46039f\"],[0.2222222222222222,\"#7201a8\"],[0.3333333333333333,\"#9c179e\"],[0.4444444444444444,\"#bd3786\"],[0.5555555555555556,\"#d8576b\"],[0.6666666666666666,\"#ed7953\"],[0.7777777777777778,\"#fb9f3a\"],[0.8888888888888888,\"#fdca26\"],[1.0,\"#f0f921\"]]}],\"surface\":[{\"type\":\"surface\",\"colorbar\":{\"outlinewidth\":0,\"ticks\":\"\"},\"colorscale\":[[0.0,\"#0d0887\"],[0.1111111111111111,\"#46039f\"],[0.2222222222222222,\"#7201a8\"],[0.3333333333333333,\"#9c179e\"],[0.4444444444444444,\"#bd3786\"],[0.5555555555555556,\"#d8576b\"],[0.6666666666666666,\"#ed7953\"],[0.7777777777777778,\"#fb9f3a\"],[0.8888888888888888,\"#fdca26\"],[1.0,\"#f0f921\"]]}],\"mesh3d\":[{\"type\":\"mesh3d\",\"colorbar\":{\"outlinewidth\":0,\"ticks\":\"\"}}],\"scatter\":[{\"fillpattern\":{\"fillmode\":\"overlay\",\"size\":10,\"solidity\":0.2},\"type\":\"scatter\"}],\"parcoords\":[{\"type\":\"parcoords\",\"line\":{\"colorbar\":{\"outlinewidth\":0,\"ticks\":\"\"}}}],\"scatterpolargl\":[{\"type\":\"scatterpolargl\",\"marker\":{\"colorbar\":{\"outlinewidth\":0,\"ticks\":\"\"}}}],\"bar\":[{\"error_x\":{\"color\":\"#2a3f5f\"},\"error_y\":{\"color\":\"#2a3f5f\"},\"marker\":{\"line\":{\"color\":\"#E5ECF6\",\"width\":0.5},\"pattern\":{\"fillmode\":\"overlay\",\"size\":10,\"solidity\":0.2}},\"type\":\"bar\"}],\"scattergeo\":[{\"type\":\"scattergeo\",\"marker\":{\"colorbar\":{\"outlinewidth\":0,\"ticks\":\"\"}}}],\"scatterpolar\":[{\"type\":\"scatterpolar\",\"marker\":{\"colorbar\":{\"outlinewidth\":0,\"ticks\":\"\"}}}],\"histogram\":[{\"marker\":{\"pattern\":{\"fillmode\":\"overlay\",\"size\":10,\"solidity\":0.2}},\"type\":\"histogram\"}],\"scattergl\":[{\"type\":\"scattergl\",\"marker\":{\"colorbar\":{\"outlinewidth\":0,\"ticks\":\"\"}}}],\"scatter3d\":[{\"type\":\"scatter3d\",\"line\":{\"colorbar\":{\"outlinewidth\":0,\"ticks\":\"\"}},\"marker\":{\"colorbar\":{\"outlinewidth\":0,\"ticks\":\"\"}}}],\"scattermapbox\":[{\"type\":\"scattermapbox\",\"marker\":{\"colorbar\":{\"outlinewidth\":0,\"ticks\":\"\"}}}],\"scatterternary\":[{\"type\":\"scatterternary\",\"marker\":{\"colorbar\":{\"outlinewidth\":0,\"ticks\":\"\"}}}],\"scattercarpet\":[{\"type\":\"scattercarpet\",\"marker\":{\"colorbar\":{\"outlinewidth\":0,\"ticks\":\"\"}}}],\"carpet\":[{\"aaxis\":{\"endlinecolor\":\"#2a3f5f\",\"gridcolor\":\"white\",\"linecolor\":\"white\",\"minorgridcolor\":\"white\",\"startlinecolor\":\"#2a3f5f\"},\"baxis\":{\"endlinecolor\":\"#2a3f5f\",\"gridcolor\":\"white\",\"linecolor\":\"white\",\"minorgridcolor\":\"white\",\"startlinecolor\":\"#2a3f5f\"},\"type\":\"carpet\"}],\"table\":[{\"cells\":{\"fill\":{\"color\":\"#EBF0F8\"},\"line\":{\"color\":\"white\"}},\"header\":{\"fill\":{\"color\":\"#C8D4E3\"},\"line\":{\"color\":\"white\"}},\"type\":\"table\"}],\"barpolar\":[{\"marker\":{\"line\":{\"color\":\"#E5ECF6\",\"width\":0.5},\"pattern\":{\"fillmode\":\"overlay\",\"size\":10,\"solidity\":0.2}},\"type\":\"barpolar\"}],\"pie\":[{\"automargin\":true,\"type\":\"pie\"}]},\"layout\":{\"autotypenumbers\":\"strict\",\"colorway\":[\"#636efa\",\"#EF553B\",\"#00cc96\",\"#ab63fa\",\"#FFA15A\",\"#19d3f3\",\"#FF6692\",\"#B6E880\",\"#FF97FF\",\"#FECB52\"],\"font\":{\"color\":\"#2a3f5f\"},\"hovermode\":\"closest\",\"hoverlabel\":{\"align\":\"left\"},\"paper_bgcolor\":\"white\",\"plot_bgcolor\":\"#E5ECF6\",\"polar\":{\"bgcolor\":\"#E5ECF6\",\"angularaxis\":{\"gridcolor\":\"white\",\"linecolor\":\"white\",\"ticks\":\"\"},\"radialaxis\":{\"gridcolor\":\"white\",\"linecolor\":\"white\",\"ticks\":\"\"}},\"ternary\":{\"bgcolor\":\"#E5ECF6\",\"aaxis\":{\"gridcolor\":\"white\",\"linecolor\":\"white\",\"ticks\":\"\"},\"baxis\":{\"gridcolor\":\"white\",\"linecolor\":\"white\",\"ticks\":\"\"},\"caxis\":{\"gridcolor\":\"white\",\"linecolor\":\"white\",\"ticks\":\"\"}},\"coloraxis\":{\"colorbar\":{\"outlinewidth\":0,\"ticks\":\"\"}},\"colorscale\":{\"sequential\":[[0.0,\"#0d0887\"],[0.1111111111111111,\"#46039f\"],[0.2222222222222222,\"#7201a8\"],[0.3333333333333333,\"#9c179e\"],[0.4444444444444444,\"#bd3786\"],[0.5555555555555556,\"#d8576b\"],[0.6666666666666666,\"#ed7953\"],[0.7777777777777778,\"#fb9f3a\"],[0.8888888888888888,\"#fdca26\"],[1.0,\"#f0f921\"]],\"sequentialminus\":[[0.0,\"#0d0887\"],[0.1111111111111111,\"#46039f\"],[0.2222222222222222,\"#7201a8\"],[0.3333333333333333,\"#9c179e\"],[0.4444444444444444,\"#bd3786\"],[0.5555555555555556,\"#d8576b\"],[0.6666666666666666,\"#ed7953\"],[0.7777777777777778,\"#fb9f3a\"],[0.8888888888888888,\"#fdca26\"],[1.0,\"#f0f921\"]],\"diverging\":[[0,\"#8e0152\"],[0.1,\"#c51b7d\"],[0.2,\"#de77ae\"],[0.3,\"#f1b6da\"],[0.4,\"#fde0ef\"],[0.5,\"#f7f7f7\"],[0.6,\"#e6f5d0\"],[0.7,\"#b8e186\"],[0.8,\"#7fbc41\"],[0.9,\"#4d9221\"],[1,\"#276419\"]]},\"xaxis\":{\"gridcolor\":\"white\",\"linecolor\":\"white\",\"ticks\":\"\",\"title\":{\"standoff\":15},\"zerolinecolor\":\"white\",\"automargin\":true,\"zerolinewidth\":2},\"yaxis\":{\"gridcolor\":\"white\",\"linecolor\":\"white\",\"ticks\":\"\",\"title\":{\"standoff\":15},\"zerolinecolor\":\"white\",\"automargin\":true,\"zerolinewidth\":2},\"scene\":{\"xaxis\":{\"backgroundcolor\":\"#E5ECF6\",\"gridcolor\":\"white\",\"linecolor\":\"white\",\"showbackground\":true,\"ticks\":\"\",\"zerolinecolor\":\"white\",\"gridwidth\":2},\"yaxis\":{\"backgroundcolor\":\"#E5ECF6\",\"gridcolor\":\"white\",\"linecolor\":\"white\",\"showbackground\":true,\"ticks\":\"\",\"zerolinecolor\":\"white\",\"gridwidth\":2},\"zaxis\":{\"backgroundcolor\":\"#E5ECF6\",\"gridcolor\":\"white\",\"linecolor\":\"white\",\"showbackground\":true,\"ticks\":\"\",\"zerolinecolor\":\"white\",\"gridwidth\":2}},\"shapedefaults\":{\"line\":{\"color\":\"#2a3f5f\"}},\"annotationdefaults\":{\"arrowcolor\":\"#2a3f5f\",\"arrowhead\":0,\"arrowwidth\":1},\"geo\":{\"bgcolor\":\"white\",\"landcolor\":\"#E5ECF6\",\"subunitcolor\":\"white\",\"showland\":true,\"showlakes\":true,\"lakecolor\":\"white\"},\"title\":{\"x\":0.05},\"mapbox\":{\"style\":\"light\"}}},\"legend\":{\"tracegroupgap\":0},\"margin\":{\"t\":60},\"font\":{\"size\":12,\"color\":\"black\",\"family\":\"Helvetica\"},\"title\":{\"text\":\"\\u0e41\\u0e1c\\u0e19\\u0e20\\u0e39\\u0e21\\u0e34\\u0e41\\u0e2a\\u0e14\\u0e07\\u0e1e\\u0e25\\u0e07\\u0e43\\u0e19\\u0e23\\u0e39\\u0e1b\\u0e41\\u0e1a\\u0e1a\\u0e02\\u0e2d\\u0e07\\u0e40\\u0e1e\\u0e25\\u0e07\\u0e15\\u0e32\\u0e21\\u0e40\\u0e04\\u0e23\\u0e37\\u0e48\\u0e2d\\u0e07\\u0e14\\u0e19\\u0e15\\u0e23\\u0e35\\u0e41\\u0e25\\u0e30\\u0e40\\u0e19\\u0e37\\u0e49\\u0e2d\\u0e2b\\u0e32 \\u0e1b\\u0e23\\u0e30\\u0e40\\u0e20\\u0e17\\u0e43\\u0e14\\u0e40\\u0e1e\\u0e37\\u0e48\\u0e2d\\u0e04\\u0e25\\u0e32\\u0e22\\u0e04\\u0e27\\u0e32\\u0e21\\u0e40\\u0e04\\u0e23\\u0e35\\u0e22\\u0e14\\u0e21\\u0e32\\u0e01\\u0e17\\u0e35\\u0e48\\u0e2a\\u0e38\\u0e14\",\"font\":{\"size\":16,\"color\":\"black\",\"family\":\"Helvetica\"}},\"plot_bgcolor\":\"white\",\"height\":500,\"width\":750,\"showlegend\":true},                        {\"responsive\": true}                    ).then(function(){\n",
              "                            \n",
              "var gd = document.getElementById('74afeaab-0522-4e01-a202-2a0430a44e17');\n",
              "var x = new MutationObserver(function (mutations, observer) {{\n",
              "        var display = window.getComputedStyle(gd).display;\n",
              "        if (!display || display === 'none') {{\n",
              "            console.log([gd, 'removed!']);\n",
              "            Plotly.purge(gd);\n",
              "            observer.disconnect();\n",
              "        }}\n",
              "}});\n",
              "\n",
              "// Listen for the removal of the full notebook cells\n",
              "var notebookContainer = gd.closest('#notebook-container');\n",
              "if (notebookContainer) {{\n",
              "    x.observe(notebookContainer, {childList: true});\n",
              "}}\n",
              "\n",
              "// Listen for the clearing of the current output cell\n",
              "var outputEl = gd.closest('.output');\n",
              "if (outputEl) {{\n",
              "    x.observe(outputEl, {childList: true});\n",
              "}}\n",
              "\n",
              "                        })                };                            </script>        </div>\n",
              "</body>\n",
              "</html>"
            ]
          },
          "metadata": {}
        }
      ],
      "source": [
        "import plotly.express as px\n",
        "\n",
        "grouped_dfm = df['s_lyrics'].value_counts()\n",
        "\n",
        "fig = px.pie(values=grouped_dfm, names=grouped_dfm.index)\n",
        "fig.update_traces(pull=[0.02]*len(grouped_dfm), textinfo='percent+value',marker=dict(colors=px.colors.qualitative.Plotly))\n",
        "fig.update_layout(title='แผนภูมิแสดงพลงในรูปแบบของเพลงตามเครื่องดนตรีและเนื้อหา ประเภทใดเพื่อคลายความเครียดมากที่สุด',\n",
        "                  plot_bgcolor='white',\n",
        "                  height=500,\n",
        "                  width=750,\n",
        "                  font=dict(size=12, color='black', family='Helvetica'),\n",
        "                  title_font=dict(size=16, color='black', family='Helvetica'),\n",
        "                  showlegend=True)\n",
        "fig.show()"
      ]
    },
    {
      "cell_type": "markdown",
      "metadata": {
        "id": "8Onk1HHHxgKb"
      },
      "source": [
        "###แผนภูมิวงกลมแสดงอิทธิพลที่มีผลต่อการเลือกฟังเพลงเพื่อคลายความเครียดมากที่สุด"
      ]
    },
    {
      "cell_type": "code",
      "execution_count": null,
      "metadata": {
        "id": "p9k2jxlmXMCY"
      },
      "outputs": [],
      "source": [
        "df_ms = df_ms.replace('ทำนองเพลง','ทำนอง')"
      ]
    },
    {
      "cell_type": "code",
      "execution_count": null,
      "metadata": {
        "colab": {
          "base_uri": "https://localhost:8080/"
        },
        "id": "JHXDyoxSXYX7",
        "outputId": "15df2729-0d27-4b9f-f50f-5948f8a6d581"
      },
      "outputs": [
        {
          "output_type": "execute_result",
          "data": {
            "text/plain": [
              "array(['กำลังเป็นที่นิยม', 'เครื่องดนตรีและเนื้อเสียงคนร้อง', 'จังหวะ',\n",
              "       'ทำนอง', 'เนื้อหาของเพลง', 'ประเภทของเพลง', 'ศิลปิน'], dtype=object)"
            ]
          },
          "metadata": {},
          "execution_count": 20
        }
      ],
      "source": [
        "df_ms.s_factor.unique()"
      ]
    },
    {
      "cell_type": "code",
      "execution_count": null,
      "metadata": {
        "colab": {
          "base_uri": "https://localhost:8080/",
          "height": 537
        },
        "id": "1I8wRliExkNc",
        "outputId": "42afd760-d9ac-4d11-9605-ef5f9b40d1bc"
      },
      "outputs": [
        {
          "output_type": "display_data",
          "data": {
            "text/html": [
              "<html>\n",
              "<head><meta charset=\"utf-8\" /></head>\n",
              "<body>\n",
              "    <div>            <script src=\"https://cdnjs.cloudflare.com/ajax/libs/mathjax/2.7.5/MathJax.js?config=TeX-AMS-MML_SVG\"></script><script type=\"text/javascript\">if (window.MathJax && window.MathJax.Hub && window.MathJax.Hub.Config) {window.MathJax.Hub.Config({SVG: {font: \"STIX-Web\"}});}</script>                <script type=\"text/javascript\">window.PlotlyConfig = {MathJaxConfig: 'local'};</script>\n",
              "        <script src=\"https://cdn.plot.ly/plotly-2.18.2.min.js\"></script>                <div id=\"fd091ec2-f717-4083-b546-e0e091e7e8c8\" class=\"plotly-graph-div\" style=\"height:500px; width:800px;\"></div>            <script type=\"text/javascript\">                                    window.PLOTLYENV=window.PLOTLYENV || {};                                    if (document.getElementById(\"fd091ec2-f717-4083-b546-e0e091e7e8c8\")) {                    Plotly.newPlot(                        \"fd091ec2-f717-4083-b546-e0e091e7e8c8\",                        [{\"domain\":{\"x\":[0.0,1.0],\"y\":[0.0,1.0]},\"hovertemplate\":\"label=%{label}<br>value=%{value}<extra></extra>\",\"labels\":[\"\\u0e40\\u0e19\\u0e37\\u0e49\\u0e2d\\u0e2b\\u0e32\\u0e02\\u0e2d\\u0e07\\u0e40\\u0e1e\\u0e25\\u0e07\",\"\\u0e1b\\u0e23\\u0e30\\u0e40\\u0e20\\u0e17\\u0e02\\u0e2d\\u0e07\\u0e40\\u0e1e\\u0e25\\u0e07\",\"\\u0e28\\u0e34\\u0e25\\u0e1b\\u0e34\\u0e19\",\"\\u0e08\\u0e31\\u0e07\\u0e2b\\u0e27\\u0e30\",\"\\u0e17\\u0e33\\u0e19\\u0e2d\\u0e07\",\"\\u0e01\\u0e33\\u0e25\\u0e31\\u0e07\\u0e40\\u0e1b\\u0e47\\u0e19\\u0e17\\u0e35\\u0e48\\u0e19\\u0e34\\u0e22\\u0e21\",\"\\u0e40\\u0e04\\u0e23\\u0e37\\u0e48\\u0e2d\\u0e07\\u0e14\\u0e19\\u0e15\\u0e23\\u0e35\\u0e41\\u0e25\\u0e30\\u0e40\\u0e19\\u0e37\\u0e49\\u0e2d\\u0e40\\u0e2a\\u0e35\\u0e22\\u0e07\\u0e04\\u0e19\\u0e23\\u0e49\\u0e2d\\u0e07\"],\"legendgroup\":\"\",\"name\":\"\",\"showlegend\":true,\"values\":[23,10,8,3,3,2,1],\"type\":\"pie\",\"marker\":{\"colors\":[\"#636EFA\",\"#EF553B\",\"#00CC96\",\"#AB63FA\",\"#FFA15A\",\"#19D3F3\",\"#FF6692\",\"#B6E880\",\"#FF97FF\",\"#FECB52\"]},\"pull\":[0.02,0.02,0.02,0.02,0.02,0.02,0.02],\"textinfo\":\"percent+label\",\"textposition\":\"inside\"}],                        {\"template\":{\"data\":{\"histogram2dcontour\":[{\"type\":\"histogram2dcontour\",\"colorbar\":{\"outlinewidth\":0,\"ticks\":\"\"},\"colorscale\":[[0.0,\"#0d0887\"],[0.1111111111111111,\"#46039f\"],[0.2222222222222222,\"#7201a8\"],[0.3333333333333333,\"#9c179e\"],[0.4444444444444444,\"#bd3786\"],[0.5555555555555556,\"#d8576b\"],[0.6666666666666666,\"#ed7953\"],[0.7777777777777778,\"#fb9f3a\"],[0.8888888888888888,\"#fdca26\"],[1.0,\"#f0f921\"]]}],\"choropleth\":[{\"type\":\"choropleth\",\"colorbar\":{\"outlinewidth\":0,\"ticks\":\"\"}}],\"histogram2d\":[{\"type\":\"histogram2d\",\"colorbar\":{\"outlinewidth\":0,\"ticks\":\"\"},\"colorscale\":[[0.0,\"#0d0887\"],[0.1111111111111111,\"#46039f\"],[0.2222222222222222,\"#7201a8\"],[0.3333333333333333,\"#9c179e\"],[0.4444444444444444,\"#bd3786\"],[0.5555555555555556,\"#d8576b\"],[0.6666666666666666,\"#ed7953\"],[0.7777777777777778,\"#fb9f3a\"],[0.8888888888888888,\"#fdca26\"],[1.0,\"#f0f921\"]]}],\"heatmap\":[{\"type\":\"heatmap\",\"colorbar\":{\"outlinewidth\":0,\"ticks\":\"\"},\"colorscale\":[[0.0,\"#0d0887\"],[0.1111111111111111,\"#46039f\"],[0.2222222222222222,\"#7201a8\"],[0.3333333333333333,\"#9c179e\"],[0.4444444444444444,\"#bd3786\"],[0.5555555555555556,\"#d8576b\"],[0.6666666666666666,\"#ed7953\"],[0.7777777777777778,\"#fb9f3a\"],[0.8888888888888888,\"#fdca26\"],[1.0,\"#f0f921\"]]}],\"heatmapgl\":[{\"type\":\"heatmapgl\",\"colorbar\":{\"outlinewidth\":0,\"ticks\":\"\"},\"colorscale\":[[0.0,\"#0d0887\"],[0.1111111111111111,\"#46039f\"],[0.2222222222222222,\"#7201a8\"],[0.3333333333333333,\"#9c179e\"],[0.4444444444444444,\"#bd3786\"],[0.5555555555555556,\"#d8576b\"],[0.6666666666666666,\"#ed7953\"],[0.7777777777777778,\"#fb9f3a\"],[0.8888888888888888,\"#fdca26\"],[1.0,\"#f0f921\"]]}],\"contourcarpet\":[{\"type\":\"contourcarpet\",\"colorbar\":{\"outlinewidth\":0,\"ticks\":\"\"}}],\"contour\":[{\"type\":\"contour\",\"colorbar\":{\"outlinewidth\":0,\"ticks\":\"\"},\"colorscale\":[[0.0,\"#0d0887\"],[0.1111111111111111,\"#46039f\"],[0.2222222222222222,\"#7201a8\"],[0.3333333333333333,\"#9c179e\"],[0.4444444444444444,\"#bd3786\"],[0.5555555555555556,\"#d8576b\"],[0.6666666666666666,\"#ed7953\"],[0.7777777777777778,\"#fb9f3a\"],[0.8888888888888888,\"#fdca26\"],[1.0,\"#f0f921\"]]}],\"surface\":[{\"type\":\"surface\",\"colorbar\":{\"outlinewidth\":0,\"ticks\":\"\"},\"colorscale\":[[0.0,\"#0d0887\"],[0.1111111111111111,\"#46039f\"],[0.2222222222222222,\"#7201a8\"],[0.3333333333333333,\"#9c179e\"],[0.4444444444444444,\"#bd3786\"],[0.5555555555555556,\"#d8576b\"],[0.6666666666666666,\"#ed7953\"],[0.7777777777777778,\"#fb9f3a\"],[0.8888888888888888,\"#fdca26\"],[1.0,\"#f0f921\"]]}],\"mesh3d\":[{\"type\":\"mesh3d\",\"colorbar\":{\"outlinewidth\":0,\"ticks\":\"\"}}],\"scatter\":[{\"fillpattern\":{\"fillmode\":\"overlay\",\"size\":10,\"solidity\":0.2},\"type\":\"scatter\"}],\"parcoords\":[{\"type\":\"parcoords\",\"line\":{\"colorbar\":{\"outlinewidth\":0,\"ticks\":\"\"}}}],\"scatterpolargl\":[{\"type\":\"scatterpolargl\",\"marker\":{\"colorbar\":{\"outlinewidth\":0,\"ticks\":\"\"}}}],\"bar\":[{\"error_x\":{\"color\":\"#2a3f5f\"},\"error_y\":{\"color\":\"#2a3f5f\"},\"marker\":{\"line\":{\"color\":\"#E5ECF6\",\"width\":0.5},\"pattern\":{\"fillmode\":\"overlay\",\"size\":10,\"solidity\":0.2}},\"type\":\"bar\"}],\"scattergeo\":[{\"type\":\"scattergeo\",\"marker\":{\"colorbar\":{\"outlinewidth\":0,\"ticks\":\"\"}}}],\"scatterpolar\":[{\"type\":\"scatterpolar\",\"marker\":{\"colorbar\":{\"outlinewidth\":0,\"ticks\":\"\"}}}],\"histogram\":[{\"marker\":{\"pattern\":{\"fillmode\":\"overlay\",\"size\":10,\"solidity\":0.2}},\"type\":\"histogram\"}],\"scattergl\":[{\"type\":\"scattergl\",\"marker\":{\"colorbar\":{\"outlinewidth\":0,\"ticks\":\"\"}}}],\"scatter3d\":[{\"type\":\"scatter3d\",\"line\":{\"colorbar\":{\"outlinewidth\":0,\"ticks\":\"\"}},\"marker\":{\"colorbar\":{\"outlinewidth\":0,\"ticks\":\"\"}}}],\"scattermapbox\":[{\"type\":\"scattermapbox\",\"marker\":{\"colorbar\":{\"outlinewidth\":0,\"ticks\":\"\"}}}],\"scatterternary\":[{\"type\":\"scatterternary\",\"marker\":{\"colorbar\":{\"outlinewidth\":0,\"ticks\":\"\"}}}],\"scattercarpet\":[{\"type\":\"scattercarpet\",\"marker\":{\"colorbar\":{\"outlinewidth\":0,\"ticks\":\"\"}}}],\"carpet\":[{\"aaxis\":{\"endlinecolor\":\"#2a3f5f\",\"gridcolor\":\"white\",\"linecolor\":\"white\",\"minorgridcolor\":\"white\",\"startlinecolor\":\"#2a3f5f\"},\"baxis\":{\"endlinecolor\":\"#2a3f5f\",\"gridcolor\":\"white\",\"linecolor\":\"white\",\"minorgridcolor\":\"white\",\"startlinecolor\":\"#2a3f5f\"},\"type\":\"carpet\"}],\"table\":[{\"cells\":{\"fill\":{\"color\":\"#EBF0F8\"},\"line\":{\"color\":\"white\"}},\"header\":{\"fill\":{\"color\":\"#C8D4E3\"},\"line\":{\"color\":\"white\"}},\"type\":\"table\"}],\"barpolar\":[{\"marker\":{\"line\":{\"color\":\"#E5ECF6\",\"width\":0.5},\"pattern\":{\"fillmode\":\"overlay\",\"size\":10,\"solidity\":0.2}},\"type\":\"barpolar\"}],\"pie\":[{\"automargin\":true,\"type\":\"pie\"}]},\"layout\":{\"autotypenumbers\":\"strict\",\"colorway\":[\"#636efa\",\"#EF553B\",\"#00cc96\",\"#ab63fa\",\"#FFA15A\",\"#19d3f3\",\"#FF6692\",\"#B6E880\",\"#FF97FF\",\"#FECB52\"],\"font\":{\"color\":\"#2a3f5f\"},\"hovermode\":\"closest\",\"hoverlabel\":{\"align\":\"left\"},\"paper_bgcolor\":\"white\",\"plot_bgcolor\":\"#E5ECF6\",\"polar\":{\"bgcolor\":\"#E5ECF6\",\"angularaxis\":{\"gridcolor\":\"white\",\"linecolor\":\"white\",\"ticks\":\"\"},\"radialaxis\":{\"gridcolor\":\"white\",\"linecolor\":\"white\",\"ticks\":\"\"}},\"ternary\":{\"bgcolor\":\"#E5ECF6\",\"aaxis\":{\"gridcolor\":\"white\",\"linecolor\":\"white\",\"ticks\":\"\"},\"baxis\":{\"gridcolor\":\"white\",\"linecolor\":\"white\",\"ticks\":\"\"},\"caxis\":{\"gridcolor\":\"white\",\"linecolor\":\"white\",\"ticks\":\"\"}},\"coloraxis\":{\"colorbar\":{\"outlinewidth\":0,\"ticks\":\"\"}},\"colorscale\":{\"sequential\":[[0.0,\"#0d0887\"],[0.1111111111111111,\"#46039f\"],[0.2222222222222222,\"#7201a8\"],[0.3333333333333333,\"#9c179e\"],[0.4444444444444444,\"#bd3786\"],[0.5555555555555556,\"#d8576b\"],[0.6666666666666666,\"#ed7953\"],[0.7777777777777778,\"#fb9f3a\"],[0.8888888888888888,\"#fdca26\"],[1.0,\"#f0f921\"]],\"sequentialminus\":[[0.0,\"#0d0887\"],[0.1111111111111111,\"#46039f\"],[0.2222222222222222,\"#7201a8\"],[0.3333333333333333,\"#9c179e\"],[0.4444444444444444,\"#bd3786\"],[0.5555555555555556,\"#d8576b\"],[0.6666666666666666,\"#ed7953\"],[0.7777777777777778,\"#fb9f3a\"],[0.8888888888888888,\"#fdca26\"],[1.0,\"#f0f921\"]],\"diverging\":[[0,\"#8e0152\"],[0.1,\"#c51b7d\"],[0.2,\"#de77ae\"],[0.3,\"#f1b6da\"],[0.4,\"#fde0ef\"],[0.5,\"#f7f7f7\"],[0.6,\"#e6f5d0\"],[0.7,\"#b8e186\"],[0.8,\"#7fbc41\"],[0.9,\"#4d9221\"],[1,\"#276419\"]]},\"xaxis\":{\"gridcolor\":\"white\",\"linecolor\":\"white\",\"ticks\":\"\",\"title\":{\"standoff\":15},\"zerolinecolor\":\"white\",\"automargin\":true,\"zerolinewidth\":2},\"yaxis\":{\"gridcolor\":\"white\",\"linecolor\":\"white\",\"ticks\":\"\",\"title\":{\"standoff\":15},\"zerolinecolor\":\"white\",\"automargin\":true,\"zerolinewidth\":2},\"scene\":{\"xaxis\":{\"backgroundcolor\":\"#E5ECF6\",\"gridcolor\":\"white\",\"linecolor\":\"white\",\"showbackground\":true,\"ticks\":\"\",\"zerolinecolor\":\"white\",\"gridwidth\":2},\"yaxis\":{\"backgroundcolor\":\"#E5ECF6\",\"gridcolor\":\"white\",\"linecolor\":\"white\",\"showbackground\":true,\"ticks\":\"\",\"zerolinecolor\":\"white\",\"gridwidth\":2},\"zaxis\":{\"backgroundcolor\":\"#E5ECF6\",\"gridcolor\":\"white\",\"linecolor\":\"white\",\"showbackground\":true,\"ticks\":\"\",\"zerolinecolor\":\"white\",\"gridwidth\":2}},\"shapedefaults\":{\"line\":{\"color\":\"#2a3f5f\"}},\"annotationdefaults\":{\"arrowcolor\":\"#2a3f5f\",\"arrowhead\":0,\"arrowwidth\":1},\"geo\":{\"bgcolor\":\"white\",\"landcolor\":\"#E5ECF6\",\"subunitcolor\":\"white\",\"showland\":true,\"showlakes\":true,\"lakecolor\":\"white\"},\"title\":{\"x\":0.05},\"mapbox\":{\"style\":\"light\"}}},\"legend\":{\"tracegroupgap\":0},\"margin\":{\"t\":60},\"font\":{\"size\":12,\"color\":\"black\",\"family\":\"Helvetica\"},\"title\":{\"text\":\"\\u0e41\\u0e1c\\u0e19\\u0e20\\u0e39\\u0e21\\u0e34\\u0e27\\u0e07\\u0e01\\u0e25\\u0e21\\u0e41\\u0e2a\\u0e14\\u0e07\\u0e2d\\u0e34\\u0e17\\u0e18\\u0e34\\u0e1e\\u0e25\\u0e17\\u0e35\\u0e48\\u0e21\\u0e35\\u0e1c\\u0e25\\u0e15\\u0e48\\u0e2d\\u0e01\\u0e32\\u0e23\\u0e40\\u0e25\\u0e37\\u0e2d\\u0e01\\u0e1f\\u0e31\\u0e07\\u0e40\\u0e1e\\u0e25\\u0e07\\u0e40\\u0e1e\\u0e37\\u0e48\\u0e2d\\u0e04\\u0e25\\u0e32\\u0e22\\u0e04\\u0e27\\u0e32\\u0e21\\u0e40\\u0e04\\u0e23\\u0e35\\u0e22\\u0e14\\u0e21\\u0e32\\u0e01\\u0e17\\u0e35\\u0e48\\u0e2a\\u0e38\\u0e14\",\"font\":{\"size\":22,\"color\":\"black\",\"family\":\"Helvetica\"}},\"plot_bgcolor\":\"white\",\"height\":500,\"width\":800,\"showlegend\":true},                        {\"responsive\": true}                    ).then(function(){\n",
              "                            \n",
              "var gd = document.getElementById('fd091ec2-f717-4083-b546-e0e091e7e8c8');\n",
              "var x = new MutationObserver(function (mutations, observer) {{\n",
              "        var display = window.getComputedStyle(gd).display;\n",
              "        if (!display || display === 'none') {{\n",
              "            console.log([gd, 'removed!']);\n",
              "            Plotly.purge(gd);\n",
              "            observer.disconnect();\n",
              "        }}\n",
              "}});\n",
              "\n",
              "// Listen for the removal of the full notebook cells\n",
              "var notebookContainer = gd.closest('#notebook-container');\n",
              "if (notebookContainer) {{\n",
              "    x.observe(notebookContainer, {childList: true});\n",
              "}}\n",
              "\n",
              "// Listen for the clearing of the current output cell\n",
              "var outputEl = gd.closest('.output');\n",
              "if (outputEl) {{\n",
              "    x.observe(outputEl, {childList: true});\n",
              "}}\n",
              "\n",
              "                        })                };                            </script>        </div>\n",
              "</body>\n",
              "</html>"
            ]
          },
          "metadata": {}
        }
      ],
      "source": [
        "import plotly.express as px\n",
        "\n",
        "grouped_dfm = df_ms['s_factor'].value_counts()\n",
        "\n",
        "fig = px.pie(values=grouped_dfm, names=grouped_dfm.index)\n",
        "fig.update_traces(pull=[0.02]*len(grouped_dfm), textinfo='percent+value',marker=dict(colors=px.colors.qualitative.Plotly))\n",
        "fig.update_layout(title='แผนภูมิวงกลมแสดงอิทธิพลที่มีผลต่อการเลือกฟังเพลงเพื่อคลายความเครียดมากที่สุด',\n",
        "                  plot_bgcolor='white',\n",
        "                  height=500,\n",
        "                  width=800,\n",
        "                  font=dict(size=12, color='black', family='Helvetica'),\n",
        "                  title_font=dict(size=22, color='black', family='Helvetica'),\n",
        "                  showlegend=True)\n",
        "fig.update_traces(textposition='inside', textinfo='percent+label')\n",
        "fig.show()"
      ]
    },
    {
      "cell_type": "markdown",
      "metadata": {
        "id": "xbHSgJKM0NXh"
      },
      "source": [
        "###แผนภูมิแท่งแสดงการรับฟังเพลงจากแหล่งต่าง ๆ เพื่อคลายความเครียด"
      ]
    },
    {
      "cell_type": "code",
      "execution_count": null,
      "metadata": {
        "colab": {
          "base_uri": "https://localhost:8080/",
          "height": 537
        },
        "id": "ky2oHgCj1DQ5",
        "outputId": "1d53dd4f-17e2-4878-9b27-c88810b569bb"
      },
      "outputs": [
        {
          "output_type": "display_data",
          "data": {
            "text/html": [
              "<html>\n",
              "<head><meta charset=\"utf-8\" /></head>\n",
              "<body>\n",
              "    <div>            <script src=\"https://cdnjs.cloudflare.com/ajax/libs/mathjax/2.7.5/MathJax.js?config=TeX-AMS-MML_SVG\"></script><script type=\"text/javascript\">if (window.MathJax && window.MathJax.Hub && window.MathJax.Hub.Config) {window.MathJax.Hub.Config({SVG: {font: \"STIX-Web\"}});}</script>                <script type=\"text/javascript\">window.PlotlyConfig = {MathJaxConfig: 'local'};</script>\n",
              "        <script src=\"https://cdn.plot.ly/plotly-2.18.2.min.js\"></script>                <div id=\"7510eaf2-c95c-48fd-9b31-cbe981b8109c\" class=\"plotly-graph-div\" style=\"height:500px; width:800px;\"></div>            <script type=\"text/javascript\">                                    window.PLOTLYENV=window.PLOTLYENV || {};                                    if (document.getElementById(\"7510eaf2-c95c-48fd-9b31-cbe981b8109c\")) {                    Plotly.newPlot(                        \"7510eaf2-c95c-48fd-9b31-cbe981b8109c\",                        [{\"alignmentgroup\":\"True\",\"hovertemplate\":\"Frequency=%{marker.color}<br>Choice=%{y}<extra></extra>\",\"legendgroup\":\"\",\"marker\":{\"color\":[47,36,22,15,15,14],\"coloraxis\":\"coloraxis\",\"pattern\":{\"shape\":\"\"}},\"name\":\"\",\"offsetgroup\":\"\",\"orientation\":\"h\",\"showlegend\":false,\"textposition\":\"outside\",\"x\":[47,36,22,15,15,14],\"xaxis\":\"x\",\"y\":[\"YouTube\",\"Spotify\",\"Joox\",\"\\u0e23\\u0e49\\u0e32\\u0e19\\u0e2d\\u0e32\\u0e2b\\u0e32\\u0e23\",\"AppleMusic\",\"\\u0e2a\\u0e16\\u0e32\\u0e19\\u0e1a\\u0e31\\u0e19\\u0e40\\u0e17\\u0e34\\u0e07\"],\"yaxis\":\"y\",\"type\":\"bar\",\"text\":[\"47 (94.0%)\",\"36 (72.0%)\",\"22 (44.0%)\",\"15 (30.0%)\",\"15 (30.0%)\",\"14 (28.0%)\"]}],                        {\"template\":{\"data\":{\"histogram2dcontour\":[{\"type\":\"histogram2dcontour\",\"colorbar\":{\"outlinewidth\":0,\"ticks\":\"\"},\"colorscale\":[[0.0,\"#0d0887\"],[0.1111111111111111,\"#46039f\"],[0.2222222222222222,\"#7201a8\"],[0.3333333333333333,\"#9c179e\"],[0.4444444444444444,\"#bd3786\"],[0.5555555555555556,\"#d8576b\"],[0.6666666666666666,\"#ed7953\"],[0.7777777777777778,\"#fb9f3a\"],[0.8888888888888888,\"#fdca26\"],[1.0,\"#f0f921\"]]}],\"choropleth\":[{\"type\":\"choropleth\",\"colorbar\":{\"outlinewidth\":0,\"ticks\":\"\"}}],\"histogram2d\":[{\"type\":\"histogram2d\",\"colorbar\":{\"outlinewidth\":0,\"ticks\":\"\"},\"colorscale\":[[0.0,\"#0d0887\"],[0.1111111111111111,\"#46039f\"],[0.2222222222222222,\"#7201a8\"],[0.3333333333333333,\"#9c179e\"],[0.4444444444444444,\"#bd3786\"],[0.5555555555555556,\"#d8576b\"],[0.6666666666666666,\"#ed7953\"],[0.7777777777777778,\"#fb9f3a\"],[0.8888888888888888,\"#fdca26\"],[1.0,\"#f0f921\"]]}],\"heatmap\":[{\"type\":\"heatmap\",\"colorbar\":{\"outlinewidth\":0,\"ticks\":\"\"},\"colorscale\":[[0.0,\"#0d0887\"],[0.1111111111111111,\"#46039f\"],[0.2222222222222222,\"#7201a8\"],[0.3333333333333333,\"#9c179e\"],[0.4444444444444444,\"#bd3786\"],[0.5555555555555556,\"#d8576b\"],[0.6666666666666666,\"#ed7953\"],[0.7777777777777778,\"#fb9f3a\"],[0.8888888888888888,\"#fdca26\"],[1.0,\"#f0f921\"]]}],\"heatmapgl\":[{\"type\":\"heatmapgl\",\"colorbar\":{\"outlinewidth\":0,\"ticks\":\"\"},\"colorscale\":[[0.0,\"#0d0887\"],[0.1111111111111111,\"#46039f\"],[0.2222222222222222,\"#7201a8\"],[0.3333333333333333,\"#9c179e\"],[0.4444444444444444,\"#bd3786\"],[0.5555555555555556,\"#d8576b\"],[0.6666666666666666,\"#ed7953\"],[0.7777777777777778,\"#fb9f3a\"],[0.8888888888888888,\"#fdca26\"],[1.0,\"#f0f921\"]]}],\"contourcarpet\":[{\"type\":\"contourcarpet\",\"colorbar\":{\"outlinewidth\":0,\"ticks\":\"\"}}],\"contour\":[{\"type\":\"contour\",\"colorbar\":{\"outlinewidth\":0,\"ticks\":\"\"},\"colorscale\":[[0.0,\"#0d0887\"],[0.1111111111111111,\"#46039f\"],[0.2222222222222222,\"#7201a8\"],[0.3333333333333333,\"#9c179e\"],[0.4444444444444444,\"#bd3786\"],[0.5555555555555556,\"#d8576b\"],[0.6666666666666666,\"#ed7953\"],[0.7777777777777778,\"#fb9f3a\"],[0.8888888888888888,\"#fdca26\"],[1.0,\"#f0f921\"]]}],\"surface\":[{\"type\":\"surface\",\"colorbar\":{\"outlinewidth\":0,\"ticks\":\"\"},\"colorscale\":[[0.0,\"#0d0887\"],[0.1111111111111111,\"#46039f\"],[0.2222222222222222,\"#7201a8\"],[0.3333333333333333,\"#9c179e\"],[0.4444444444444444,\"#bd3786\"],[0.5555555555555556,\"#d8576b\"],[0.6666666666666666,\"#ed7953\"],[0.7777777777777778,\"#fb9f3a\"],[0.8888888888888888,\"#fdca26\"],[1.0,\"#f0f921\"]]}],\"mesh3d\":[{\"type\":\"mesh3d\",\"colorbar\":{\"outlinewidth\":0,\"ticks\":\"\"}}],\"scatter\":[{\"fillpattern\":{\"fillmode\":\"overlay\",\"size\":10,\"solidity\":0.2},\"type\":\"scatter\"}],\"parcoords\":[{\"type\":\"parcoords\",\"line\":{\"colorbar\":{\"outlinewidth\":0,\"ticks\":\"\"}}}],\"scatterpolargl\":[{\"type\":\"scatterpolargl\",\"marker\":{\"colorbar\":{\"outlinewidth\":0,\"ticks\":\"\"}}}],\"bar\":[{\"error_x\":{\"color\":\"#2a3f5f\"},\"error_y\":{\"color\":\"#2a3f5f\"},\"marker\":{\"line\":{\"color\":\"#E5ECF6\",\"width\":0.5},\"pattern\":{\"fillmode\":\"overlay\",\"size\":10,\"solidity\":0.2}},\"type\":\"bar\"}],\"scattergeo\":[{\"type\":\"scattergeo\",\"marker\":{\"colorbar\":{\"outlinewidth\":0,\"ticks\":\"\"}}}],\"scatterpolar\":[{\"type\":\"scatterpolar\",\"marker\":{\"colorbar\":{\"outlinewidth\":0,\"ticks\":\"\"}}}],\"histogram\":[{\"marker\":{\"pattern\":{\"fillmode\":\"overlay\",\"size\":10,\"solidity\":0.2}},\"type\":\"histogram\"}],\"scattergl\":[{\"type\":\"scattergl\",\"marker\":{\"colorbar\":{\"outlinewidth\":0,\"ticks\":\"\"}}}],\"scatter3d\":[{\"type\":\"scatter3d\",\"line\":{\"colorbar\":{\"outlinewidth\":0,\"ticks\":\"\"}},\"marker\":{\"colorbar\":{\"outlinewidth\":0,\"ticks\":\"\"}}}],\"scattermapbox\":[{\"type\":\"scattermapbox\",\"marker\":{\"colorbar\":{\"outlinewidth\":0,\"ticks\":\"\"}}}],\"scatterternary\":[{\"type\":\"scatterternary\",\"marker\":{\"colorbar\":{\"outlinewidth\":0,\"ticks\":\"\"}}}],\"scattercarpet\":[{\"type\":\"scattercarpet\",\"marker\":{\"colorbar\":{\"outlinewidth\":0,\"ticks\":\"\"}}}],\"carpet\":[{\"aaxis\":{\"endlinecolor\":\"#2a3f5f\",\"gridcolor\":\"white\",\"linecolor\":\"white\",\"minorgridcolor\":\"white\",\"startlinecolor\":\"#2a3f5f\"},\"baxis\":{\"endlinecolor\":\"#2a3f5f\",\"gridcolor\":\"white\",\"linecolor\":\"white\",\"minorgridcolor\":\"white\",\"startlinecolor\":\"#2a3f5f\"},\"type\":\"carpet\"}],\"table\":[{\"cells\":{\"fill\":{\"color\":\"#EBF0F8\"},\"line\":{\"color\":\"white\"}},\"header\":{\"fill\":{\"color\":\"#C8D4E3\"},\"line\":{\"color\":\"white\"}},\"type\":\"table\"}],\"barpolar\":[{\"marker\":{\"line\":{\"color\":\"#E5ECF6\",\"width\":0.5},\"pattern\":{\"fillmode\":\"overlay\",\"size\":10,\"solidity\":0.2}},\"type\":\"barpolar\"}],\"pie\":[{\"automargin\":true,\"type\":\"pie\"}]},\"layout\":{\"autotypenumbers\":\"strict\",\"colorway\":[\"#636efa\",\"#EF553B\",\"#00cc96\",\"#ab63fa\",\"#FFA15A\",\"#19d3f3\",\"#FF6692\",\"#B6E880\",\"#FF97FF\",\"#FECB52\"],\"font\":{\"color\":\"#2a3f5f\"},\"hovermode\":\"closest\",\"hoverlabel\":{\"align\":\"left\"},\"paper_bgcolor\":\"white\",\"plot_bgcolor\":\"#E5ECF6\",\"polar\":{\"bgcolor\":\"#E5ECF6\",\"angularaxis\":{\"gridcolor\":\"white\",\"linecolor\":\"white\",\"ticks\":\"\"},\"radialaxis\":{\"gridcolor\":\"white\",\"linecolor\":\"white\",\"ticks\":\"\"}},\"ternary\":{\"bgcolor\":\"#E5ECF6\",\"aaxis\":{\"gridcolor\":\"white\",\"linecolor\":\"white\",\"ticks\":\"\"},\"baxis\":{\"gridcolor\":\"white\",\"linecolor\":\"white\",\"ticks\":\"\"},\"caxis\":{\"gridcolor\":\"white\",\"linecolor\":\"white\",\"ticks\":\"\"}},\"coloraxis\":{\"colorbar\":{\"outlinewidth\":0,\"ticks\":\"\"}},\"colorscale\":{\"sequential\":[[0.0,\"#0d0887\"],[0.1111111111111111,\"#46039f\"],[0.2222222222222222,\"#7201a8\"],[0.3333333333333333,\"#9c179e\"],[0.4444444444444444,\"#bd3786\"],[0.5555555555555556,\"#d8576b\"],[0.6666666666666666,\"#ed7953\"],[0.7777777777777778,\"#fb9f3a\"],[0.8888888888888888,\"#fdca26\"],[1.0,\"#f0f921\"]],\"sequentialminus\":[[0.0,\"#0d0887\"],[0.1111111111111111,\"#46039f\"],[0.2222222222222222,\"#7201a8\"],[0.3333333333333333,\"#9c179e\"],[0.4444444444444444,\"#bd3786\"],[0.5555555555555556,\"#d8576b\"],[0.6666666666666666,\"#ed7953\"],[0.7777777777777778,\"#fb9f3a\"],[0.8888888888888888,\"#fdca26\"],[1.0,\"#f0f921\"]],\"diverging\":[[0,\"#8e0152\"],[0.1,\"#c51b7d\"],[0.2,\"#de77ae\"],[0.3,\"#f1b6da\"],[0.4,\"#fde0ef\"],[0.5,\"#f7f7f7\"],[0.6,\"#e6f5d0\"],[0.7,\"#b8e186\"],[0.8,\"#7fbc41\"],[0.9,\"#4d9221\"],[1,\"#276419\"]]},\"xaxis\":{\"gridcolor\":\"white\",\"linecolor\":\"white\",\"ticks\":\"\",\"title\":{\"standoff\":15},\"zerolinecolor\":\"white\",\"automargin\":true,\"zerolinewidth\":2},\"yaxis\":{\"gridcolor\":\"white\",\"linecolor\":\"white\",\"ticks\":\"\",\"title\":{\"standoff\":15},\"zerolinecolor\":\"white\",\"automargin\":true,\"zerolinewidth\":2},\"scene\":{\"xaxis\":{\"backgroundcolor\":\"#E5ECF6\",\"gridcolor\":\"white\",\"linecolor\":\"white\",\"showbackground\":true,\"ticks\":\"\",\"zerolinecolor\":\"white\",\"gridwidth\":2},\"yaxis\":{\"backgroundcolor\":\"#E5ECF6\",\"gridcolor\":\"white\",\"linecolor\":\"white\",\"showbackground\":true,\"ticks\":\"\",\"zerolinecolor\":\"white\",\"gridwidth\":2},\"zaxis\":{\"backgroundcolor\":\"#E5ECF6\",\"gridcolor\":\"white\",\"linecolor\":\"white\",\"showbackground\":true,\"ticks\":\"\",\"zerolinecolor\":\"white\",\"gridwidth\":2}},\"shapedefaults\":{\"line\":{\"color\":\"#2a3f5f\"}},\"annotationdefaults\":{\"arrowcolor\":\"#2a3f5f\",\"arrowhead\":0,\"arrowwidth\":1},\"geo\":{\"bgcolor\":\"white\",\"landcolor\":\"#E5ECF6\",\"subunitcolor\":\"white\",\"showland\":true,\"showlakes\":true,\"lakecolor\":\"white\"},\"title\":{\"x\":0.05},\"mapbox\":{\"style\":\"light\"}}},\"xaxis\":{\"anchor\":\"y\",\"domain\":[0.0,1.0],\"title\":{\"text\":\"Frequency\",\"font\":{\"size\":14,\"color\":\"black\",\"family\":\"Helvetica\"}},\"range\":[0,57]},\"yaxis\":{\"anchor\":\"x\",\"domain\":[0.0,1.0],\"title\":{\"text\":\"Choice\",\"font\":{\"size\":14,\"color\":\"black\",\"family\":\"Helvetica\"}},\"autorange\":\"reversed\"},\"coloraxis\":{\"colorbar\":{\"title\":{\"text\":\"Frequency\"}},\"colorscale\":[[0.0,\"rgb(255, 198, 196)\"],[0.16666666666666666,\"rgb(244, 163, 168)\"],[0.3333333333333333,\"rgb(227, 129, 145)\"],[0.5,\"rgb(204, 96, 125)\"],[0.6666666666666666,\"rgb(173, 70, 108)\"],[0.8333333333333334,\"rgb(139, 48, 88)\"],[1.0,\"rgb(103, 32, 68)\"]]},\"legend\":{\"tracegroupgap\":0},\"title\":{\"text\":\"\\u0e41\\u0e1c\\u0e19\\u0e20\\u0e39\\u0e21\\u0e34\\u0e41\\u0e17\\u0e48\\u0e07\\u0e41\\u0e2a\\u0e14\\u0e07\\u0e01\\u0e32\\u0e23\\u0e23\\u0e31\\u0e1a\\u0e1f\\u0e31\\u0e07\\u0e40\\u0e1e\\u0e25\\u0e07\\u0e08\\u0e32\\u0e01\\u0e41\\u0e2b\\u0e25\\u0e48\\u0e07\\u0e15\\u0e48\\u0e32\\u0e07 \\u0e46 \\u0e40\\u0e1e\\u0e37\\u0e48\\u0e2d\\u0e04\\u0e25\\u0e32\\u0e22\\u0e04\\u0e27\\u0e32\\u0e21\\u0e40\\u0e04\\u0e23\\u0e35\\u0e22\\u0e14\",\"font\":{\"size\":22,\"color\":\"black\",\"family\":\"Helvetica\"}},\"barmode\":\"relative\",\"font\":{\"size\":12,\"color\":\"black\",\"family\":\"Helvetica\"},\"margin\":{\"l\":100,\"r\":50,\"b\":50,\"t\":80},\"height\":500,\"width\":800,\"showlegend\":false,\"plot_bgcolor\":\"white\"},                        {\"responsive\": true}                    ).then(function(){\n",
              "                            \n",
              "var gd = document.getElementById('7510eaf2-c95c-48fd-9b31-cbe981b8109c');\n",
              "var x = new MutationObserver(function (mutations, observer) {{\n",
              "        var display = window.getComputedStyle(gd).display;\n",
              "        if (!display || display === 'none') {{\n",
              "            console.log([gd, 'removed!']);\n",
              "            Plotly.purge(gd);\n",
              "            observer.disconnect();\n",
              "        }}\n",
              "}});\n",
              "\n",
              "// Listen for the removal of the full notebook cells\n",
              "var notebookContainer = gd.closest('#notebook-container');\n",
              "if (notebookContainer) {{\n",
              "    x.observe(notebookContainer, {childList: true});\n",
              "}}\n",
              "\n",
              "// Listen for the clearing of the current output cell\n",
              "var outputEl = gd.closest('.output');\n",
              "if (outputEl) {{\n",
              "    x.observe(outputEl, {childList: true});\n",
              "}}\n",
              "\n",
              "                        })                };                            </script>        </div>\n",
              "</body>\n",
              "</html>"
            ]
          },
          "metadata": {}
        }
      ],
      "source": [
        "m_when_ac_counts = df_ms['s_stream'].astype(str).str.strip().replace(' ', '', regex=True)\n",
        "m_when_ac_counts = m_when_ac_counts.str.split(',', expand=True).stack().value_counts().reset_index()\n",
        "m_when_ac_counts.columns = ['choice', 'frequency']\n",
        "\n",
        "# Calculate the percentage values\n",
        "m_when_ac_counts['percentage'] = (m_when_ac_counts['frequency'] / len(df_ms['s_stream'])) * 100\n",
        "m_when_ac_counts['text'] = m_when_ac_counts.apply(lambda x: f\"{x['frequency']} ({x['percentage']:.1f}%)\", axis=1)\n",
        "\n",
        "fig = px.bar(m_when_ac_counts, x='frequency', y='choice', orientation='h',\n",
        "             color='frequency', color_continuous_scale='burg',\n",
        "             title='แผนภูมิแท่งแสดงการรับฟังเพลงจากแหล่งต่าง ๆ เพื่อคลายความเครียด',\n",
        "             labels={'frequency':'Frequency', 'choice':'Choice'})\n",
        "fig.update_layout(\n",
        "    font=dict(size=12, color='black', family='Helvetica'),\n",
        "    xaxis=dict(range=[0, m_when_ac_counts['frequency'].max() + 10],\n",
        "               title_font=dict(size=14, color='black', family='Helvetica')),\n",
        "    yaxis=dict(title_font=dict(size=14, color='black', family='Helvetica'), autorange='reversed'),\n",
        "    margin=dict(l=100, r=50, b=50, t=80),\n",
        "    height=500,\n",
        "    width=800,\n",
        "    showlegend=False,\n",
        "    plot_bgcolor='white',\n",
        "    title_font=dict(size=22, color='black', family='Helvetica'),\n",
        ")\n",
        "\n",
        "# Add the frequency and percentage values beside the bars\n",
        "fig.update_traces(text=m_when_ac_counts['text'], textposition='outside')\n",
        "#plt.savefig('s.png', dpi=300)\n",
        "fig.show()\n"
      ]
    },
    {
      "cell_type": "markdown",
      "metadata": {
        "id": "3lSmf1Iwx7ty"
      },
      "source": [
        "###แผนภูมิวงกลมการเข้าร่วมงานดนตรีภายในมหาวิทยาลัยเพื่อคลายความเครียด"
      ]
    },
    {
      "cell_type": "code",
      "execution_count": null,
      "metadata": {
        "colab": {
          "base_uri": "https://localhost:8080/",
          "height": 517
        },
        "id": "4QNH6Wl6x_0a",
        "outputId": "b0adf5d6-5a92-4005-959b-56dcb73f6e00"
      },
      "outputs": [
        {
          "output_type": "display_data",
          "data": {
            "text/html": [
              "<html>\n",
              "<head><meta charset=\"utf-8\" /></head>\n",
              "<body>\n",
              "    <div>            <script src=\"https://cdnjs.cloudflare.com/ajax/libs/mathjax/2.7.5/MathJax.js?config=TeX-AMS-MML_SVG\"></script><script type=\"text/javascript\">if (window.MathJax && window.MathJax.Hub && window.MathJax.Hub.Config) {window.MathJax.Hub.Config({SVG: {font: \"STIX-Web\"}});}</script>                <script type=\"text/javascript\">window.PlotlyConfig = {MathJaxConfig: 'local'};</script>\n",
              "        <script src=\"https://cdn.plot.ly/plotly-2.18.2.min.js\"></script>                <div id=\"ce6f41e7-cca6-4e21-8820-d37236116898\" class=\"plotly-graph-div\" style=\"height:500px; width:700px;\"></div>            <script type=\"text/javascript\">                                    window.PLOTLYENV=window.PLOTLYENV || {};                                    if (document.getElementById(\"ce6f41e7-cca6-4e21-8820-d37236116898\")) {                    Plotly.newPlot(                        \"ce6f41e7-cca6-4e21-8820-d37236116898\",                        [{\"domain\":{\"x\":[0.0,1.0],\"y\":[0.0,1.0]},\"hovertemplate\":\"label=%{label}<br>value=%{value}<extra></extra>\",\"labels\":[\"\\u0e40\\u0e04\\u0e22\",\"\\u0e44\\u0e21\\u0e48\\u0e40\\u0e04\\u0e22\"],\"legendgroup\":\"\",\"name\":\"\",\"showlegend\":true,\"values\":[38,12],\"type\":\"pie\",\"marker\":{\"colors\":[\"#636EFA\",\"#EF553B\",\"#00CC96\",\"#AB63FA\",\"#FFA15A\",\"#19D3F3\",\"#FF6692\",\"#B6E880\",\"#FF97FF\",\"#FECB52\"]},\"pull\":[0.02,0.02],\"textinfo\":\"percent+value\"}],                        {\"template\":{\"data\":{\"histogram2dcontour\":[{\"type\":\"histogram2dcontour\",\"colorbar\":{\"outlinewidth\":0,\"ticks\":\"\"},\"colorscale\":[[0.0,\"#0d0887\"],[0.1111111111111111,\"#46039f\"],[0.2222222222222222,\"#7201a8\"],[0.3333333333333333,\"#9c179e\"],[0.4444444444444444,\"#bd3786\"],[0.5555555555555556,\"#d8576b\"],[0.6666666666666666,\"#ed7953\"],[0.7777777777777778,\"#fb9f3a\"],[0.8888888888888888,\"#fdca26\"],[1.0,\"#f0f921\"]]}],\"choropleth\":[{\"type\":\"choropleth\",\"colorbar\":{\"outlinewidth\":0,\"ticks\":\"\"}}],\"histogram2d\":[{\"type\":\"histogram2d\",\"colorbar\":{\"outlinewidth\":0,\"ticks\":\"\"},\"colorscale\":[[0.0,\"#0d0887\"],[0.1111111111111111,\"#46039f\"],[0.2222222222222222,\"#7201a8\"],[0.3333333333333333,\"#9c179e\"],[0.4444444444444444,\"#bd3786\"],[0.5555555555555556,\"#d8576b\"],[0.6666666666666666,\"#ed7953\"],[0.7777777777777778,\"#fb9f3a\"],[0.8888888888888888,\"#fdca26\"],[1.0,\"#f0f921\"]]}],\"heatmap\":[{\"type\":\"heatmap\",\"colorbar\":{\"outlinewidth\":0,\"ticks\":\"\"},\"colorscale\":[[0.0,\"#0d0887\"],[0.1111111111111111,\"#46039f\"],[0.2222222222222222,\"#7201a8\"],[0.3333333333333333,\"#9c179e\"],[0.4444444444444444,\"#bd3786\"],[0.5555555555555556,\"#d8576b\"],[0.6666666666666666,\"#ed7953\"],[0.7777777777777778,\"#fb9f3a\"],[0.8888888888888888,\"#fdca26\"],[1.0,\"#f0f921\"]]}],\"heatmapgl\":[{\"type\":\"heatmapgl\",\"colorbar\":{\"outlinewidth\":0,\"ticks\":\"\"},\"colorscale\":[[0.0,\"#0d0887\"],[0.1111111111111111,\"#46039f\"],[0.2222222222222222,\"#7201a8\"],[0.3333333333333333,\"#9c179e\"],[0.4444444444444444,\"#bd3786\"],[0.5555555555555556,\"#d8576b\"],[0.6666666666666666,\"#ed7953\"],[0.7777777777777778,\"#fb9f3a\"],[0.8888888888888888,\"#fdca26\"],[1.0,\"#f0f921\"]]}],\"contourcarpet\":[{\"type\":\"contourcarpet\",\"colorbar\":{\"outlinewidth\":0,\"ticks\":\"\"}}],\"contour\":[{\"type\":\"contour\",\"colorbar\":{\"outlinewidth\":0,\"ticks\":\"\"},\"colorscale\":[[0.0,\"#0d0887\"],[0.1111111111111111,\"#46039f\"],[0.2222222222222222,\"#7201a8\"],[0.3333333333333333,\"#9c179e\"],[0.4444444444444444,\"#bd3786\"],[0.5555555555555556,\"#d8576b\"],[0.6666666666666666,\"#ed7953\"],[0.7777777777777778,\"#fb9f3a\"],[0.8888888888888888,\"#fdca26\"],[1.0,\"#f0f921\"]]}],\"surface\":[{\"type\":\"surface\",\"colorbar\":{\"outlinewidth\":0,\"ticks\":\"\"},\"colorscale\":[[0.0,\"#0d0887\"],[0.1111111111111111,\"#46039f\"],[0.2222222222222222,\"#7201a8\"],[0.3333333333333333,\"#9c179e\"],[0.4444444444444444,\"#bd3786\"],[0.5555555555555556,\"#d8576b\"],[0.6666666666666666,\"#ed7953\"],[0.7777777777777778,\"#fb9f3a\"],[0.8888888888888888,\"#fdca26\"],[1.0,\"#f0f921\"]]}],\"mesh3d\":[{\"type\":\"mesh3d\",\"colorbar\":{\"outlinewidth\":0,\"ticks\":\"\"}}],\"scatter\":[{\"fillpattern\":{\"fillmode\":\"overlay\",\"size\":10,\"solidity\":0.2},\"type\":\"scatter\"}],\"parcoords\":[{\"type\":\"parcoords\",\"line\":{\"colorbar\":{\"outlinewidth\":0,\"ticks\":\"\"}}}],\"scatterpolargl\":[{\"type\":\"scatterpolargl\",\"marker\":{\"colorbar\":{\"outlinewidth\":0,\"ticks\":\"\"}}}],\"bar\":[{\"error_x\":{\"color\":\"#2a3f5f\"},\"error_y\":{\"color\":\"#2a3f5f\"},\"marker\":{\"line\":{\"color\":\"#E5ECF6\",\"width\":0.5},\"pattern\":{\"fillmode\":\"overlay\",\"size\":10,\"solidity\":0.2}},\"type\":\"bar\"}],\"scattergeo\":[{\"type\":\"scattergeo\",\"marker\":{\"colorbar\":{\"outlinewidth\":0,\"ticks\":\"\"}}}],\"scatterpolar\":[{\"type\":\"scatterpolar\",\"marker\":{\"colorbar\":{\"outlinewidth\":0,\"ticks\":\"\"}}}],\"histogram\":[{\"marker\":{\"pattern\":{\"fillmode\":\"overlay\",\"size\":10,\"solidity\":0.2}},\"type\":\"histogram\"}],\"scattergl\":[{\"type\":\"scattergl\",\"marker\":{\"colorbar\":{\"outlinewidth\":0,\"ticks\":\"\"}}}],\"scatter3d\":[{\"type\":\"scatter3d\",\"line\":{\"colorbar\":{\"outlinewidth\":0,\"ticks\":\"\"}},\"marker\":{\"colorbar\":{\"outlinewidth\":0,\"ticks\":\"\"}}}],\"scattermapbox\":[{\"type\":\"scattermapbox\",\"marker\":{\"colorbar\":{\"outlinewidth\":0,\"ticks\":\"\"}}}],\"scatterternary\":[{\"type\":\"scatterternary\",\"marker\":{\"colorbar\":{\"outlinewidth\":0,\"ticks\":\"\"}}}],\"scattercarpet\":[{\"type\":\"scattercarpet\",\"marker\":{\"colorbar\":{\"outlinewidth\":0,\"ticks\":\"\"}}}],\"carpet\":[{\"aaxis\":{\"endlinecolor\":\"#2a3f5f\",\"gridcolor\":\"white\",\"linecolor\":\"white\",\"minorgridcolor\":\"white\",\"startlinecolor\":\"#2a3f5f\"},\"baxis\":{\"endlinecolor\":\"#2a3f5f\",\"gridcolor\":\"white\",\"linecolor\":\"white\",\"minorgridcolor\":\"white\",\"startlinecolor\":\"#2a3f5f\"},\"type\":\"carpet\"}],\"table\":[{\"cells\":{\"fill\":{\"color\":\"#EBF0F8\"},\"line\":{\"color\":\"white\"}},\"header\":{\"fill\":{\"color\":\"#C8D4E3\"},\"line\":{\"color\":\"white\"}},\"type\":\"table\"}],\"barpolar\":[{\"marker\":{\"line\":{\"color\":\"#E5ECF6\",\"width\":0.5},\"pattern\":{\"fillmode\":\"overlay\",\"size\":10,\"solidity\":0.2}},\"type\":\"barpolar\"}],\"pie\":[{\"automargin\":true,\"type\":\"pie\"}]},\"layout\":{\"autotypenumbers\":\"strict\",\"colorway\":[\"#636efa\",\"#EF553B\",\"#00cc96\",\"#ab63fa\",\"#FFA15A\",\"#19d3f3\",\"#FF6692\",\"#B6E880\",\"#FF97FF\",\"#FECB52\"],\"font\":{\"color\":\"#2a3f5f\"},\"hovermode\":\"closest\",\"hoverlabel\":{\"align\":\"left\"},\"paper_bgcolor\":\"white\",\"plot_bgcolor\":\"#E5ECF6\",\"polar\":{\"bgcolor\":\"#E5ECF6\",\"angularaxis\":{\"gridcolor\":\"white\",\"linecolor\":\"white\",\"ticks\":\"\"},\"radialaxis\":{\"gridcolor\":\"white\",\"linecolor\":\"white\",\"ticks\":\"\"}},\"ternary\":{\"bgcolor\":\"#E5ECF6\",\"aaxis\":{\"gridcolor\":\"white\",\"linecolor\":\"white\",\"ticks\":\"\"},\"baxis\":{\"gridcolor\":\"white\",\"linecolor\":\"white\",\"ticks\":\"\"},\"caxis\":{\"gridcolor\":\"white\",\"linecolor\":\"white\",\"ticks\":\"\"}},\"coloraxis\":{\"colorbar\":{\"outlinewidth\":0,\"ticks\":\"\"}},\"colorscale\":{\"sequential\":[[0.0,\"#0d0887\"],[0.1111111111111111,\"#46039f\"],[0.2222222222222222,\"#7201a8\"],[0.3333333333333333,\"#9c179e\"],[0.4444444444444444,\"#bd3786\"],[0.5555555555555556,\"#d8576b\"],[0.6666666666666666,\"#ed7953\"],[0.7777777777777778,\"#fb9f3a\"],[0.8888888888888888,\"#fdca26\"],[1.0,\"#f0f921\"]],\"sequentialminus\":[[0.0,\"#0d0887\"],[0.1111111111111111,\"#46039f\"],[0.2222222222222222,\"#7201a8\"],[0.3333333333333333,\"#9c179e\"],[0.4444444444444444,\"#bd3786\"],[0.5555555555555556,\"#d8576b\"],[0.6666666666666666,\"#ed7953\"],[0.7777777777777778,\"#fb9f3a\"],[0.8888888888888888,\"#fdca26\"],[1.0,\"#f0f921\"]],\"diverging\":[[0,\"#8e0152\"],[0.1,\"#c51b7d\"],[0.2,\"#de77ae\"],[0.3,\"#f1b6da\"],[0.4,\"#fde0ef\"],[0.5,\"#f7f7f7\"],[0.6,\"#e6f5d0\"],[0.7,\"#b8e186\"],[0.8,\"#7fbc41\"],[0.9,\"#4d9221\"],[1,\"#276419\"]]},\"xaxis\":{\"gridcolor\":\"white\",\"linecolor\":\"white\",\"ticks\":\"\",\"title\":{\"standoff\":15},\"zerolinecolor\":\"white\",\"automargin\":true,\"zerolinewidth\":2},\"yaxis\":{\"gridcolor\":\"white\",\"linecolor\":\"white\",\"ticks\":\"\",\"title\":{\"standoff\":15},\"zerolinecolor\":\"white\",\"automargin\":true,\"zerolinewidth\":2},\"scene\":{\"xaxis\":{\"backgroundcolor\":\"#E5ECF6\",\"gridcolor\":\"white\",\"linecolor\":\"white\",\"showbackground\":true,\"ticks\":\"\",\"zerolinecolor\":\"white\",\"gridwidth\":2},\"yaxis\":{\"backgroundcolor\":\"#E5ECF6\",\"gridcolor\":\"white\",\"linecolor\":\"white\",\"showbackground\":true,\"ticks\":\"\",\"zerolinecolor\":\"white\",\"gridwidth\":2},\"zaxis\":{\"backgroundcolor\":\"#E5ECF6\",\"gridcolor\":\"white\",\"linecolor\":\"white\",\"showbackground\":true,\"ticks\":\"\",\"zerolinecolor\":\"white\",\"gridwidth\":2}},\"shapedefaults\":{\"line\":{\"color\":\"#2a3f5f\"}},\"annotationdefaults\":{\"arrowcolor\":\"#2a3f5f\",\"arrowhead\":0,\"arrowwidth\":1},\"geo\":{\"bgcolor\":\"white\",\"landcolor\":\"#E5ECF6\",\"subunitcolor\":\"white\",\"showland\":true,\"showlakes\":true,\"lakecolor\":\"white\"},\"title\":{\"x\":0.05},\"mapbox\":{\"style\":\"light\"}}},\"legend\":{\"tracegroupgap\":0},\"margin\":{\"t\":60},\"font\":{\"size\":12,\"color\":\"black\",\"family\":\"Helvetica\"},\"title\":{\"text\":\"\\u0e01\\u0e32\\u0e23\\u0e40\\u0e02\\u0e49\\u0e32\\u0e23\\u0e48\\u0e27\\u0e21\\u0e07\\u0e32\\u0e19\\u0e14\\u0e19\\u0e15\\u0e23\\u0e35\\u0e20\\u0e32\\u0e22\\u0e43\\u0e19\\u0e21\\u0e2b\\u0e32\\u0e27\\u0e34\\u0e17\\u0e22\\u0e32\\u0e25\\u0e31\\u0e22\\u0e40\\u0e1e\\u0e37\\u0e48\\u0e2d\\u0e04\\u0e25\\u0e32\\u0e22\\u0e04\\u0e27\\u0e32\\u0e21\\u0e40\\u0e04\\u0e23\\u0e35\\u0e22\\u0e14\",\"font\":{\"size\":22,\"color\":\"black\",\"family\":\"Helvetica\"}},\"plot_bgcolor\":\"white\",\"height\":500,\"width\":700,\"showlegend\":true},                        {\"responsive\": true}                    ).then(function(){\n",
              "                            \n",
              "var gd = document.getElementById('ce6f41e7-cca6-4e21-8820-d37236116898');\n",
              "var x = new MutationObserver(function (mutations, observer) {{\n",
              "        var display = window.getComputedStyle(gd).display;\n",
              "        if (!display || display === 'none') {{\n",
              "            console.log([gd, 'removed!']);\n",
              "            Plotly.purge(gd);\n",
              "            observer.disconnect();\n",
              "        }}\n",
              "}});\n",
              "\n",
              "// Listen for the removal of the full notebook cells\n",
              "var notebookContainer = gd.closest('#notebook-container');\n",
              "if (notebookContainer) {{\n",
              "    x.observe(notebookContainer, {childList: true});\n",
              "}}\n",
              "\n",
              "// Listen for the clearing of the current output cell\n",
              "var outputEl = gd.closest('.output');\n",
              "if (outputEl) {{\n",
              "    x.observe(outputEl, {childList: true});\n",
              "}}\n",
              "\n",
              "                        })                };                            </script>        </div>\n",
              "</body>\n",
              "</html>"
            ]
          },
          "metadata": {}
        }
      ],
      "source": [
        "import plotly.express as px\n",
        "\n",
        "grouped_dfm = df['s_ac'].value_counts()\n",
        "\n",
        "fig = px.pie(values=grouped_dfm, names=grouped_dfm.index)\n",
        "fig.update_traces(pull=[0.02]*len(grouped_dfm), textinfo='percent+value',marker=dict(colors=px.colors.qualitative.Plotly))\n",
        "fig.update_layout(title='การเข้าร่วมงานดนตรีภายในมหาวิทยาลัยเพื่อคลายความเครียด',\n",
        "                  plot_bgcolor='white',\n",
        "                  height=500,\n",
        "                  width=700,\n",
        "                  font=dict(size=12, color='black', family='Helvetica'),\n",
        "                  title_font=dict(size=22, color='black', family='Helvetica'),\n",
        "                  showlegend=True)\n",
        "fig.show()"
      ]
    },
    {
      "cell_type": "markdown",
      "metadata": {
        "id": "UGsxEKHJyEp8"
      },
      "source": [
        "###คะแนนความพึงพอใจจากการเข้าร่วมงานดนตรีมากน้อยเพียงใด"
      ]
    },
    {
      "cell_type": "code",
      "execution_count": null,
      "metadata": {
        "id": "mZR23DvTyI6K"
      },
      "outputs": [],
      "source": [
        "pre_ms = df_ms[df_ms['s_satisfy']!='ไม่เคยเข้าร่วม']"
      ]
    },
    {
      "cell_type": "code",
      "execution_count": null,
      "metadata": {
        "colab": {
          "base_uri": "https://localhost:8080/",
          "height": 537
        },
        "id": "d87YjH6dyKuS",
        "outputId": "bca3ff74-36e8-4fe6-dfbf-d1687a1dc427"
      },
      "outputs": [
        {
          "output_type": "display_data",
          "data": {
            "text/html": [
              "<html>\n",
              "<head><meta charset=\"utf-8\" /></head>\n",
              "<body>\n",
              "    <div>            <script src=\"https://cdnjs.cloudflare.com/ajax/libs/mathjax/2.7.5/MathJax.js?config=TeX-AMS-MML_SVG\"></script><script type=\"text/javascript\">if (window.MathJax && window.MathJax.Hub && window.MathJax.Hub.Config) {window.MathJax.Hub.Config({SVG: {font: \"STIX-Web\"}});}</script>                <script type=\"text/javascript\">window.PlotlyConfig = {MathJaxConfig: 'local'};</script>\n",
              "        <script src=\"https://cdn.plot.ly/plotly-2.18.2.min.js\"></script>                <div id=\"4f0dd2a3-f70f-49e9-9b19-e8818b07d268\" class=\"plotly-graph-div\" style=\"height:500px; width:800px;\"></div>            <script type=\"text/javascript\">                                    window.PLOTLYENV=window.PLOTLYENV || {};                                    if (document.getElementById(\"4f0dd2a3-f70f-49e9-9b19-e8818b07d268\")) {                    Plotly.newPlot(                        \"4f0dd2a3-f70f-49e9-9b19-e8818b07d268\",                        [{\"alignmentgroup\":\"True\",\"hovertemplate\":\"Frequency=%{marker.color}<br>Choice=%{y}<extra></extra>\",\"legendgroup\":\"\",\"marker\":{\"color\":[18,13,7],\"coloraxis\":\"coloraxis\",\"pattern\":{\"shape\":\"\"}},\"name\":\"\",\"offsetgroup\":\"\",\"orientation\":\"h\",\"showlegend\":false,\"textposition\":\"outside\",\"x\":[18,13,7],\"xaxis\":\"x\",\"y\":[\"\\u0e1e\\u0e2d\\u0e43\\u0e08\\u0e2d\\u0e22\\u0e48\\u0e32\\u0e07\\u0e22\\u0e34\\u0e48\\u0e07\",\"\\u0e1e\\u0e2d\\u0e43\\u0e08\",\"\\u0e1b\\u0e32\\u0e19\\u0e01\\u0e25\\u0e32\\u0e07\"],\"yaxis\":\"y\",\"type\":\"bar\",\"text\":[\"18 (47.4%)\",\"13 (34.2%)\",\"7 (18.4%)\"]}],                        {\"template\":{\"data\":{\"histogram2dcontour\":[{\"type\":\"histogram2dcontour\",\"colorbar\":{\"outlinewidth\":0,\"ticks\":\"\"},\"colorscale\":[[0.0,\"#0d0887\"],[0.1111111111111111,\"#46039f\"],[0.2222222222222222,\"#7201a8\"],[0.3333333333333333,\"#9c179e\"],[0.4444444444444444,\"#bd3786\"],[0.5555555555555556,\"#d8576b\"],[0.6666666666666666,\"#ed7953\"],[0.7777777777777778,\"#fb9f3a\"],[0.8888888888888888,\"#fdca26\"],[1.0,\"#f0f921\"]]}],\"choropleth\":[{\"type\":\"choropleth\",\"colorbar\":{\"outlinewidth\":0,\"ticks\":\"\"}}],\"histogram2d\":[{\"type\":\"histogram2d\",\"colorbar\":{\"outlinewidth\":0,\"ticks\":\"\"},\"colorscale\":[[0.0,\"#0d0887\"],[0.1111111111111111,\"#46039f\"],[0.2222222222222222,\"#7201a8\"],[0.3333333333333333,\"#9c179e\"],[0.4444444444444444,\"#bd3786\"],[0.5555555555555556,\"#d8576b\"],[0.6666666666666666,\"#ed7953\"],[0.7777777777777778,\"#fb9f3a\"],[0.8888888888888888,\"#fdca26\"],[1.0,\"#f0f921\"]]}],\"heatmap\":[{\"type\":\"heatmap\",\"colorbar\":{\"outlinewidth\":0,\"ticks\":\"\"},\"colorscale\":[[0.0,\"#0d0887\"],[0.1111111111111111,\"#46039f\"],[0.2222222222222222,\"#7201a8\"],[0.3333333333333333,\"#9c179e\"],[0.4444444444444444,\"#bd3786\"],[0.5555555555555556,\"#d8576b\"],[0.6666666666666666,\"#ed7953\"],[0.7777777777777778,\"#fb9f3a\"],[0.8888888888888888,\"#fdca26\"],[1.0,\"#f0f921\"]]}],\"heatmapgl\":[{\"type\":\"heatmapgl\",\"colorbar\":{\"outlinewidth\":0,\"ticks\":\"\"},\"colorscale\":[[0.0,\"#0d0887\"],[0.1111111111111111,\"#46039f\"],[0.2222222222222222,\"#7201a8\"],[0.3333333333333333,\"#9c179e\"],[0.4444444444444444,\"#bd3786\"],[0.5555555555555556,\"#d8576b\"],[0.6666666666666666,\"#ed7953\"],[0.7777777777777778,\"#fb9f3a\"],[0.8888888888888888,\"#fdca26\"],[1.0,\"#f0f921\"]]}],\"contourcarpet\":[{\"type\":\"contourcarpet\",\"colorbar\":{\"outlinewidth\":0,\"ticks\":\"\"}}],\"contour\":[{\"type\":\"contour\",\"colorbar\":{\"outlinewidth\":0,\"ticks\":\"\"},\"colorscale\":[[0.0,\"#0d0887\"],[0.1111111111111111,\"#46039f\"],[0.2222222222222222,\"#7201a8\"],[0.3333333333333333,\"#9c179e\"],[0.4444444444444444,\"#bd3786\"],[0.5555555555555556,\"#d8576b\"],[0.6666666666666666,\"#ed7953\"],[0.7777777777777778,\"#fb9f3a\"],[0.8888888888888888,\"#fdca26\"],[1.0,\"#f0f921\"]]}],\"surface\":[{\"type\":\"surface\",\"colorbar\":{\"outlinewidth\":0,\"ticks\":\"\"},\"colorscale\":[[0.0,\"#0d0887\"],[0.1111111111111111,\"#46039f\"],[0.2222222222222222,\"#7201a8\"],[0.3333333333333333,\"#9c179e\"],[0.4444444444444444,\"#bd3786\"],[0.5555555555555556,\"#d8576b\"],[0.6666666666666666,\"#ed7953\"],[0.7777777777777778,\"#fb9f3a\"],[0.8888888888888888,\"#fdca26\"],[1.0,\"#f0f921\"]]}],\"mesh3d\":[{\"type\":\"mesh3d\",\"colorbar\":{\"outlinewidth\":0,\"ticks\":\"\"}}],\"scatter\":[{\"fillpattern\":{\"fillmode\":\"overlay\",\"size\":10,\"solidity\":0.2},\"type\":\"scatter\"}],\"parcoords\":[{\"type\":\"parcoords\",\"line\":{\"colorbar\":{\"outlinewidth\":0,\"ticks\":\"\"}}}],\"scatterpolargl\":[{\"type\":\"scatterpolargl\",\"marker\":{\"colorbar\":{\"outlinewidth\":0,\"ticks\":\"\"}}}],\"bar\":[{\"error_x\":{\"color\":\"#2a3f5f\"},\"error_y\":{\"color\":\"#2a3f5f\"},\"marker\":{\"line\":{\"color\":\"#E5ECF6\",\"width\":0.5},\"pattern\":{\"fillmode\":\"overlay\",\"size\":10,\"solidity\":0.2}},\"type\":\"bar\"}],\"scattergeo\":[{\"type\":\"scattergeo\",\"marker\":{\"colorbar\":{\"outlinewidth\":0,\"ticks\":\"\"}}}],\"scatterpolar\":[{\"type\":\"scatterpolar\",\"marker\":{\"colorbar\":{\"outlinewidth\":0,\"ticks\":\"\"}}}],\"histogram\":[{\"marker\":{\"pattern\":{\"fillmode\":\"overlay\",\"size\":10,\"solidity\":0.2}},\"type\":\"histogram\"}],\"scattergl\":[{\"type\":\"scattergl\",\"marker\":{\"colorbar\":{\"outlinewidth\":0,\"ticks\":\"\"}}}],\"scatter3d\":[{\"type\":\"scatter3d\",\"line\":{\"colorbar\":{\"outlinewidth\":0,\"ticks\":\"\"}},\"marker\":{\"colorbar\":{\"outlinewidth\":0,\"ticks\":\"\"}}}],\"scattermapbox\":[{\"type\":\"scattermapbox\",\"marker\":{\"colorbar\":{\"outlinewidth\":0,\"ticks\":\"\"}}}],\"scatterternary\":[{\"type\":\"scatterternary\",\"marker\":{\"colorbar\":{\"outlinewidth\":0,\"ticks\":\"\"}}}],\"scattercarpet\":[{\"type\":\"scattercarpet\",\"marker\":{\"colorbar\":{\"outlinewidth\":0,\"ticks\":\"\"}}}],\"carpet\":[{\"aaxis\":{\"endlinecolor\":\"#2a3f5f\",\"gridcolor\":\"white\",\"linecolor\":\"white\",\"minorgridcolor\":\"white\",\"startlinecolor\":\"#2a3f5f\"},\"baxis\":{\"endlinecolor\":\"#2a3f5f\",\"gridcolor\":\"white\",\"linecolor\":\"white\",\"minorgridcolor\":\"white\",\"startlinecolor\":\"#2a3f5f\"},\"type\":\"carpet\"}],\"table\":[{\"cells\":{\"fill\":{\"color\":\"#EBF0F8\"},\"line\":{\"color\":\"white\"}},\"header\":{\"fill\":{\"color\":\"#C8D4E3\"},\"line\":{\"color\":\"white\"}},\"type\":\"table\"}],\"barpolar\":[{\"marker\":{\"line\":{\"color\":\"#E5ECF6\",\"width\":0.5},\"pattern\":{\"fillmode\":\"overlay\",\"size\":10,\"solidity\":0.2}},\"type\":\"barpolar\"}],\"pie\":[{\"automargin\":true,\"type\":\"pie\"}]},\"layout\":{\"autotypenumbers\":\"strict\",\"colorway\":[\"#636efa\",\"#EF553B\",\"#00cc96\",\"#ab63fa\",\"#FFA15A\",\"#19d3f3\",\"#FF6692\",\"#B6E880\",\"#FF97FF\",\"#FECB52\"],\"font\":{\"color\":\"#2a3f5f\"},\"hovermode\":\"closest\",\"hoverlabel\":{\"align\":\"left\"},\"paper_bgcolor\":\"white\",\"plot_bgcolor\":\"#E5ECF6\",\"polar\":{\"bgcolor\":\"#E5ECF6\",\"angularaxis\":{\"gridcolor\":\"white\",\"linecolor\":\"white\",\"ticks\":\"\"},\"radialaxis\":{\"gridcolor\":\"white\",\"linecolor\":\"white\",\"ticks\":\"\"}},\"ternary\":{\"bgcolor\":\"#E5ECF6\",\"aaxis\":{\"gridcolor\":\"white\",\"linecolor\":\"white\",\"ticks\":\"\"},\"baxis\":{\"gridcolor\":\"white\",\"linecolor\":\"white\",\"ticks\":\"\"},\"caxis\":{\"gridcolor\":\"white\",\"linecolor\":\"white\",\"ticks\":\"\"}},\"coloraxis\":{\"colorbar\":{\"outlinewidth\":0,\"ticks\":\"\"}},\"colorscale\":{\"sequential\":[[0.0,\"#0d0887\"],[0.1111111111111111,\"#46039f\"],[0.2222222222222222,\"#7201a8\"],[0.3333333333333333,\"#9c179e\"],[0.4444444444444444,\"#bd3786\"],[0.5555555555555556,\"#d8576b\"],[0.6666666666666666,\"#ed7953\"],[0.7777777777777778,\"#fb9f3a\"],[0.8888888888888888,\"#fdca26\"],[1.0,\"#f0f921\"]],\"sequentialminus\":[[0.0,\"#0d0887\"],[0.1111111111111111,\"#46039f\"],[0.2222222222222222,\"#7201a8\"],[0.3333333333333333,\"#9c179e\"],[0.4444444444444444,\"#bd3786\"],[0.5555555555555556,\"#d8576b\"],[0.6666666666666666,\"#ed7953\"],[0.7777777777777778,\"#fb9f3a\"],[0.8888888888888888,\"#fdca26\"],[1.0,\"#f0f921\"]],\"diverging\":[[0,\"#8e0152\"],[0.1,\"#c51b7d\"],[0.2,\"#de77ae\"],[0.3,\"#f1b6da\"],[0.4,\"#fde0ef\"],[0.5,\"#f7f7f7\"],[0.6,\"#e6f5d0\"],[0.7,\"#b8e186\"],[0.8,\"#7fbc41\"],[0.9,\"#4d9221\"],[1,\"#276419\"]]},\"xaxis\":{\"gridcolor\":\"white\",\"linecolor\":\"white\",\"ticks\":\"\",\"title\":{\"standoff\":15},\"zerolinecolor\":\"white\",\"automargin\":true,\"zerolinewidth\":2},\"yaxis\":{\"gridcolor\":\"white\",\"linecolor\":\"white\",\"ticks\":\"\",\"title\":{\"standoff\":15},\"zerolinecolor\":\"white\",\"automargin\":true,\"zerolinewidth\":2},\"scene\":{\"xaxis\":{\"backgroundcolor\":\"#E5ECF6\",\"gridcolor\":\"white\",\"linecolor\":\"white\",\"showbackground\":true,\"ticks\":\"\",\"zerolinecolor\":\"white\",\"gridwidth\":2},\"yaxis\":{\"backgroundcolor\":\"#E5ECF6\",\"gridcolor\":\"white\",\"linecolor\":\"white\",\"showbackground\":true,\"ticks\":\"\",\"zerolinecolor\":\"white\",\"gridwidth\":2},\"zaxis\":{\"backgroundcolor\":\"#E5ECF6\",\"gridcolor\":\"white\",\"linecolor\":\"white\",\"showbackground\":true,\"ticks\":\"\",\"zerolinecolor\":\"white\",\"gridwidth\":2}},\"shapedefaults\":{\"line\":{\"color\":\"#2a3f5f\"}},\"annotationdefaults\":{\"arrowcolor\":\"#2a3f5f\",\"arrowhead\":0,\"arrowwidth\":1},\"geo\":{\"bgcolor\":\"white\",\"landcolor\":\"#E5ECF6\",\"subunitcolor\":\"white\",\"showland\":true,\"showlakes\":true,\"lakecolor\":\"white\"},\"title\":{\"x\":0.05},\"mapbox\":{\"style\":\"light\"}}},\"xaxis\":{\"anchor\":\"y\",\"domain\":[0.0,1.0],\"title\":{\"text\":\"Frequency\",\"font\":{\"size\":14,\"color\":\"black\",\"family\":\"Helvetica\"}},\"range\":[0,28]},\"yaxis\":{\"anchor\":\"x\",\"domain\":[0.0,1.0],\"title\":{\"text\":\"Choice\",\"font\":{\"size\":14,\"color\":\"black\",\"family\":\"Helvetica\"}},\"autorange\":\"reversed\"},\"coloraxis\":{\"colorbar\":{\"title\":{\"text\":\"Frequency\"}},\"colorscale\":[[0.0,\"rgb(255, 198, 196)\"],[0.16666666666666666,\"rgb(244, 163, 168)\"],[0.3333333333333333,\"rgb(227, 129, 145)\"],[0.5,\"rgb(204, 96, 125)\"],[0.6666666666666666,\"rgb(173, 70, 108)\"],[0.8333333333333334,\"rgb(139, 48, 88)\"],[1.0,\"rgb(103, 32, 68)\"]]},\"legend\":{\"tracegroupgap\":0},\"title\":{\"text\":\"\\u0e41\\u0e1c\\u0e19\\u0e20\\u0e39\\u0e21\\u0e34\\u0e41\\u0e17\\u0e48\\u0e07\\u0e41\\u0e2a\\u0e14\\u0e07\\u0e04\\u0e30\\u0e41\\u0e19\\u0e19\\u0e04\\u0e27\\u0e32\\u0e21\\u0e1e\\u0e36\\u0e07\\u0e1e\\u0e2d\\u0e43\\u0e08\\u0e43\\u0e19\\u0e01\\u0e32\\u0e23\\u0e40\\u0e02\\u0e49\\u0e32\\u0e23\\u0e48\\u0e27\\u0e21\\u0e07\\u0e32\\u0e19\\u0e14\\u0e19\\u0e15\\u0e23\\u0e35\",\"font\":{\"size\":22,\"color\":\"black\",\"family\":\"Helvetica\"}},\"barmode\":\"relative\",\"font\":{\"size\":12,\"color\":\"black\",\"family\":\"Helvetica\"},\"margin\":{\"l\":100,\"r\":50,\"b\":50,\"t\":80},\"height\":500,\"width\":800,\"showlegend\":false,\"plot_bgcolor\":\"white\"},                        {\"responsive\": true}                    ).then(function(){\n",
              "                            \n",
              "var gd = document.getElementById('4f0dd2a3-f70f-49e9-9b19-e8818b07d268');\n",
              "var x = new MutationObserver(function (mutations, observer) {{\n",
              "        var display = window.getComputedStyle(gd).display;\n",
              "        if (!display || display === 'none') {{\n",
              "            console.log([gd, 'removed!']);\n",
              "            Plotly.purge(gd);\n",
              "            observer.disconnect();\n",
              "        }}\n",
              "}});\n",
              "\n",
              "// Listen for the removal of the full notebook cells\n",
              "var notebookContainer = gd.closest('#notebook-container');\n",
              "if (notebookContainer) {{\n",
              "    x.observe(notebookContainer, {childList: true});\n",
              "}}\n",
              "\n",
              "// Listen for the clearing of the current output cell\n",
              "var outputEl = gd.closest('.output');\n",
              "if (outputEl) {{\n",
              "    x.observe(outputEl, {childList: true});\n",
              "}}\n",
              "\n",
              "                        })                };                            </script>        </div>\n",
              "</body>\n",
              "</html>"
            ]
          },
          "metadata": {}
        }
      ],
      "source": [
        "#Bar Chart\n",
        "m_when_ac_counts = pre_ms['s_satisfy'].astype(str).str.strip().replace(' ', '', regex=True)\n",
        "m_when_ac_counts = m_when_ac_counts.str.split(',', expand=True).stack().value_counts().reset_index()\n",
        "m_when_ac_counts.columns = ['choice', 'frequency']\n",
        "\n",
        "# Calculate the percentage values\n",
        "m_when_ac_counts['percentage'] = m_when_ac_counts['frequency'] / m_when_ac_counts['frequency'].sum() * 100\n",
        "m_when_ac_counts['text'] = m_when_ac_counts.apply(lambda x: f\"{x['frequency']} ({x['percentage']:.1f}%)\", axis=1)\n",
        "\n",
        "fig = px.bar(m_when_ac_counts, x='frequency', y='choice',\n",
        "             color='frequency', color_continuous_scale='burg',\n",
        "             title='แผนภูมิแท่งแสดงคะแนนความพึงพอใจในการเข้าร่วมงานดนตรี',\n",
        "             labels={'frequency':'Frequency', 'choice':'Choice'})\n",
        "fig.update_layout(\n",
        "    font=dict(size=12, color='black', family='Helvetica'),\n",
        "    xaxis=dict(range=[0, m_when_ac_counts['frequency'].max() + 10],\n",
        "               title_font=dict(size=14, color='black', family='Helvetica')),\n",
        "    yaxis=dict(title_font=dict(size=14, color='black', family='Helvetica'), autorange='reversed'),\n",
        "    margin=dict(l=100, r=50, b=50, t=80),\n",
        "    height=500,\n",
        "    width=800,\n",
        "    showlegend=False,\n",
        "    plot_bgcolor='white',\n",
        "    title_font=dict(size=22, color='black', family='Helvetica'),\n",
        ")\n",
        "\n",
        "# Add the frequency and percentage values beside the bars\n",
        "fig.update_traces(text=m_when_ac_counts['text'], textposition='outside')\n",
        "\n",
        "fig.show()\n"
      ]
    },
    {
      "cell_type": "markdown",
      "metadata": {
        "id": "2bMQ6PJX0NcB"
      },
      "source": [
        "###แผนภูมิแท่งแสดงสถานที่ที่นักศึกษาอยากให้จัดงานดนตรีภายในมหาวิทยาลัยมากที่สุด"
      ]
    },
    {
      "cell_type": "code",
      "execution_count": null,
      "metadata": {
        "colab": {
          "base_uri": "https://localhost:8080/",
          "height": 537
        },
        "id": "eFCr_yMLybUa",
        "outputId": "275cd804-e60b-4b28-e46d-7f819da46aa6"
      },
      "outputs": [
        {
          "output_type": "display_data",
          "data": {
            "text/html": [
              "<html>\n",
              "<head><meta charset=\"utf-8\" /></head>\n",
              "<body>\n",
              "    <div>            <script src=\"https://cdnjs.cloudflare.com/ajax/libs/mathjax/2.7.5/MathJax.js?config=TeX-AMS-MML_SVG\"></script><script type=\"text/javascript\">if (window.MathJax && window.MathJax.Hub && window.MathJax.Hub.Config) {window.MathJax.Hub.Config({SVG: {font: \"STIX-Web\"}});}</script>                <script type=\"text/javascript\">window.PlotlyConfig = {MathJaxConfig: 'local'};</script>\n",
              "        <script src=\"https://cdn.plot.ly/plotly-2.18.2.min.js\"></script>                <div id=\"b407fcfb-0c68-4612-a99c-15bbf303fe44\" class=\"plotly-graph-div\" style=\"height:500px; width:800px;\"></div>            <script type=\"text/javascript\">                                    window.PLOTLYENV=window.PLOTLYENV || {};                                    if (document.getElementById(\"b407fcfb-0c68-4612-a99c-15bbf303fe44\")) {                    Plotly.newPlot(                        \"b407fcfb-0c68-4612-a99c-15bbf303fe44\",                        [{\"alignmentgroup\":\"True\",\"hovertemplate\":\"\\u0e04\\u0e27\\u0e32\\u0e21\\u0e16\\u0e35\\u0e48=%{marker.color}<br>\\u0e2a\\u0e16\\u0e32\\u0e19\\u0e17\\u0e35\\u0e48=%{y}<extra></extra>\",\"legendgroup\":\"\",\"marker\":{\"color\":[15,12,8,6,4,2,1],\"coloraxis\":\"coloraxis\",\"pattern\":{\"shape\":\"\"}},\"name\":\"\",\"offsetgroup\":\"\",\"orientation\":\"h\",\"showlegend\":false,\"textposition\":\"outside\",\"x\":[15,12,8,6,4,2,1],\"xaxis\":\"x\",\"y\":[\"\\u0e2a\\u0e19\\u0e32\\u0e21\\u0e23\\u0e32\\u0e29\\u0e0e\\u0e23\\u0e4c\",\"\\u0e25\\u0e32\\u0e19\\u0e1e\\u0e0d\\u0e32\\u0e19\\u0e32\\u0e04\",\"\\u0e2a\\u0e27\\u0e19\\u0e1b\\u0e4b\\u0e27\\u0e22\",\"\\u0e01\\u0e34\\u0e15\\u0e34\\u0e22\\u0e32\\u0e04\\u0e32\\u0e23\",\"\\u0e15\\u0e36\\u0e01\\u0e01\\u0e34\\u0e08\\u0e01\\u0e23\\u0e23\\u0e21\\u0e19\\u0e31\\u0e01\\u0e28\\u0e36\\u0e01\\u0e29\\u0e32\",\"WestGate\",\"\\u0e2b\\u0e19\\u0e49\\u0e32\\u0e2d\\u0e32\\u0e04\\u0e32\\u0e23\\u0e42\\u0e14\\u0e21\\u0e1a\\u0e23\\u0e34\\u0e2b\\u0e32\\u0e23\"],\"yaxis\":\"y\",\"type\":\"bar\",\"text\":[\"18 (47.4%)\",\"13 (34.2%)\",\"7 (18.4%)\"]}],                        {\"template\":{\"data\":{\"histogram2dcontour\":[{\"type\":\"histogram2dcontour\",\"colorbar\":{\"outlinewidth\":0,\"ticks\":\"\"},\"colorscale\":[[0.0,\"#0d0887\"],[0.1111111111111111,\"#46039f\"],[0.2222222222222222,\"#7201a8\"],[0.3333333333333333,\"#9c179e\"],[0.4444444444444444,\"#bd3786\"],[0.5555555555555556,\"#d8576b\"],[0.6666666666666666,\"#ed7953\"],[0.7777777777777778,\"#fb9f3a\"],[0.8888888888888888,\"#fdca26\"],[1.0,\"#f0f921\"]]}],\"choropleth\":[{\"type\":\"choropleth\",\"colorbar\":{\"outlinewidth\":0,\"ticks\":\"\"}}],\"histogram2d\":[{\"type\":\"histogram2d\",\"colorbar\":{\"outlinewidth\":0,\"ticks\":\"\"},\"colorscale\":[[0.0,\"#0d0887\"],[0.1111111111111111,\"#46039f\"],[0.2222222222222222,\"#7201a8\"],[0.3333333333333333,\"#9c179e\"],[0.4444444444444444,\"#bd3786\"],[0.5555555555555556,\"#d8576b\"],[0.6666666666666666,\"#ed7953\"],[0.7777777777777778,\"#fb9f3a\"],[0.8888888888888888,\"#fdca26\"],[1.0,\"#f0f921\"]]}],\"heatmap\":[{\"type\":\"heatmap\",\"colorbar\":{\"outlinewidth\":0,\"ticks\":\"\"},\"colorscale\":[[0.0,\"#0d0887\"],[0.1111111111111111,\"#46039f\"],[0.2222222222222222,\"#7201a8\"],[0.3333333333333333,\"#9c179e\"],[0.4444444444444444,\"#bd3786\"],[0.5555555555555556,\"#d8576b\"],[0.6666666666666666,\"#ed7953\"],[0.7777777777777778,\"#fb9f3a\"],[0.8888888888888888,\"#fdca26\"],[1.0,\"#f0f921\"]]}],\"heatmapgl\":[{\"type\":\"heatmapgl\",\"colorbar\":{\"outlinewidth\":0,\"ticks\":\"\"},\"colorscale\":[[0.0,\"#0d0887\"],[0.1111111111111111,\"#46039f\"],[0.2222222222222222,\"#7201a8\"],[0.3333333333333333,\"#9c179e\"],[0.4444444444444444,\"#bd3786\"],[0.5555555555555556,\"#d8576b\"],[0.6666666666666666,\"#ed7953\"],[0.7777777777777778,\"#fb9f3a\"],[0.8888888888888888,\"#fdca26\"],[1.0,\"#f0f921\"]]}],\"contourcarpet\":[{\"type\":\"contourcarpet\",\"colorbar\":{\"outlinewidth\":0,\"ticks\":\"\"}}],\"contour\":[{\"type\":\"contour\",\"colorbar\":{\"outlinewidth\":0,\"ticks\":\"\"},\"colorscale\":[[0.0,\"#0d0887\"],[0.1111111111111111,\"#46039f\"],[0.2222222222222222,\"#7201a8\"],[0.3333333333333333,\"#9c179e\"],[0.4444444444444444,\"#bd3786\"],[0.5555555555555556,\"#d8576b\"],[0.6666666666666666,\"#ed7953\"],[0.7777777777777778,\"#fb9f3a\"],[0.8888888888888888,\"#fdca26\"],[1.0,\"#f0f921\"]]}],\"surface\":[{\"type\":\"surface\",\"colorbar\":{\"outlinewidth\":0,\"ticks\":\"\"},\"colorscale\":[[0.0,\"#0d0887\"],[0.1111111111111111,\"#46039f\"],[0.2222222222222222,\"#7201a8\"],[0.3333333333333333,\"#9c179e\"],[0.4444444444444444,\"#bd3786\"],[0.5555555555555556,\"#d8576b\"],[0.6666666666666666,\"#ed7953\"],[0.7777777777777778,\"#fb9f3a\"],[0.8888888888888888,\"#fdca26\"],[1.0,\"#f0f921\"]]}],\"mesh3d\":[{\"type\":\"mesh3d\",\"colorbar\":{\"outlinewidth\":0,\"ticks\":\"\"}}],\"scatter\":[{\"fillpattern\":{\"fillmode\":\"overlay\",\"size\":10,\"solidity\":0.2},\"type\":\"scatter\"}],\"parcoords\":[{\"type\":\"parcoords\",\"line\":{\"colorbar\":{\"outlinewidth\":0,\"ticks\":\"\"}}}],\"scatterpolargl\":[{\"type\":\"scatterpolargl\",\"marker\":{\"colorbar\":{\"outlinewidth\":0,\"ticks\":\"\"}}}],\"bar\":[{\"error_x\":{\"color\":\"#2a3f5f\"},\"error_y\":{\"color\":\"#2a3f5f\"},\"marker\":{\"line\":{\"color\":\"#E5ECF6\",\"width\":0.5},\"pattern\":{\"fillmode\":\"overlay\",\"size\":10,\"solidity\":0.2}},\"type\":\"bar\"}],\"scattergeo\":[{\"type\":\"scattergeo\",\"marker\":{\"colorbar\":{\"outlinewidth\":0,\"ticks\":\"\"}}}],\"scatterpolar\":[{\"type\":\"scatterpolar\",\"marker\":{\"colorbar\":{\"outlinewidth\":0,\"ticks\":\"\"}}}],\"histogram\":[{\"marker\":{\"pattern\":{\"fillmode\":\"overlay\",\"size\":10,\"solidity\":0.2}},\"type\":\"histogram\"}],\"scattergl\":[{\"type\":\"scattergl\",\"marker\":{\"colorbar\":{\"outlinewidth\":0,\"ticks\":\"\"}}}],\"scatter3d\":[{\"type\":\"scatter3d\",\"line\":{\"colorbar\":{\"outlinewidth\":0,\"ticks\":\"\"}},\"marker\":{\"colorbar\":{\"outlinewidth\":0,\"ticks\":\"\"}}}],\"scattermapbox\":[{\"type\":\"scattermapbox\",\"marker\":{\"colorbar\":{\"outlinewidth\":0,\"ticks\":\"\"}}}],\"scatterternary\":[{\"type\":\"scatterternary\",\"marker\":{\"colorbar\":{\"outlinewidth\":0,\"ticks\":\"\"}}}],\"scattercarpet\":[{\"type\":\"scattercarpet\",\"marker\":{\"colorbar\":{\"outlinewidth\":0,\"ticks\":\"\"}}}],\"carpet\":[{\"aaxis\":{\"endlinecolor\":\"#2a3f5f\",\"gridcolor\":\"white\",\"linecolor\":\"white\",\"minorgridcolor\":\"white\",\"startlinecolor\":\"#2a3f5f\"},\"baxis\":{\"endlinecolor\":\"#2a3f5f\",\"gridcolor\":\"white\",\"linecolor\":\"white\",\"minorgridcolor\":\"white\",\"startlinecolor\":\"#2a3f5f\"},\"type\":\"carpet\"}],\"table\":[{\"cells\":{\"fill\":{\"color\":\"#EBF0F8\"},\"line\":{\"color\":\"white\"}},\"header\":{\"fill\":{\"color\":\"#C8D4E3\"},\"line\":{\"color\":\"white\"}},\"type\":\"table\"}],\"barpolar\":[{\"marker\":{\"line\":{\"color\":\"#E5ECF6\",\"width\":0.5},\"pattern\":{\"fillmode\":\"overlay\",\"size\":10,\"solidity\":0.2}},\"type\":\"barpolar\"}],\"pie\":[{\"automargin\":true,\"type\":\"pie\"}]},\"layout\":{\"autotypenumbers\":\"strict\",\"colorway\":[\"#636efa\",\"#EF553B\",\"#00cc96\",\"#ab63fa\",\"#FFA15A\",\"#19d3f3\",\"#FF6692\",\"#B6E880\",\"#FF97FF\",\"#FECB52\"],\"font\":{\"color\":\"#2a3f5f\"},\"hovermode\":\"closest\",\"hoverlabel\":{\"align\":\"left\"},\"paper_bgcolor\":\"white\",\"plot_bgcolor\":\"#E5ECF6\",\"polar\":{\"bgcolor\":\"#E5ECF6\",\"angularaxis\":{\"gridcolor\":\"white\",\"linecolor\":\"white\",\"ticks\":\"\"},\"radialaxis\":{\"gridcolor\":\"white\",\"linecolor\":\"white\",\"ticks\":\"\"}},\"ternary\":{\"bgcolor\":\"#E5ECF6\",\"aaxis\":{\"gridcolor\":\"white\",\"linecolor\":\"white\",\"ticks\":\"\"},\"baxis\":{\"gridcolor\":\"white\",\"linecolor\":\"white\",\"ticks\":\"\"},\"caxis\":{\"gridcolor\":\"white\",\"linecolor\":\"white\",\"ticks\":\"\"}},\"coloraxis\":{\"colorbar\":{\"outlinewidth\":0,\"ticks\":\"\"}},\"colorscale\":{\"sequential\":[[0.0,\"#0d0887\"],[0.1111111111111111,\"#46039f\"],[0.2222222222222222,\"#7201a8\"],[0.3333333333333333,\"#9c179e\"],[0.4444444444444444,\"#bd3786\"],[0.5555555555555556,\"#d8576b\"],[0.6666666666666666,\"#ed7953\"],[0.7777777777777778,\"#fb9f3a\"],[0.8888888888888888,\"#fdca26\"],[1.0,\"#f0f921\"]],\"sequentialminus\":[[0.0,\"#0d0887\"],[0.1111111111111111,\"#46039f\"],[0.2222222222222222,\"#7201a8\"],[0.3333333333333333,\"#9c179e\"],[0.4444444444444444,\"#bd3786\"],[0.5555555555555556,\"#d8576b\"],[0.6666666666666666,\"#ed7953\"],[0.7777777777777778,\"#fb9f3a\"],[0.8888888888888888,\"#fdca26\"],[1.0,\"#f0f921\"]],\"diverging\":[[0,\"#8e0152\"],[0.1,\"#c51b7d\"],[0.2,\"#de77ae\"],[0.3,\"#f1b6da\"],[0.4,\"#fde0ef\"],[0.5,\"#f7f7f7\"],[0.6,\"#e6f5d0\"],[0.7,\"#b8e186\"],[0.8,\"#7fbc41\"],[0.9,\"#4d9221\"],[1,\"#276419\"]]},\"xaxis\":{\"gridcolor\":\"white\",\"linecolor\":\"white\",\"ticks\":\"\",\"title\":{\"standoff\":15},\"zerolinecolor\":\"white\",\"automargin\":true,\"zerolinewidth\":2},\"yaxis\":{\"gridcolor\":\"white\",\"linecolor\":\"white\",\"ticks\":\"\",\"title\":{\"standoff\":15},\"zerolinecolor\":\"white\",\"automargin\":true,\"zerolinewidth\":2},\"scene\":{\"xaxis\":{\"backgroundcolor\":\"#E5ECF6\",\"gridcolor\":\"white\",\"linecolor\":\"white\",\"showbackground\":true,\"ticks\":\"\",\"zerolinecolor\":\"white\",\"gridwidth\":2},\"yaxis\":{\"backgroundcolor\":\"#E5ECF6\",\"gridcolor\":\"white\",\"linecolor\":\"white\",\"showbackground\":true,\"ticks\":\"\",\"zerolinecolor\":\"white\",\"gridwidth\":2},\"zaxis\":{\"backgroundcolor\":\"#E5ECF6\",\"gridcolor\":\"white\",\"linecolor\":\"white\",\"showbackground\":true,\"ticks\":\"\",\"zerolinecolor\":\"white\",\"gridwidth\":2}},\"shapedefaults\":{\"line\":{\"color\":\"#2a3f5f\"}},\"annotationdefaults\":{\"arrowcolor\":\"#2a3f5f\",\"arrowhead\":0,\"arrowwidth\":1},\"geo\":{\"bgcolor\":\"white\",\"landcolor\":\"#E5ECF6\",\"subunitcolor\":\"white\",\"showland\":true,\"showlakes\":true,\"lakecolor\":\"white\"},\"title\":{\"x\":0.05},\"mapbox\":{\"style\":\"light\"}}},\"xaxis\":{\"anchor\":\"y\",\"domain\":[0.0,1.0],\"title\":{\"text\":\"\\u0e04\\u0e27\\u0e32\\u0e21\\u0e16\\u0e35\\u0e48\",\"font\":{\"size\":14,\"color\":\"black\",\"family\":\"Helvetica\"}},\"range\":[0,28]},\"yaxis\":{\"anchor\":\"x\",\"domain\":[0.0,1.0],\"title\":{\"text\":\"\\u0e2a\\u0e16\\u0e32\\u0e19\\u0e17\\u0e35\\u0e48\",\"font\":{\"size\":14,\"color\":\"black\",\"family\":\"Helvetica\"}},\"autorange\":\"reversed\"},\"coloraxis\":{\"colorbar\":{\"title\":{\"text\":\"\\u0e04\\u0e27\\u0e32\\u0e21\\u0e16\\u0e35\\u0e48\"}},\"colorscale\":[[0.0,\"rgb(255, 198, 196)\"],[0.16666666666666666,\"rgb(244, 163, 168)\"],[0.3333333333333333,\"rgb(227, 129, 145)\"],[0.5,\"rgb(204, 96, 125)\"],[0.6666666666666666,\"rgb(173, 70, 108)\"],[0.8333333333333334,\"rgb(139, 48, 88)\"],[1.0,\"rgb(103, 32, 68)\"]]},\"legend\":{\"tracegroupgap\":0},\"title\":{\"text\":\"\\u0e41\\u0e1c\\u0e19\\u0e20\\u0e39\\u0e21\\u0e34\\u0e41\\u0e17\\u0e48\\u0e07\\u0e41\\u0e2a\\u0e14\\u0e07\\u0e2a\\u0e16\\u0e32\\u0e19\\u0e17\\u0e35\\u0e48\\u0e17\\u0e35\\u0e48\\u0e19\\u0e31\\u0e01\\u0e28\\u0e36\\u0e01\\u0e29\\u0e32\\u0e2d\\u0e22\\u0e32\\u0e01\\u0e43\\u0e2b\\u0e49\\u0e08\\u0e31\\u0e14\\u0e07\\u0e32\\u0e19\\u0e14\\u0e19\\u0e15\\u0e23\\u0e35\\u0e20\\u0e32\\u0e22\\u0e43\\u0e19\\u0e21\\u0e2b\\u0e32\\u0e27\\u0e34\\u0e17\\u0e22\\u0e32\\u0e25\\u0e31\\u0e22\\u0e21\\u0e32\\u0e01\\u0e17\\u0e35\\u0e48\\u0e2a\\u0e38\\u0e14\",\"font\":{\"size\":21,\"color\":\"black\",\"family\":\"Helvetica\"}},\"barmode\":\"relative\",\"font\":{\"size\":12,\"color\":\"black\",\"family\":\"Helvetica\"},\"margin\":{\"l\":100,\"r\":50,\"b\":50,\"t\":80},\"height\":500,\"width\":800,\"showlegend\":false,\"plot_bgcolor\":\"white\"},                        {\"responsive\": true}                    ).then(function(){\n",
              "                            \n",
              "var gd = document.getElementById('b407fcfb-0c68-4612-a99c-15bbf303fe44');\n",
              "var x = new MutationObserver(function (mutations, observer) {{\n",
              "        var display = window.getComputedStyle(gd).display;\n",
              "        if (!display || display === 'none') {{\n",
              "            console.log([gd, 'removed!']);\n",
              "            Plotly.purge(gd);\n",
              "            observer.disconnect();\n",
              "        }}\n",
              "}});\n",
              "\n",
              "// Listen for the removal of the full notebook cells\n",
              "var notebookContainer = gd.closest('#notebook-container');\n",
              "if (notebookContainer) {{\n",
              "    x.observe(notebookContainer, {childList: true});\n",
              "}}\n",
              "\n",
              "// Listen for the clearing of the current output cell\n",
              "var outputEl = gd.closest('.output');\n",
              "if (outputEl) {{\n",
              "    x.observe(outputEl, {childList: true});\n",
              "}}\n",
              "\n",
              "                        })                };                            </script>        </div>\n",
              "</body>\n",
              "</html>"
            ]
          },
          "metadata": {}
        }
      ],
      "source": [
        "m_where_ac_counts = df_ms['s_where_ac'].astype(str).str.strip().replace(' ', '', regex=True)\n",
        "m_where_ac_counts = m_where_ac_counts.str.split(',', expand=True).stack().value_counts().reset_index()\n",
        "m_where_ac_counts.columns = ['choice', 'frequency']\n",
        "m_where_ac_counts = m_where_ac_counts[m_where_ac_counts['choice'] != 'nan']\n",
        "\n",
        "# Calculate the percentage values\n",
        "m_where_ac_counts['percentage'] = m_where_ac_counts['frequency'] / m_where_ac_counts['frequency'].sum() * 100\n",
        "m_where_ac_counts['text'] = m_where_ac_counts.apply(lambda x: f\"{x['frequency']} ({x['percentage']:.1f}%)\", axis=1)\n",
        "\n",
        "fig = px.bar(m_where_ac_counts, x='frequency', y='choice', orientation='h',\n",
        "             color='frequency', color_continuous_scale='burg',\n",
        "             title='แผนภูมิแท่งแสดงสถานที่ที่นักศึกษาอยากให้จัดงานดนตรีภายในมหาวิทยาลัยมากที่สุด',\n",
        "             labels={'frequency':'ความถี่', 'choice':'สถานที่'})\n",
        "fig.update_layout(\n",
        "    font=dict(size=12, color='black', family='Helvetica'),\n",
        "    xaxis=dict(range=[0, m_when_ac_counts['frequency'].max() + 10],\n",
        "               title_font=dict(size=14, color='black', family='Helvetica')),\n",
        "    yaxis=dict(title_font=dict(size=14, color='black', family='Helvetica'), autorange='reversed'),\n",
        "    margin=dict(l=100, r=50, b=50, t=80),\n",
        "    height=500,\n",
        "    width=800,\n",
        "    showlegend=False,\n",
        "    plot_bgcolor='white',\n",
        "    title_font=dict(size=21, color='black', family='Helvetica'),\n",
        ")\n",
        "\n",
        "# Add the frequency and percentage values beside the bars\n",
        "fig.update_traces(text=m_when_ac_counts['text'], textposition='outside')\n",
        "\n",
        "fig.show()"
      ]
    },
    {
      "cell_type": "code",
      "execution_count": null,
      "metadata": {
        "id": "9V0tryQzyZmE"
      },
      "outputs": [],
      "source": []
    },
    {
      "cell_type": "markdown",
      "metadata": {
        "id": "HAChQaMtVPFV"
      },
      "source": [
        "###คุณอยากให้มีความถี่ในการจัดงานดนตรีภายในมหาวิทยาลัยมากน้อยแค่ไหน"
      ]
    },
    {
      "cell_type": "code",
      "execution_count": null,
      "metadata": {
        "colab": {
          "base_uri": "https://localhost:8080/",
          "height": 280
        },
        "id": "0jUjvPzh3cHK",
        "outputId": "b39f6854-75e4-4530-bcac-445cbb5fb3a2"
      },
      "outputs": [
        {
          "output_type": "error",
          "ename": "NameError",
          "evalue": "ignored",
          "traceback": [
            "\u001b[0;31m---------------------------------------------------------------------------\u001b[0m",
            "\u001b[0;31mNameError\u001b[0m                                 Traceback (most recent call last)",
            "\u001b[0;32m<ipython-input-1-f03cd1546ef2>\u001b[0m in \u001b[0;36m<cell line: 1>\u001b[0;34m()\u001b[0m\n\u001b[0;32m----> 1\u001b[0;31m \u001b[0mm_when_ac_counts\u001b[0m \u001b[0;34m=\u001b[0m \u001b[0mdf_ms\u001b[0m\u001b[0;34m[\u001b[0m\u001b[0;34m's_freq'\u001b[0m\u001b[0;34m]\u001b[0m\u001b[0;34m.\u001b[0m\u001b[0mastype\u001b[0m\u001b[0;34m(\u001b[0m\u001b[0mstr\u001b[0m\u001b[0;34m)\u001b[0m\u001b[0;34m.\u001b[0m\u001b[0mstr\u001b[0m\u001b[0;34m.\u001b[0m\u001b[0mstrip\u001b[0m\u001b[0;34m(\u001b[0m\u001b[0;34m)\u001b[0m\u001b[0;34m.\u001b[0m\u001b[0mreplace\u001b[0m\u001b[0;34m(\u001b[0m\u001b[0;34m' '\u001b[0m\u001b[0;34m,\u001b[0m \u001b[0;34m''\u001b[0m\u001b[0;34m,\u001b[0m \u001b[0mregex\u001b[0m\u001b[0;34m=\u001b[0m\u001b[0;32mTrue\u001b[0m\u001b[0;34m)\u001b[0m\u001b[0;34m\u001b[0m\u001b[0;34m\u001b[0m\u001b[0m\n\u001b[0m\u001b[1;32m      2\u001b[0m \u001b[0mm_when_ac_counts\u001b[0m \u001b[0;34m=\u001b[0m \u001b[0mm_when_ac_counts\u001b[0m\u001b[0;34m.\u001b[0m\u001b[0mstr\u001b[0m\u001b[0;34m.\u001b[0m\u001b[0msplit\u001b[0m\u001b[0;34m(\u001b[0m\u001b[0;34m','\u001b[0m\u001b[0;34m,\u001b[0m \u001b[0mexpand\u001b[0m\u001b[0;34m=\u001b[0m\u001b[0;32mTrue\u001b[0m\u001b[0;34m)\u001b[0m\u001b[0;34m.\u001b[0m\u001b[0mstack\u001b[0m\u001b[0;34m(\u001b[0m\u001b[0;34m)\u001b[0m\u001b[0;34m.\u001b[0m\u001b[0mvalue_counts\u001b[0m\u001b[0;34m(\u001b[0m\u001b[0;34m)\u001b[0m\u001b[0;34m.\u001b[0m\u001b[0mreset_index\u001b[0m\u001b[0;34m(\u001b[0m\u001b[0;34m)\u001b[0m\u001b[0;34m\u001b[0m\u001b[0;34m\u001b[0m\u001b[0m\n\u001b[1;32m      3\u001b[0m \u001b[0mm_when_ac_counts\u001b[0m\u001b[0;34m.\u001b[0m\u001b[0mcolumns\u001b[0m \u001b[0;34m=\u001b[0m \u001b[0;34m[\u001b[0m\u001b[0;34m'choice'\u001b[0m\u001b[0;34m,\u001b[0m \u001b[0;34m'frequency'\u001b[0m\u001b[0;34m]\u001b[0m\u001b[0;34m\u001b[0m\u001b[0;34m\u001b[0m\u001b[0m\n\u001b[1;32m      4\u001b[0m \u001b[0;34m\u001b[0m\u001b[0m\n\u001b[1;32m      5\u001b[0m \u001b[0;31m# Calculate the percentage values\u001b[0m\u001b[0;34m\u001b[0m\u001b[0;34m\u001b[0m\u001b[0m\n",
            "\u001b[0;31mNameError\u001b[0m: name 'df_ms' is not defined"
          ]
        }
      ],
      "source": [
        "m_when_ac_counts = df_ms['s_freq'].astype(str).str.strip().replace(' ', '', regex=True)\n",
        "m_when_ac_counts = m_when_ac_counts.str.split(',', expand=True).stack().value_counts().reset_index()\n",
        "m_when_ac_counts.columns = ['choice', 'frequency']\n",
        "\n",
        "# Calculate the percentage values\n",
        "m_when_ac_counts['percentage'] = m_when_ac_counts['frequency'] / m_when_ac_counts['frequency'].sum() * 100\n",
        "m_when_ac_counts['text'] = m_when_ac_counts.apply(lambda x: f\"{x['frequency']} ({x['percentage']:.1f}%)\", axis=1)\n",
        "\n",
        "fig = px.bar(m_when_ac_counts, x='frequency', y='choice', orientation='h',\n",
        "             color='frequency', color_continuous_scale='burg',\n",
        "             title='แผนภูมิแท่งแสดงความถี่ในการจัดงานดนตรีภายในมหาวิทยาลัยที่นักศึกษาต้องการ',\n",
        "             labels={'frequency':'Frequency', 'choice':'Choice'})\n",
        "fig.update_layout(\n",
        "    font=dict(size=12, color='black', family='Helvetica'),\n",
        "    xaxis=dict(range=[0, m_when_ac_counts['frequency'].max() + 10],\n",
        "               title_font=dict(size=14, color='black', family='Helvetica')),\n",
        "    yaxis=dict(title_font=dict(size=14, color='black', family='Helvetica'), autorange='reversed'),\n",
        "    margin=dict(l=100, r=50, b=50, t=80),\n",
        "    height=500,\n",
        "    width=800,\n",
        "    showlegend=False,\n",
        "    plot_bgcolor='white',\n",
        "    title_font=dict(size=22, color='black', family='Helvetica'),\n",
        ")\n",
        "\n",
        "# Add the frequency and percentage values beside the bars\n",
        "fig.update_traces(text=m_when_ac_counts['text'], textposition='outside')\n",
        "\n",
        "fig.show()\n"
      ]
    },
    {
      "cell_type": "code",
      "execution_count": null,
      "metadata": {
        "colab": {
          "base_uri": "https://localhost:8080/",
          "height": 517
        },
        "id": "yZSngAfgBMnJ",
        "outputId": "6abbaac9-210d-489b-ba6d-3007111ce2c4"
      },
      "outputs": [
        {
          "output_type": "display_data",
          "data": {
            "text/html": [
              "<html>\n",
              "<head><meta charset=\"utf-8\" /></head>\n",
              "<body>\n",
              "    <div>            <script src=\"https://cdnjs.cloudflare.com/ajax/libs/mathjax/2.7.5/MathJax.js?config=TeX-AMS-MML_SVG\"></script><script type=\"text/javascript\">if (window.MathJax && window.MathJax.Hub && window.MathJax.Hub.Config) {window.MathJax.Hub.Config({SVG: {font: \"STIX-Web\"}});}</script>                <script type=\"text/javascript\">window.PlotlyConfig = {MathJaxConfig: 'local'};</script>\n",
              "        <script src=\"https://cdn.plot.ly/plotly-2.18.2.min.js\"></script>                <div id=\"4062c59c-5b05-4cfd-a56d-e9133ece8b33\" class=\"plotly-graph-div\" style=\"height:500px; width:600px;\"></div>            <script type=\"text/javascript\">                                    window.PLOTLYENV=window.PLOTLYENV || {};                                    if (document.getElementById(\"4062c59c-5b05-4cfd-a56d-e9133ece8b33\")) {                    Plotly.newPlot(                        \"4062c59c-5b05-4cfd-a56d-e9133ece8b33\",                        [{\"domain\":{\"x\":[0.0,1.0],\"y\":[0.0,1.0]},\"hovertemplate\":\"label=%{label}<br>value=%{value}<extra></extra>\",\"labels\":[\"\\u0e40\\u0e04\\u0e22\",\"\\u0e44\\u0e21\\u0e48\\u0e40\\u0e04\\u0e22\"],\"legendgroup\":\"\",\"name\":\"\",\"showlegend\":true,\"values\":[38,12],\"type\":\"pie\",\"marker\":{\"colors\":[\"rgb(27,158,119)\",\"rgb(217,95,2)\",\"rgb(117,112,179)\",\"rgb(231,41,138)\",\"rgb(102,166,30)\",\"rgb(230,171,2)\",\"rgb(166,118,29)\",\"rgb(102,102,102)\"]},\"pull\":[0.02,0.02,0.02,0.02,0.02,0.02],\"textinfo\":\"percent+label\",\"textposition\":\"inside\"}],                        {\"template\":{\"data\":{\"histogram2dcontour\":[{\"type\":\"histogram2dcontour\",\"colorbar\":{\"outlinewidth\":0,\"ticks\":\"\"},\"colorscale\":[[0.0,\"#0d0887\"],[0.1111111111111111,\"#46039f\"],[0.2222222222222222,\"#7201a8\"],[0.3333333333333333,\"#9c179e\"],[0.4444444444444444,\"#bd3786\"],[0.5555555555555556,\"#d8576b\"],[0.6666666666666666,\"#ed7953\"],[0.7777777777777778,\"#fb9f3a\"],[0.8888888888888888,\"#fdca26\"],[1.0,\"#f0f921\"]]}],\"choropleth\":[{\"type\":\"choropleth\",\"colorbar\":{\"outlinewidth\":0,\"ticks\":\"\"}}],\"histogram2d\":[{\"type\":\"histogram2d\",\"colorbar\":{\"outlinewidth\":0,\"ticks\":\"\"},\"colorscale\":[[0.0,\"#0d0887\"],[0.1111111111111111,\"#46039f\"],[0.2222222222222222,\"#7201a8\"],[0.3333333333333333,\"#9c179e\"],[0.4444444444444444,\"#bd3786\"],[0.5555555555555556,\"#d8576b\"],[0.6666666666666666,\"#ed7953\"],[0.7777777777777778,\"#fb9f3a\"],[0.8888888888888888,\"#fdca26\"],[1.0,\"#f0f921\"]]}],\"heatmap\":[{\"type\":\"heatmap\",\"colorbar\":{\"outlinewidth\":0,\"ticks\":\"\"},\"colorscale\":[[0.0,\"#0d0887\"],[0.1111111111111111,\"#46039f\"],[0.2222222222222222,\"#7201a8\"],[0.3333333333333333,\"#9c179e\"],[0.4444444444444444,\"#bd3786\"],[0.5555555555555556,\"#d8576b\"],[0.6666666666666666,\"#ed7953\"],[0.7777777777777778,\"#fb9f3a\"],[0.8888888888888888,\"#fdca26\"],[1.0,\"#f0f921\"]]}],\"heatmapgl\":[{\"type\":\"heatmapgl\",\"colorbar\":{\"outlinewidth\":0,\"ticks\":\"\"},\"colorscale\":[[0.0,\"#0d0887\"],[0.1111111111111111,\"#46039f\"],[0.2222222222222222,\"#7201a8\"],[0.3333333333333333,\"#9c179e\"],[0.4444444444444444,\"#bd3786\"],[0.5555555555555556,\"#d8576b\"],[0.6666666666666666,\"#ed7953\"],[0.7777777777777778,\"#fb9f3a\"],[0.8888888888888888,\"#fdca26\"],[1.0,\"#f0f921\"]]}],\"contourcarpet\":[{\"type\":\"contourcarpet\",\"colorbar\":{\"outlinewidth\":0,\"ticks\":\"\"}}],\"contour\":[{\"type\":\"contour\",\"colorbar\":{\"outlinewidth\":0,\"ticks\":\"\"},\"colorscale\":[[0.0,\"#0d0887\"],[0.1111111111111111,\"#46039f\"],[0.2222222222222222,\"#7201a8\"],[0.3333333333333333,\"#9c179e\"],[0.4444444444444444,\"#bd3786\"],[0.5555555555555556,\"#d8576b\"],[0.6666666666666666,\"#ed7953\"],[0.7777777777777778,\"#fb9f3a\"],[0.8888888888888888,\"#fdca26\"],[1.0,\"#f0f921\"]]}],\"surface\":[{\"type\":\"surface\",\"colorbar\":{\"outlinewidth\":0,\"ticks\":\"\"},\"colorscale\":[[0.0,\"#0d0887\"],[0.1111111111111111,\"#46039f\"],[0.2222222222222222,\"#7201a8\"],[0.3333333333333333,\"#9c179e\"],[0.4444444444444444,\"#bd3786\"],[0.5555555555555556,\"#d8576b\"],[0.6666666666666666,\"#ed7953\"],[0.7777777777777778,\"#fb9f3a\"],[0.8888888888888888,\"#fdca26\"],[1.0,\"#f0f921\"]]}],\"mesh3d\":[{\"type\":\"mesh3d\",\"colorbar\":{\"outlinewidth\":0,\"ticks\":\"\"}}],\"scatter\":[{\"fillpattern\":{\"fillmode\":\"overlay\",\"size\":10,\"solidity\":0.2},\"type\":\"scatter\"}],\"parcoords\":[{\"type\":\"parcoords\",\"line\":{\"colorbar\":{\"outlinewidth\":0,\"ticks\":\"\"}}}],\"scatterpolargl\":[{\"type\":\"scatterpolargl\",\"marker\":{\"colorbar\":{\"outlinewidth\":0,\"ticks\":\"\"}}}],\"bar\":[{\"error_x\":{\"color\":\"#2a3f5f\"},\"error_y\":{\"color\":\"#2a3f5f\"},\"marker\":{\"line\":{\"color\":\"#E5ECF6\",\"width\":0.5},\"pattern\":{\"fillmode\":\"overlay\",\"size\":10,\"solidity\":0.2}},\"type\":\"bar\"}],\"scattergeo\":[{\"type\":\"scattergeo\",\"marker\":{\"colorbar\":{\"outlinewidth\":0,\"ticks\":\"\"}}}],\"scatterpolar\":[{\"type\":\"scatterpolar\",\"marker\":{\"colorbar\":{\"outlinewidth\":0,\"ticks\":\"\"}}}],\"histogram\":[{\"marker\":{\"pattern\":{\"fillmode\":\"overlay\",\"size\":10,\"solidity\":0.2}},\"type\":\"histogram\"}],\"scattergl\":[{\"type\":\"scattergl\",\"marker\":{\"colorbar\":{\"outlinewidth\":0,\"ticks\":\"\"}}}],\"scatter3d\":[{\"type\":\"scatter3d\",\"line\":{\"colorbar\":{\"outlinewidth\":0,\"ticks\":\"\"}},\"marker\":{\"colorbar\":{\"outlinewidth\":0,\"ticks\":\"\"}}}],\"scattermapbox\":[{\"type\":\"scattermapbox\",\"marker\":{\"colorbar\":{\"outlinewidth\":0,\"ticks\":\"\"}}}],\"scatterternary\":[{\"type\":\"scatterternary\",\"marker\":{\"colorbar\":{\"outlinewidth\":0,\"ticks\":\"\"}}}],\"scattercarpet\":[{\"type\":\"scattercarpet\",\"marker\":{\"colorbar\":{\"outlinewidth\":0,\"ticks\":\"\"}}}],\"carpet\":[{\"aaxis\":{\"endlinecolor\":\"#2a3f5f\",\"gridcolor\":\"white\",\"linecolor\":\"white\",\"minorgridcolor\":\"white\",\"startlinecolor\":\"#2a3f5f\"},\"baxis\":{\"endlinecolor\":\"#2a3f5f\",\"gridcolor\":\"white\",\"linecolor\":\"white\",\"minorgridcolor\":\"white\",\"startlinecolor\":\"#2a3f5f\"},\"type\":\"carpet\"}],\"table\":[{\"cells\":{\"fill\":{\"color\":\"#EBF0F8\"},\"line\":{\"color\":\"white\"}},\"header\":{\"fill\":{\"color\":\"#C8D4E3\"},\"line\":{\"color\":\"white\"}},\"type\":\"table\"}],\"barpolar\":[{\"marker\":{\"line\":{\"color\":\"#E5ECF6\",\"width\":0.5},\"pattern\":{\"fillmode\":\"overlay\",\"size\":10,\"solidity\":0.2}},\"type\":\"barpolar\"}],\"pie\":[{\"automargin\":true,\"type\":\"pie\"}]},\"layout\":{\"autotypenumbers\":\"strict\",\"colorway\":[\"#636efa\",\"#EF553B\",\"#00cc96\",\"#ab63fa\",\"#FFA15A\",\"#19d3f3\",\"#FF6692\",\"#B6E880\",\"#FF97FF\",\"#FECB52\"],\"font\":{\"color\":\"#2a3f5f\"},\"hovermode\":\"closest\",\"hoverlabel\":{\"align\":\"left\"},\"paper_bgcolor\":\"white\",\"plot_bgcolor\":\"#E5ECF6\",\"polar\":{\"bgcolor\":\"#E5ECF6\",\"angularaxis\":{\"gridcolor\":\"white\",\"linecolor\":\"white\",\"ticks\":\"\"},\"radialaxis\":{\"gridcolor\":\"white\",\"linecolor\":\"white\",\"ticks\":\"\"}},\"ternary\":{\"bgcolor\":\"#E5ECF6\",\"aaxis\":{\"gridcolor\":\"white\",\"linecolor\":\"white\",\"ticks\":\"\"},\"baxis\":{\"gridcolor\":\"white\",\"linecolor\":\"white\",\"ticks\":\"\"},\"caxis\":{\"gridcolor\":\"white\",\"linecolor\":\"white\",\"ticks\":\"\"}},\"coloraxis\":{\"colorbar\":{\"outlinewidth\":0,\"ticks\":\"\"}},\"colorscale\":{\"sequential\":[[0.0,\"#0d0887\"],[0.1111111111111111,\"#46039f\"],[0.2222222222222222,\"#7201a8\"],[0.3333333333333333,\"#9c179e\"],[0.4444444444444444,\"#bd3786\"],[0.5555555555555556,\"#d8576b\"],[0.6666666666666666,\"#ed7953\"],[0.7777777777777778,\"#fb9f3a\"],[0.8888888888888888,\"#fdca26\"],[1.0,\"#f0f921\"]],\"sequentialminus\":[[0.0,\"#0d0887\"],[0.1111111111111111,\"#46039f\"],[0.2222222222222222,\"#7201a8\"],[0.3333333333333333,\"#9c179e\"],[0.4444444444444444,\"#bd3786\"],[0.5555555555555556,\"#d8576b\"],[0.6666666666666666,\"#ed7953\"],[0.7777777777777778,\"#fb9f3a\"],[0.8888888888888888,\"#fdca26\"],[1.0,\"#f0f921\"]],\"diverging\":[[0,\"#8e0152\"],[0.1,\"#c51b7d\"],[0.2,\"#de77ae\"],[0.3,\"#f1b6da\"],[0.4,\"#fde0ef\"],[0.5,\"#f7f7f7\"],[0.6,\"#e6f5d0\"],[0.7,\"#b8e186\"],[0.8,\"#7fbc41\"],[0.9,\"#4d9221\"],[1,\"#276419\"]]},\"xaxis\":{\"gridcolor\":\"white\",\"linecolor\":\"white\",\"ticks\":\"\",\"title\":{\"standoff\":15},\"zerolinecolor\":\"white\",\"automargin\":true,\"zerolinewidth\":2},\"yaxis\":{\"gridcolor\":\"white\",\"linecolor\":\"white\",\"ticks\":\"\",\"title\":{\"standoff\":15},\"zerolinecolor\":\"white\",\"automargin\":true,\"zerolinewidth\":2},\"scene\":{\"xaxis\":{\"backgroundcolor\":\"#E5ECF6\",\"gridcolor\":\"white\",\"linecolor\":\"white\",\"showbackground\":true,\"ticks\":\"\",\"zerolinecolor\":\"white\",\"gridwidth\":2},\"yaxis\":{\"backgroundcolor\":\"#E5ECF6\",\"gridcolor\":\"white\",\"linecolor\":\"white\",\"showbackground\":true,\"ticks\":\"\",\"zerolinecolor\":\"white\",\"gridwidth\":2},\"zaxis\":{\"backgroundcolor\":\"#E5ECF6\",\"gridcolor\":\"white\",\"linecolor\":\"white\",\"showbackground\":true,\"ticks\":\"\",\"zerolinecolor\":\"white\",\"gridwidth\":2}},\"shapedefaults\":{\"line\":{\"color\":\"#2a3f5f\"}},\"annotationdefaults\":{\"arrowcolor\":\"#2a3f5f\",\"arrowhead\":0,\"arrowwidth\":1},\"geo\":{\"bgcolor\":\"white\",\"landcolor\":\"#E5ECF6\",\"subunitcolor\":\"white\",\"showland\":true,\"showlakes\":true,\"lakecolor\":\"white\"},\"title\":{\"x\":0.05},\"mapbox\":{\"style\":\"light\"}}},\"legend\":{\"tracegroupgap\":0},\"margin\":{\"t\":60},\"font\":{\"size\":12,\"color\":\"black\",\"family\":\"Helvetica\"},\"title\":{\"text\":\"\\u0e41\\u0e1c\\u0e19\\u0e20\\u0e39\\u0e21\\u0e34\\u0e27\\u0e07\\u0e01\\u0e25\\u0e21\\u0e41\\u0e2a\\u0e14\\u0e07\\u0e04\\u0e27\\u0e32\\u0e21\\u0e16\\u0e35\\u0e48\\u0e43\\u0e19\\u0e01\\u0e32\\u0e23\\u0e08\\u0e31\\u0e14\\u0e07\\u0e32\\u0e19\\u0e14\\u0e19\\u0e15\\u0e23\\u0e35\\u0e20\\u0e32\\u0e22\\u0e43\\u0e19\\u0e21\\u0e2b\\u0e32\\u0e27\\u0e34\\u0e17\\u0e22\\u0e32\\u0e25\\u0e31\\u0e22\\u0e17\\u0e35\\u0e48\\u0e19\\u0e31\\u0e01\\u0e28\\u0e36\\u0e01\\u0e29\\u0e32\\u0e15\\u0e49\\u0e2d\\u0e07\\u0e01\\u0e32\\u0e23\",\"font\":{\"size\":16,\"color\":\"black\",\"family\":\"Helvetica\"}},\"plot_bgcolor\":\"white\",\"height\":500,\"width\":600,\"showlegend\":true},                        {\"responsive\": true}                    ).then(function(){\n",
              "                            \n",
              "var gd = document.getElementById('4062c59c-5b05-4cfd-a56d-e9133ece8b33');\n",
              "var x = new MutationObserver(function (mutations, observer) {{\n",
              "        var display = window.getComputedStyle(gd).display;\n",
              "        if (!display || display === 'none') {{\n",
              "            console.log([gd, 'removed!']);\n",
              "            Plotly.purge(gd);\n",
              "            observer.disconnect();\n",
              "        }}\n",
              "}});\n",
              "\n",
              "// Listen for the removal of the full notebook cells\n",
              "var notebookContainer = gd.closest('#notebook-container');\n",
              "if (notebookContainer) {{\n",
              "    x.observe(notebookContainer, {childList: true});\n",
              "}}\n",
              "\n",
              "// Listen for the clearing of the current output cell\n",
              "var outputEl = gd.closest('.output');\n",
              "if (outputEl) {{\n",
              "    x.observe(outputEl, {childList: true});\n",
              "}}\n",
              "\n",
              "                        })                };                            </script>        </div>\n",
              "</body>\n",
              "</html>"
            ]
          },
          "metadata": {}
        }
      ],
      "source": [
        "import plotly.express as px\n",
        "\n",
        "grouped_df_ms = df_ms.groupby('s_freq')['category'].count()\n",
        "\n",
        "fig = px.pie(values=grouped_dfm, names=grouped_dfm.index)\n",
        "fig.update_traces(pull=[0.02]*len(grouped_df_ms), textinfo='percent+value',marker=dict(colors=px.colors.qualitative.Dark2))\n",
        "fig.update_layout(title='แผนภูมิวงกลมแสดงความถี่ในการจัดงานดนตรีภายในมหาวิทยาลัยที่นักศึกษาต้องการ',\n",
        "                  plot_bgcolor='white',\n",
        "                  height=500,\n",
        "                  width=600,\n",
        "                  font=dict(size=12, color='black', family='Helvetica'),\n",
        "                  title_font=dict(size=16, color='black', family='Helvetica'),\n",
        "                  showlegend=True)\n",
        "fig.update_traces(textposition='inside', textinfo='percent+label')\n",
        "fig.show()"
      ]
    },
    {
      "cell_type": "markdown",
      "metadata": {
        "id": "EOIFkRGh0inj"
      },
      "source": [
        "###แผนภูมิแท่งแสดงช่วงเวลาที่นักศึกษาอยากร่วมงานดนตรีภายในมหาวิทยาลัยเพื่อคลายความเครียด"
      ]
    },
    {
      "cell_type": "code",
      "execution_count": null,
      "metadata": {
        "colab": {
          "base_uri": "https://localhost:8080/",
          "height": 633
        },
        "id": "R2C81zlp9Ygp",
        "outputId": "8486ac66-c18e-4a70-ea82-1b58b2b3b045"
      },
      "outputs": [
        {
          "output_type": "stream",
          "name": "stdout",
          "text": [
            "เทศกาลสำคัญ    40\n",
            "หลังสอบ        34\n",
            "ก่อนสอบ        14\n",
            "ช่วงสอบ         5\n",
            "dtype: int64\n"
          ]
        },
        {
          "output_type": "display_data",
          "data": {
            "text/html": [
              "<html>\n",
              "<head><meta charset=\"utf-8\" /></head>\n",
              "<body>\n",
              "    <div>            <script src=\"https://cdnjs.cloudflare.com/ajax/libs/mathjax/2.7.5/MathJax.js?config=TeX-AMS-MML_SVG\"></script><script type=\"text/javascript\">if (window.MathJax && window.MathJax.Hub && window.MathJax.Hub.Config) {window.MathJax.Hub.Config({SVG: {font: \"STIX-Web\"}});}</script>                <script type=\"text/javascript\">window.PlotlyConfig = {MathJaxConfig: 'local'};</script>\n",
              "        <script src=\"https://cdn.plot.ly/plotly-2.18.2.min.js\"></script>                <div id=\"2c6e1129-855f-4e87-b1ec-e4e5fc55fbde\" class=\"plotly-graph-div\" style=\"height:525px; width:100%;\"></div>            <script type=\"text/javascript\">                                    window.PLOTLYENV=window.PLOTLYENV || {};                                    if (document.getElementById(\"2c6e1129-855f-4e87-b1ec-e4e5fc55fbde\")) {                    Plotly.newPlot(                        \"2c6e1129-855f-4e87-b1ec-e4e5fc55fbde\",                        [{\"alignmentgroup\":\"True\",\"hovertemplate\":\"x=%{x}<br>y=%{y}<extra></extra>\",\"legendgroup\":\"\",\"marker\":{\"color\":\"#636efa\",\"pattern\":{\"shape\":\"\"}},\"name\":\"\",\"offsetgroup\":\"\",\"orientation\":\"h\",\"showlegend\":false,\"textposition\":\"outside\",\"x\":[40,34,14,5],\"xaxis\":\"x\",\"y\":[\"\\u0e40\\u0e17\\u0e28\\u0e01\\u0e32\\u0e25\\u0e2a\\u0e33\\u0e04\\u0e31\\u0e0d\",\"\\u0e2b\\u0e25\\u0e31\\u0e07\\u0e2a\\u0e2d\\u0e1a\",\"\\u0e01\\u0e48\\u0e2d\\u0e19\\u0e2a\\u0e2d\\u0e1a\",\"\\u0e0a\\u0e48\\u0e27\\u0e07\\u0e2a\\u0e2d\\u0e1a\"],\"yaxis\":\"y\",\"type\":\"bar\",\"text\":[80.0,68.0,28.0,10.0],\"texttemplate\":\"%{text}%\"}],                        {\"template\":{\"data\":{\"histogram2dcontour\":[{\"type\":\"histogram2dcontour\",\"colorbar\":{\"outlinewidth\":0,\"ticks\":\"\"},\"colorscale\":[[0.0,\"#0d0887\"],[0.1111111111111111,\"#46039f\"],[0.2222222222222222,\"#7201a8\"],[0.3333333333333333,\"#9c179e\"],[0.4444444444444444,\"#bd3786\"],[0.5555555555555556,\"#d8576b\"],[0.6666666666666666,\"#ed7953\"],[0.7777777777777778,\"#fb9f3a\"],[0.8888888888888888,\"#fdca26\"],[1.0,\"#f0f921\"]]}],\"choropleth\":[{\"type\":\"choropleth\",\"colorbar\":{\"outlinewidth\":0,\"ticks\":\"\"}}],\"histogram2d\":[{\"type\":\"histogram2d\",\"colorbar\":{\"outlinewidth\":0,\"ticks\":\"\"},\"colorscale\":[[0.0,\"#0d0887\"],[0.1111111111111111,\"#46039f\"],[0.2222222222222222,\"#7201a8\"],[0.3333333333333333,\"#9c179e\"],[0.4444444444444444,\"#bd3786\"],[0.5555555555555556,\"#d8576b\"],[0.6666666666666666,\"#ed7953\"],[0.7777777777777778,\"#fb9f3a\"],[0.8888888888888888,\"#fdca26\"],[1.0,\"#f0f921\"]]}],\"heatmap\":[{\"type\":\"heatmap\",\"colorbar\":{\"outlinewidth\":0,\"ticks\":\"\"},\"colorscale\":[[0.0,\"#0d0887\"],[0.1111111111111111,\"#46039f\"],[0.2222222222222222,\"#7201a8\"],[0.3333333333333333,\"#9c179e\"],[0.4444444444444444,\"#bd3786\"],[0.5555555555555556,\"#d8576b\"],[0.6666666666666666,\"#ed7953\"],[0.7777777777777778,\"#fb9f3a\"],[0.8888888888888888,\"#fdca26\"],[1.0,\"#f0f921\"]]}],\"heatmapgl\":[{\"type\":\"heatmapgl\",\"colorbar\":{\"outlinewidth\":0,\"ticks\":\"\"},\"colorscale\":[[0.0,\"#0d0887\"],[0.1111111111111111,\"#46039f\"],[0.2222222222222222,\"#7201a8\"],[0.3333333333333333,\"#9c179e\"],[0.4444444444444444,\"#bd3786\"],[0.5555555555555556,\"#d8576b\"],[0.6666666666666666,\"#ed7953\"],[0.7777777777777778,\"#fb9f3a\"],[0.8888888888888888,\"#fdca26\"],[1.0,\"#f0f921\"]]}],\"contourcarpet\":[{\"type\":\"contourcarpet\",\"colorbar\":{\"outlinewidth\":0,\"ticks\":\"\"}}],\"contour\":[{\"type\":\"contour\",\"colorbar\":{\"outlinewidth\":0,\"ticks\":\"\"},\"colorscale\":[[0.0,\"#0d0887\"],[0.1111111111111111,\"#46039f\"],[0.2222222222222222,\"#7201a8\"],[0.3333333333333333,\"#9c179e\"],[0.4444444444444444,\"#bd3786\"],[0.5555555555555556,\"#d8576b\"],[0.6666666666666666,\"#ed7953\"],[0.7777777777777778,\"#fb9f3a\"],[0.8888888888888888,\"#fdca26\"],[1.0,\"#f0f921\"]]}],\"surface\":[{\"type\":\"surface\",\"colorbar\":{\"outlinewidth\":0,\"ticks\":\"\"},\"colorscale\":[[0.0,\"#0d0887\"],[0.1111111111111111,\"#46039f\"],[0.2222222222222222,\"#7201a8\"],[0.3333333333333333,\"#9c179e\"],[0.4444444444444444,\"#bd3786\"],[0.5555555555555556,\"#d8576b\"],[0.6666666666666666,\"#ed7953\"],[0.7777777777777778,\"#fb9f3a\"],[0.8888888888888888,\"#fdca26\"],[1.0,\"#f0f921\"]]}],\"mesh3d\":[{\"type\":\"mesh3d\",\"colorbar\":{\"outlinewidth\":0,\"ticks\":\"\"}}],\"scatter\":[{\"fillpattern\":{\"fillmode\":\"overlay\",\"size\":10,\"solidity\":0.2},\"type\":\"scatter\"}],\"parcoords\":[{\"type\":\"parcoords\",\"line\":{\"colorbar\":{\"outlinewidth\":0,\"ticks\":\"\"}}}],\"scatterpolargl\":[{\"type\":\"scatterpolargl\",\"marker\":{\"colorbar\":{\"outlinewidth\":0,\"ticks\":\"\"}}}],\"bar\":[{\"error_x\":{\"color\":\"#2a3f5f\"},\"error_y\":{\"color\":\"#2a3f5f\"},\"marker\":{\"line\":{\"color\":\"#E5ECF6\",\"width\":0.5},\"pattern\":{\"fillmode\":\"overlay\",\"size\":10,\"solidity\":0.2}},\"type\":\"bar\"}],\"scattergeo\":[{\"type\":\"scattergeo\",\"marker\":{\"colorbar\":{\"outlinewidth\":0,\"ticks\":\"\"}}}],\"scatterpolar\":[{\"type\":\"scatterpolar\",\"marker\":{\"colorbar\":{\"outlinewidth\":0,\"ticks\":\"\"}}}],\"histogram\":[{\"marker\":{\"pattern\":{\"fillmode\":\"overlay\",\"size\":10,\"solidity\":0.2}},\"type\":\"histogram\"}],\"scattergl\":[{\"type\":\"scattergl\",\"marker\":{\"colorbar\":{\"outlinewidth\":0,\"ticks\":\"\"}}}],\"scatter3d\":[{\"type\":\"scatter3d\",\"line\":{\"colorbar\":{\"outlinewidth\":0,\"ticks\":\"\"}},\"marker\":{\"colorbar\":{\"outlinewidth\":0,\"ticks\":\"\"}}}],\"scattermapbox\":[{\"type\":\"scattermapbox\",\"marker\":{\"colorbar\":{\"outlinewidth\":0,\"ticks\":\"\"}}}],\"scatterternary\":[{\"type\":\"scatterternary\",\"marker\":{\"colorbar\":{\"outlinewidth\":0,\"ticks\":\"\"}}}],\"scattercarpet\":[{\"type\":\"scattercarpet\",\"marker\":{\"colorbar\":{\"outlinewidth\":0,\"ticks\":\"\"}}}],\"carpet\":[{\"aaxis\":{\"endlinecolor\":\"#2a3f5f\",\"gridcolor\":\"white\",\"linecolor\":\"white\",\"minorgridcolor\":\"white\",\"startlinecolor\":\"#2a3f5f\"},\"baxis\":{\"endlinecolor\":\"#2a3f5f\",\"gridcolor\":\"white\",\"linecolor\":\"white\",\"minorgridcolor\":\"white\",\"startlinecolor\":\"#2a3f5f\"},\"type\":\"carpet\"}],\"table\":[{\"cells\":{\"fill\":{\"color\":\"#EBF0F8\"},\"line\":{\"color\":\"white\"}},\"header\":{\"fill\":{\"color\":\"#C8D4E3\"},\"line\":{\"color\":\"white\"}},\"type\":\"table\"}],\"barpolar\":[{\"marker\":{\"line\":{\"color\":\"#E5ECF6\",\"width\":0.5},\"pattern\":{\"fillmode\":\"overlay\",\"size\":10,\"solidity\":0.2}},\"type\":\"barpolar\"}],\"pie\":[{\"automargin\":true,\"type\":\"pie\"}]},\"layout\":{\"autotypenumbers\":\"strict\",\"colorway\":[\"#636efa\",\"#EF553B\",\"#00cc96\",\"#ab63fa\",\"#FFA15A\",\"#19d3f3\",\"#FF6692\",\"#B6E880\",\"#FF97FF\",\"#FECB52\"],\"font\":{\"color\":\"#2a3f5f\"},\"hovermode\":\"closest\",\"hoverlabel\":{\"align\":\"left\"},\"paper_bgcolor\":\"white\",\"plot_bgcolor\":\"#E5ECF6\",\"polar\":{\"bgcolor\":\"#E5ECF6\",\"angularaxis\":{\"gridcolor\":\"white\",\"linecolor\":\"white\",\"ticks\":\"\"},\"radialaxis\":{\"gridcolor\":\"white\",\"linecolor\":\"white\",\"ticks\":\"\"}},\"ternary\":{\"bgcolor\":\"#E5ECF6\",\"aaxis\":{\"gridcolor\":\"white\",\"linecolor\":\"white\",\"ticks\":\"\"},\"baxis\":{\"gridcolor\":\"white\",\"linecolor\":\"white\",\"ticks\":\"\"},\"caxis\":{\"gridcolor\":\"white\",\"linecolor\":\"white\",\"ticks\":\"\"}},\"coloraxis\":{\"colorbar\":{\"outlinewidth\":0,\"ticks\":\"\"}},\"colorscale\":{\"sequential\":[[0.0,\"#0d0887\"],[0.1111111111111111,\"#46039f\"],[0.2222222222222222,\"#7201a8\"],[0.3333333333333333,\"#9c179e\"],[0.4444444444444444,\"#bd3786\"],[0.5555555555555556,\"#d8576b\"],[0.6666666666666666,\"#ed7953\"],[0.7777777777777778,\"#fb9f3a\"],[0.8888888888888888,\"#fdca26\"],[1.0,\"#f0f921\"]],\"sequentialminus\":[[0.0,\"#0d0887\"],[0.1111111111111111,\"#46039f\"],[0.2222222222222222,\"#7201a8\"],[0.3333333333333333,\"#9c179e\"],[0.4444444444444444,\"#bd3786\"],[0.5555555555555556,\"#d8576b\"],[0.6666666666666666,\"#ed7953\"],[0.7777777777777778,\"#fb9f3a\"],[0.8888888888888888,\"#fdca26\"],[1.0,\"#f0f921\"]],\"diverging\":[[0,\"#8e0152\"],[0.1,\"#c51b7d\"],[0.2,\"#de77ae\"],[0.3,\"#f1b6da\"],[0.4,\"#fde0ef\"],[0.5,\"#f7f7f7\"],[0.6,\"#e6f5d0\"],[0.7,\"#b8e186\"],[0.8,\"#7fbc41\"],[0.9,\"#4d9221\"],[1,\"#276419\"]]},\"xaxis\":{\"gridcolor\":\"white\",\"linecolor\":\"white\",\"ticks\":\"\",\"title\":{\"standoff\":15},\"zerolinecolor\":\"white\",\"automargin\":true,\"zerolinewidth\":2},\"yaxis\":{\"gridcolor\":\"white\",\"linecolor\":\"white\",\"ticks\":\"\",\"title\":{\"standoff\":15},\"zerolinecolor\":\"white\",\"automargin\":true,\"zerolinewidth\":2},\"scene\":{\"xaxis\":{\"backgroundcolor\":\"#E5ECF6\",\"gridcolor\":\"white\",\"linecolor\":\"white\",\"showbackground\":true,\"ticks\":\"\",\"zerolinecolor\":\"white\",\"gridwidth\":2},\"yaxis\":{\"backgroundcolor\":\"#E5ECF6\",\"gridcolor\":\"white\",\"linecolor\":\"white\",\"showbackground\":true,\"ticks\":\"\",\"zerolinecolor\":\"white\",\"gridwidth\":2},\"zaxis\":{\"backgroundcolor\":\"#E5ECF6\",\"gridcolor\":\"white\",\"linecolor\":\"white\",\"showbackground\":true,\"ticks\":\"\",\"zerolinecolor\":\"white\",\"gridwidth\":2}},\"shapedefaults\":{\"line\":{\"color\":\"#2a3f5f\"}},\"annotationdefaults\":{\"arrowcolor\":\"#2a3f5f\",\"arrowhead\":0,\"arrowwidth\":1},\"geo\":{\"bgcolor\":\"white\",\"landcolor\":\"#E5ECF6\",\"subunitcolor\":\"white\",\"showland\":true,\"showlakes\":true,\"lakecolor\":\"white\"},\"title\":{\"x\":0.05},\"mapbox\":{\"style\":\"light\"}}},\"xaxis\":{\"anchor\":\"y\",\"domain\":[0.0,1.0],\"title\":{\"text\":\"\\u0e04\\u0e27\\u0e32\\u0e21\\u0e16\\u0e35\\u0e48\"}},\"yaxis\":{\"anchor\":\"x\",\"domain\":[0.0,1.0],\"title\":{\"text\":\"\\u0e15\\u0e31\\u0e27\\u0e40\\u0e25\\u0e37\\u0e2d\\u0e01\"}},\"legend\":{\"tracegroupgap\":0},\"margin\":{\"t\":60},\"barmode\":\"relative\",\"title\":{\"text\":\"\\u0e41\\u0e1c\\u0e19\\u0e20\\u0e39\\u0e21\\u0e34\\u0e41\\u0e17\\u0e48\\u0e07\\u0e41\\u0e2a\\u0e14\\u0e07\\u0e0a\\u0e48\\u0e27\\u0e07\\u0e40\\u0e27\\u0e25\\u0e32\\u0e17\\u0e35\\u0e48\\u0e19\\u0e31\\u0e01\\u0e28\\u0e36\\u0e01\\u0e29\\u0e32\\u0e2d\\u0e22\\u0e32\\u0e01\\u0e23\\u0e48\\u0e27\\u0e21\\u0e07\\u0e32\\u0e19\\u0e14\\u0e19\\u0e15\\u0e23\\u0e35\\u0e20\\u0e32\\u0e22\\u0e43\\u0e19\\u0e21\\u0e2b\\u0e32\\u0e27\\u0e34\\u0e17\\u0e22\\u0e32\\u0e25\\u0e31\\u0e22\\u0e40\\u0e1e\\u0e37\\u0e48\\u0e2d\\u0e04\\u0e25\\u0e32\\u0e22\\u0e04\\u0e27\\u0e32\\u0e21\\u0e40\\u0e04\\u0e23\\u0e35\\u0e22\\u0e14\",\"x\":0.5}},                        {\"responsive\": true}                    ).then(function(){\n",
              "                            \n",
              "var gd = document.getElementById('2c6e1129-855f-4e87-b1ec-e4e5fc55fbde');\n",
              "var x = new MutationObserver(function (mutations, observer) {{\n",
              "        var display = window.getComputedStyle(gd).display;\n",
              "        if (!display || display === 'none') {{\n",
              "            console.log([gd, 'removed!']);\n",
              "            Plotly.purge(gd);\n",
              "            observer.disconnect();\n",
              "        }}\n",
              "}});\n",
              "\n",
              "// Listen for the removal of the full notebook cells\n",
              "var notebookContainer = gd.closest('#notebook-container');\n",
              "if (notebookContainer) {{\n",
              "    x.observe(notebookContainer, {childList: true});\n",
              "}}\n",
              "\n",
              "// Listen for the clearing of the current output cell\n",
              "var outputEl = gd.closest('.output');\n",
              "if (outputEl) {{\n",
              "    x.observe(outputEl, {childList: true});\n",
              "}}\n",
              "\n",
              "                        })                };                            </script>        </div>\n",
              "</body>\n",
              "</html>"
            ]
          },
          "metadata": {}
        }
      ],
      "source": [
        "\n",
        "s_when_ac_counts = df_ms['s_when_ac'].str.split(', ', expand=True).stack().value_counts()\n",
        "print(s_when_ac_counts)\n",
        "\n",
        "fig = px.bar(x=s_when_ac_counts.values, y=s_when_ac_counts.index, orientation='h')\n",
        "\n",
        "fig.update_layout(\n",
        "    title='แผนภูมิแท่งแสดงช่วงเวลาที่นักศึกษาอยากร่วมงานดนตรีภายในมหาวิทยาลัยเพื่อคลายความเครียด',title_x=0.5,\n",
        "    xaxis_title='ความถี่',\n",
        "    yaxis_title='ตัวเลือก'\n",
        ")\n",
        "fig.update_traces(text=(s_when_ac_counts.values / grouped_df_ms.sum()* 100).round(2), textposition='inside')\n",
        "fig.update_traces(texttemplate='%{text}%', textposition='outside')\n",
        "fig.show()"
      ]
    },
    {
      "cell_type": "markdown",
      "metadata": {
        "id": "u-ZLx4gD0iix"
      },
      "source": [
        "###ทำไมคุณถึงไม่อยากให้มีงานดนตรีในมหาวิทยาลัย"
      ]
    },
    {
      "cell_type": "code",
      "execution_count": null,
      "metadata": {
        "colab": {
          "base_uri": "https://localhost:8080/",
          "height": 244
        },
        "id": "BUiMrg1E3zNa",
        "outputId": "bdeb7749-7ac7-49fe-f4bc-7311cf76a92a"
      },
      "outputs": [
        {
          "output_type": "error",
          "ename": "NameError",
          "evalue": "ignored",
          "traceback": [
            "\u001b[0;31m---------------------------------------------------------------------------\u001b[0m",
            "\u001b[0;31mNameError\u001b[0m                                 Traceback (most recent call last)",
            "\u001b[0;32m<ipython-input-34-8c954547452d>\u001b[0m in \u001b[0;36m<cell line: 4>\u001b[0;34m()\u001b[0m\n\u001b[1;32m      2\u001b[0m \u001b[0mvalues\u001b[0m \u001b[0;34m=\u001b[0m \u001b[0;34m[\u001b[0m\u001b[0;36m1\u001b[0m\u001b[0;34m,\u001b[0m \u001b[0;36m1\u001b[0m\u001b[0;34m]\u001b[0m\u001b[0;34m\u001b[0m\u001b[0;34m\u001b[0m\u001b[0m\n\u001b[1;32m      3\u001b[0m \u001b[0;34m\u001b[0m\u001b[0m\n\u001b[0;32m----> 4\u001b[0;31m \u001b[0mfig\u001b[0m \u001b[0;34m=\u001b[0m \u001b[0mgo\u001b[0m\u001b[0;34m.\u001b[0m\u001b[0mFigure\u001b[0m\u001b[0;34m(\u001b[0m\u001b[0mdata\u001b[0m\u001b[0;34m=\u001b[0m\u001b[0;34m[\u001b[0m\u001b[0mgo\u001b[0m\u001b[0;34m.\u001b[0m\u001b[0mPie\u001b[0m\u001b[0;34m(\u001b[0m\u001b[0mlabels\u001b[0m\u001b[0;34m=\u001b[0m\u001b[0mlabels\u001b[0m\u001b[0;34m,\u001b[0m \u001b[0mvalues\u001b[0m\u001b[0;34m=\u001b[0m\u001b[0mvalues\u001b[0m\u001b[0;34m)\u001b[0m\u001b[0;34m]\u001b[0m\u001b[0;34m)\u001b[0m\u001b[0;34m\u001b[0m\u001b[0;34m\u001b[0m\u001b[0m\n\u001b[0m\u001b[1;32m      5\u001b[0m fig.update_layout(title='Reasons for not going to the AC',\n\u001b[1;32m      6\u001b[0m                   \u001b[0mfont\u001b[0m\u001b[0;34m=\u001b[0m\u001b[0mdict\u001b[0m\u001b[0;34m(\u001b[0m\u001b[0msize\u001b[0m\u001b[0;34m=\u001b[0m\u001b[0;36m22\u001b[0m\u001b[0;34m,\u001b[0m \u001b[0mcolor\u001b[0m\u001b[0;34m=\u001b[0m\u001b[0;34m'black'\u001b[0m\u001b[0;34m,\u001b[0m \u001b[0mfamily\u001b[0m\u001b[0;34m=\u001b[0m\u001b[0;34m'Helvetica'\u001b[0m\u001b[0;34m)\u001b[0m\u001b[0;34m,\u001b[0m\u001b[0;34m\u001b[0m\u001b[0;34m\u001b[0m\u001b[0m\n",
            "\u001b[0;31mNameError\u001b[0m: name 'go' is not defined"
          ]
        }
      ],
      "source": [
        "labels = ['Don\\'t want to go', 'Too crowded']\n",
        "values = [1, 1]\n",
        "\n",
        "fig = go.Figure(data=[go.Pie(labels=labels, values=values)])\n",
        "fig.update_layout(title='Reasons for not going to the AC',\n",
        "                  font=dict(size=22, color='black', family='Helvetica'),\n",
        "                  title_font=dict(size=16, color='black', family='Helvetica'))\n",
        "fig.show()"
      ]
    },
    {
      "cell_type": "markdown",
      "metadata": {
        "id": "Vko_yy1kX8iW"
      },
      "source": [
        "#MOVIE"
      ]
    },
    {
      "cell_type": "code",
      "execution_count": null,
      "metadata": {
        "id": "UZiBvH0sLioy"
      },
      "outputs": [],
      "source": [
        "dfm = df[df['category']=='หนัง']\n",
        "dfm.dropna(axis=1,inplace=True)"
      ]
    },
    {
      "cell_type": "markdown",
      "metadata": {
        "id": "jzBx8x2QAhx9"
      },
      "source": [
        "###แผนภูมิวงกลมแสดงจำนวนนักศึกษาที่เลือกหนังในการคลายความเครียดจำแนกตามเพศ"
      ]
    },
    {
      "cell_type": "code",
      "execution_count": null,
      "metadata": {
        "id": "b46sk_QSz_h7"
      },
      "outputs": [],
      "source": [
        "grouped_dfm = dfm['gender'].value_counts()\n",
        "\n",
        "fig = px.pie(values=grouped_dfm, names=grouped_dfm.index)\n",
        "fig.update_traces(pull=[0.02]*len(grouped_dfm), textinfo='percent+value',marker=dict(colors=px.colors.qualitative.Plotly))\n",
        "fig.update_layout(title='แผนภูมิวงกลมแสดงจำนวนนักศึกษาที่เลือกหนังในการคลายความเครียดจำแนกตามเพศ',\n",
        "                  plot_bgcolor='white',\n",
        "                  height=500,\n",
        "                  width=900,\n",
        "                  font=dict(size=15, color='black', family='Helvetica'),\n",
        "                  title_font=dict(size=22, color='black', family='Helvetica'),\n",
        "                  showlegend=True)\n",
        "\n",
        "fig.show()\n"
      ]
    },
    {
      "cell_type": "markdown",
      "metadata": {
        "id": "IWKATjSQBAD0"
      },
      "source": [
        "##แผนภูมิวงกลมแสดงว่านักศึกษาดูหนังเพื่อคลายความเครียดบ่อยแค่ไหนต่อสัปดาห์'"
      ]
    },
    {
      "cell_type": "code",
      "execution_count": null,
      "metadata": {
        "id": "5w9kWitTPKQ2"
      },
      "outputs": [],
      "source": [
        "grouped_dfm = dfm.groupby('m_frequent')['category'].count()\n",
        "\n",
        "fig = px.pie(values=grouped_dfm, names=grouped_dfm.index)\n",
        "fig.update_traces(pull=[0.02]*len(grouped_dfm), textinfo='percent+value',marker=dict(colors=px.colors.qualitative.Plotly))\n",
        "fig.update_layout(title='แผนภูมิวงกลมแสดงว่านักศึกษาดูหนังเพื่อคลายความเครียดบ่อยแค่ไหนต่อสัปดาห์',\n",
        "                  plot_bgcolor='white',\n",
        "                  height=400,\n",
        "                  width=700,\n",
        "                  font=dict(size=12, color='black', family='Helvetica'),\n",
        "                  title_font=dict(size=16, color='black', family='Helvetica'),\n",
        "                  showlegend=True)\n",
        "fig.show()\n"
      ]
    },
    {
      "cell_type": "markdown",
      "metadata": {
        "id": "PbBoi6vKA_0-"
      },
      "source": [
        "##แผนภูมิแท่งแสดงประเภทของหนังที่ช่วยคลายความเครียดให้กับนักศึกษา"
      ]
    },
    {
      "cell_type": "code",
      "execution_count": null,
      "metadata": {
        "id": "iHv9O2M1iaU9"
      },
      "outputs": [],
      "source": [
        "m_when_ac_counts = dfm['m_type'].astype(str).str.strip().replace(' ', '', regex=True)\n",
        "m_when_ac_counts = m_when_ac_counts.str.split(',', expand=True).stack().value_counts().reset_index()\n",
        "m_when_ac_counts.columns = ['choice', 'frequency']\n",
        "m_when_ac_counts = m_when_ac_counts[m_when_ac_counts['choice'] != 'nan']\n",
        "\n",
        "# Calculate the percentage values\n",
        "m_when_ac_counts['percentage'] = m_when_ac_counts['frequency'] / m_when_ac_counts['frequency'].sum() * 100\n",
        "m_when_ac_counts['text'] = m_when_ac_counts.apply(lambda x: f\"{x['frequency']} ({x['percentage']:.1f}%)\", axis=1)\n",
        "\n",
        "fig = px.bar(m_when_ac_counts, x='frequency', y='choice', orientation='h',\n",
        "             color='frequency', color_continuous_scale='bluered',labels={'frequency':'ความถี่', 'choice':'ประเภทของหนัง'})\n",
        "fig.update_layout(title='แผนภูมิแท่งแสดงประเภทของหนังที่ช่วยคลายความเครียดให้กับนักศึกษา',\n",
        "    font=dict(size=12, color='black', family='Helvetica'),\n",
        "    xaxis=dict(range=[0, m_when_ac_counts['frequency'].max() + 10],\n",
        "               title_font=dict(size=14, color='black', family='Helvetica')),\n",
        "    yaxis=dict(title_font=dict(size=14, color='black', family='Helvetica'), autorange='reversed'),\n",
        "    margin=dict(l=100, r=50, b=50, t=80),\n",
        "    height=500,\n",
        "    width=700,\n",
        "    showlegend=False,\n",
        "    plot_bgcolor='white',\n",
        "    title_font=dict(size=20, color='black', family='Helvetica'),\n",
        ")\n",
        "\n",
        "# Add the frequency and percentage values beside the bars\n",
        "fig.update_traces(text=m_when_ac_counts['text'], textposition='outside')\n",
        "fig.update_layout(title_x=0.5)\n",
        "fig.show()\n"
      ]
    },
    {
      "cell_type": "markdown",
      "metadata": {
        "id": "fMWqHtnVA_tc"
      },
      "source": [
        "##แผนภูมิวงกลมแสดงสัดส่วนของช่องทางการรับชมหนังของนักศึกษาเมื่อมีความเครียด"
      ]
    },
    {
      "cell_type": "code",
      "execution_count": null,
      "metadata": {
        "id": "p6mvaMRWDOg3"
      },
      "outputs": [],
      "source": [
        "# compute value counts\n",
        "platform_counts = dfm['m_platform'].value_counts()\n",
        "\n",
        "# add labels that were not selected\n",
        "platform_counts['โรงภาพยนตร์'] = 0\n",
        "platform_counts['ดีวีดี/บลูเรย์'] = 0\n",
        "platform_counts['โทรทัศน์'] = 0\n",
        "\n",
        "# create pie chart\n",
        "fig = px.pie(platform_counts,\n",
        "             values='m_platform',\n",
        "             names=platform_counts.index,\n",
        "             color_discrete_sequence=pc.qualitative.Dark2)\n",
        "\n",
        "# update layout\n",
        "fig.update_layout(\n",
        "    title={\n",
        "        'text': 'แผนภูมิวงกลมแสดงสัดส่วนของช่องทางการรับชมหนังของนักศึกษาเมื่อมีความเครียด',\n",
        "        'y': 0.95,\n",
        "        'x': 0.5,\n",
        "        'xanchor': 'center',\n",
        "        'yanchor': 'top',\n",
        "        'font': {'size': 20}\n",
        "    },\n",
        "    legend={\n",
        "        'x': 0.85,\n",
        "        'y': 0.99,\n",
        "        'font': {'size': 12},\n",
        "        'bordercolor': 'gray',\n",
        "        'borderwidth': 1,\n",
        "        'bgcolor': 'white'\n",
        "    },\n",
        "    showlegend=True,\n",
        ")\n",
        "\n",
        "# add labels to the pie chart\n",
        "fig.update_traces(textposition='inside', textinfo='percent+label')\n",
        "# update the size of the plot\n",
        "fig.update_layout(width=800, height=500)\n",
        "# show the plot\n",
        "fig.show()\n"
      ]
    },
    {
      "cell_type": "markdown",
      "metadata": {
        "id": "qizYAqvXEaCd"
      },
      "source": [
        "##แผนภูมิวงกลมแสดงสัดส่วนว่านักศึกษาใช้เงินไปกับการดูหนังเป็นกิจกรรมคลายเครียดเดือนละเท่าไหร่"
      ]
    },
    {
      "cell_type": "code",
      "execution_count": null,
      "metadata": {
        "id": "gfFraP17CSa1"
      },
      "outputs": [],
      "source": [
        "grouped_dfm = df['m_money'].value_counts()\n",
        "\n",
        "fig = px.pie(values=grouped_dfm, names=grouped_dfm.index)\n",
        "fig.update_traces(pull=[0.02]*len(grouped_dfm), textinfo='percent+value',marker=dict(colors=px.colors.qualitative.Plotly))\n",
        "fig.update_layout(title='แผนภูมิวงกลมแสดงสัดส่วนว่านักศึกษาใช้เงินไปกับการดูหนังเป็นกิจกรรมคลายเครียดเดือนละเท่าไหร่',\n",
        "                  plot_bgcolor='white',\n",
        "                  height=400,\n",
        "                  width=700,\n",
        "                  font=dict(size=12, color='black', family='Helvetica'),\n",
        "                  title_font=dict(size=16, color='black', family='Helvetica'),\n",
        "                  showlegend=True)\n",
        "fig.show()\n"
      ]
    },
    {
      "cell_type": "markdown",
      "metadata": {
        "id": "_P-MaoVeE3vl"
      },
      "source": [
        "##แผนภูมิแท่งแสดงคะแนนความพอใจในการเข้าใช้บริการดูหนังของห้องสมุดป๋วยของนักศึกษา"
      ]
    },
    {
      "cell_type": "code",
      "execution_count": null,
      "metadata": {
        "id": "qTCSv5M-43zJ"
      },
      "outputs": [],
      "source": [
        "m_when_ac_counts = dfm['m_satisfy'].str.split(',', expand=True).stack().value_counts()\n",
        "order = ['ไม่เคยใช้บริการ','พอใจอย่างยิ่ง', 'พอใจ', 'ปานกลาง', 'ไม่พอใจ']\n",
        "\n",
        "# Select the labels and order them\n",
        "m_when_ac_counts = m_when_ac_counts.loc[order]\n",
        "m_when_ac_counts.loc['ไม่พอใจอย่างยิ่ง'] = 0\n",
        "colors = ['#3E92CC', '#69B2DB', '#8EC6E8', '#B3DAF5', '#D8EEFC']\n",
        "# Reverse the order of the series\n",
        "m_when_ac_counts = m_when_ac_counts.iloc[::-1]\n",
        "# Create the horizontal bar chart\n",
        "fig, ax = plt.subplots(figsize=(8, 5))\n",
        "ax.barh(m_when_ac_counts.index, m_when_ac_counts.values, color='darkblue')\n",
        "for s in ['top','right']:\n",
        "    ax.spines[s].set_visible(False)\n",
        "# Set the chart title and axis labels\n",
        "ax.grid(axis='x', linestyle='--', alpha=0.5)\n",
        "ax.set_title('แผนภูมิแท่งแสดงคะแนนความพอใจในการเข้าใช้บริการดูหนังของห้องสมุดป๋วยของนักศึกษา', fontsize=16, fontweight='bold')\n",
        "ax.set_xlabel('จำนวน(คน)', fontweight='bold')\n",
        "ax.set_ylabel('ระดับความพึงพอใจ', fontweight='bold')\n",
        "\n",
        "# Add value labels to the chart\n",
        "for i, value in enumerate(m_when_ac_counts.values):\n",
        "    ax.text(value, i, f' {value} ({value/sum(m_when_ac_counts.values)*100:.2f}%)', ha='left', va='center')\n",
        "ax.set_axisbelow(True)\n",
        "#plt.savefig('m_satisfy.png', dpi=300)\n",
        "# Display the chart\n",
        "plt.show()\n",
        "\n"
      ]
    },
    {
      "cell_type": "markdown",
      "metadata": {
        "id": "xNy-arbJF-G2"
      },
      "source": [
        "##แผนภูมิแท่งแสดงถึงแพลตฟอร์มสตรีมมิ่งออนไลน์ที่นักศึกษาต้องการให้มหาวิทยาลัยให้บริการดูฟรี"
      ]
    },
    {
      "cell_type": "code",
      "execution_count": null,
      "metadata": {
        "id": "jgGWCaFbYeAG"
      },
      "outputs": [],
      "source": [
        "data = df['m_streaming'].str.split(',', expand=True).stack().value_counts()\n",
        "\n",
        "# Plot\n",
        "color_map = ['#f5f5f1' for _ in range(10)]\n",
        "color_map[0] =  '#b20710' # color highlight\n",
        "fig, ax = plt.subplots(1,1, figsize=(8, 4))\n",
        "ax.bar(data.index, data, width=0.5,\n",
        "       edgecolor='darkgray',\n",
        "       linewidth=0.9,color=color_map)\n",
        "\n",
        "# Add percentage text on top of bars\n",
        "for i, v in enumerate(data):\n",
        "    ax.text(i, v+0.2 , f'{v/sum(data)*100:.1f}%',\n",
        "            fontsize=12, ha='center', fontweight='bold',va='center')\n",
        "\n",
        "# Remove border from plot\n",
        "for s in ['top','right']:\n",
        "    ax.spines[s].set_visible(False)\n",
        "\n",
        "# Tick labels\n",
        "ax.set_xticklabels(data.index, fontfamily='serif', rotation=0)\n",
        "ax.set_xlabel('สตรีมมิ่ง',fontsize=14, fontweight='bold')\n",
        "ax.set_ylabel('จำนวน(คน)',fontsize=14, fontweight='bold')\n",
        "# Title and sub-title\n",
        "fig.text(0.5, 0.93, 'แผนภูมิแท่งแสดงถึงแพลตฟอร์มสตรีมมิ่งออนไลน์ที่นักศึกษาต้องการให้มหาวิทยาลัยให้บริการดูฟรี', fontsize=17, fontweight='bold', ha='center')\n",
        "\n",
        "ax.grid(axis='y', linestyle='--', alpha=0.4)\n",
        "ax.set_axisbelow(True)\n",
        "\n",
        "# thicken the bottom line if you want to\n",
        "plt.axhline(y = 0, color = 'black', linewidth = 1, alpha = 1)\n",
        "\n",
        "ax.tick_params(axis='both', which='major', labelsize=12)\n",
        "ax.tick_params(axis=u'both', which=u'both',length=0)\n",
        "#plt.savefig('m_streaming.png', dpi=1200)\n",
        "plt.show()\n"
      ]
    },
    {
      "cell_type": "markdown",
      "metadata": {
        "id": "JEk1Tb-uF99F"
      },
      "source": [
        "##แผนภูมิแท่งแสดงว่าการมีเพื่อนดูหนังสามารถเป็นกิจกรรมทางสังคมที่ช่วยลดความเครียดของนักศึกษาได้มากน้อยเพียงใด"
      ]
    },
    {
      "cell_type": "code",
      "execution_count": null,
      "metadata": {
        "id": "PLLbRR1S1XQ3"
      },
      "outputs": [],
      "source": [
        "m_when_ac_counts = dfm['m_friend'].str.split(',', expand=True).stack().value_counts()\n",
        "order = ['เห็นด้วยอย่างยิ่ง','เห็นด้วย','ปานกลาง','ไม่เห็นด้วย']\n",
        "\n",
        "# Select the labels and order them\n",
        "m_when_ac_counts = m_when_ac_counts.loc[order]\n",
        "m_when_ac_counts.loc['ไม่เห็นด้วยอย่างยิ่ง'] = 0\n",
        "colors = ['#3E92CC', '#69B2DB', '#8EC6E8', '#B3DAF5', '#D8EEFC']\n",
        "# Reverse the order of the series\n",
        "m_when_ac_counts = m_when_ac_counts.iloc[::-1]\n",
        "# Create the horizontal bar chart\n",
        "fig, ax = plt.subplots(figsize=(8, 5))\n",
        "ax.barh(m_when_ac_counts.index, m_when_ac_counts.values, color='darkblue')\n",
        "for s in ['top','right']:\n",
        "    ax.spines[s].set_visible(False)\n",
        "# Set the chart title and axis labels\n",
        "ax.grid(axis='x', linestyle='--', alpha=0.5)\n",
        "ax.set_title('แผนภูมิแท่งแสดงว่าการมีเพื่อนดูหนังสามารถเป็นกิจกรรมทางสังคมที่ช่วยลดความเครียดของนักศึกษาได้มากน้อยเพียงใด', fontsize=16, fontweight='bold')\n",
        "ax.set_xlabel('จำนวน(คน)', fontweight='bold')\n",
        "ax.set_ylabel('ระดับความคิดเห็น', fontweight='bold')\n",
        "\n",
        "# Add value labels to the chart\n",
        "for i, value in enumerate(m_when_ac_counts.values):\n",
        "    ax.text(value, i, f' {value} ({value/sum(m_when_ac_counts.values)*100:.2f}%)', ha='left', va='center')\n",
        "ax.set_axisbelow(True)\n",
        "#plt.savefig('m_friend.png', dpi=300)\n",
        "# Display the chart\n",
        "plt.show()\n",
        "\n"
      ]
    },
    {
      "cell_type": "markdown",
      "metadata": {
        "id": "C4OkiTvhHefv"
      },
      "source": [
        "##แผนภูมิวงกลมแสดงสัดส่วนของความถี่ที่นักศึกษาต้องการให้จัดงานดูหนังกลางแปลงภายในมหาวิทยาลัย"
      ]
    },
    {
      "cell_type": "code",
      "execution_count": null,
      "metadata": {
        "id": "S5kN-xqV1nfI"
      },
      "outputs": [],
      "source": [
        "grouped_dfm = df['m_fre_ac'].value_counts()\n",
        "\n",
        "fig = px.pie(values=grouped_dfm, names=grouped_dfm.index)\n",
        "fig.update_traces(pull=[0.02]*len(grouped_dfm), textinfo='percent+value',marker=dict(colors=px.colors.qualitative.Plotly))\n",
        "fig.update_layout(title='แผนภูมิวงกลมแสดงสัดส่วนของความถี่ที่นักศึกษาต้องการให้จัดงานดูหนังกลางแปลงภายในมหาวิทยาลัย',\n",
        "                  plot_bgcolor='white',\n",
        "                  height=500,\n",
        "                  width=900,\n",
        "                  font=dict(size=13, color='black', family='Helvetica'),\n",
        "                  title_font=dict(size=20, color='black', family='Helvetica'),\n",
        "                  showlegend=True)\n",
        "\n",
        "fig.show()\n"
      ]
    },
    {
      "cell_type": "markdown",
      "metadata": {
        "id": "snmzsdtcmRWz"
      },
      "source": [
        "##แผนภูมิโดนัทแสดงสัดส่วนของช่วงเวลาที่นักศึกษาต้องการให้จัดงานดูหนังกลางแปลงภายในมหาวิทยาลัย"
      ]
    },
    {
      "cell_type": "code",
      "execution_count": null,
      "metadata": {
        "id": "i6BdNVuc1qXd"
      },
      "outputs": [],
      "source": [
        "# Split the choices and count the frequency\n",
        "m_when_ac_counts = df['m_when_ac'].str.split(',', expand=True).stack().value_counts()\n",
        "\n",
        "# Filter the counts to include only the four choices\n",
        "m_when_ac_counts = m_when_ac_counts.filter(['ก่อนสอบ', 'ช่วงสอบ', 'หลังสอบ', 'เทศกาลสำคัญ'])\n",
        "\n",
        "# Create a donut chart with Plotly Express\n",
        "fig = px.pie(values=m_when_ac_counts.values, names=m_when_ac_counts.index, hole=0.4)\n",
        "\n",
        "# Define colors for each slice\n",
        "colors = ['cornflowerblue', 'tomato', 'lightgreen', 'tomato']\n",
        "\n",
        "# Add color and pull to each slice\n",
        "fig.update_traces(\n",
        "    marker=dict(colors=colors),\n",
        "    pull= 0.015\n",
        ")\n",
        "\n",
        "fig.update_layout(\n",
        "    title='แผนภูมิโดนัทแสดงสัดส่วนของช่วงเวลาที่นักศึกษาต้องการให้จัดงานดูหนังกลางแปลงภายในมหาวิทยาลัย',\n",
        "    font=dict(size=16),plot_bgcolor='white',\n",
        "    title_font=dict(size=22, color='black', family='Helvetica'),\n",
        "                  height=800,\n",
        "                  width=1000)\n",
        "\n",
        "# Add labels to each slice\n",
        "fig.update_traces(textinfo='label+percent')\n",
        "fig.update_layout(title_x=0.5)\n",
        "fig.show()\n"
      ]
    },
    {
      "cell_type": "markdown",
      "metadata": {
        "id": "O2xSX804JjUq"
      },
      "source": [
        "##Word Cloud แสดงเหตุผลที่ไม่อยากให้มีการจัดงานดูหนังกลางแปลง"
      ]
    },
    {
      "cell_type": "code",
      "execution_count": null,
      "metadata": {
        "colab": {
          "base_uri": "https://localhost:8080/",
          "height": 317
        },
        "id": "x736QT1W1r4Q",
        "outputId": "b0d54af0-b0c4-45df-e34c-2e13ee6363d9"
      },
      "outputs": [
        {
          "output_type": "display_data",
          "data": {
            "text/plain": [
              "<Figure size 640x480 with 1 Axes>"
            ],
            "image/png": "[encoded data removed]"
          },
          "metadata": {}
        }
      ],
      "source": [
        "from wordcloud import WordCloud\n",
        "import matplotlib.pyplot as plt\n",
        "\n",
        "# Define the text to be visualized\n",
        "text = \"mosquito, 'privacy\"\n",
        "\n",
        "# Create a word cloud object and generate the word cloud\n",
        "wordcloud = WordCloud(width=800, height=400, background_color='white', colormap='Dark2').generate(text)\n",
        "# Create a title with a colored rectangle behind it\n",
        "title = 'Word Cloud แสดงเหตุผลที่ไม่อยากให้มีการจัดงานดูหนังกลางแปลง'\n",
        "title_box = dict(boxstyle='round', facecolor='#47D1D1', alpha=0.5)\n",
        "plt.text(0.5, 1.08, title, size=16, ha='center', va='center', transform=plt.gca().transAxes, bbox=title_box)\n",
        "# Display the word cloud using matplotlib\n",
        "plt.imshow(wordcloud, interpolation='bilinear')\n",
        "plt.axis('off')\n",
        "plt.savefig('m_whynot_ac.png', dpi=300)\n",
        "plt.show()\n"
      ]
    },
    {
      "cell_type": "markdown",
      "metadata": {
        "id": "tgMZTEh7Yahh"
      },
      "source": [
        "#GAME"
      ]
    },
    {
      "cell_type": "code",
      "execution_count": null,
      "metadata": {
        "id": "EmW8jE-asxV9"
      },
      "outputs": [],
      "source": [
        "dfg = df[df['category'] == 'เกม']"
      ]
    },
    {
      "cell_type": "markdown",
      "metadata": {
        "id": "jwzb0u2Rnrv_"
      },
      "source": [
        "##แผนภูมิวงกลมแสดงจำนวนนักศึกษาที่เลือกเกมเพื่อคลายความเครียดจำแนกตามเพศ"
      ]
    },
    {
      "cell_type": "code",
      "execution_count": null,
      "metadata": {
        "id": "_GM4X7O7yUZr"
      },
      "outputs": [],
      "source": [
        "import plotly.express as px\n",
        "grouped_dfg = df.groupby('gender')['category'].apply(lambda x: (x == 'เกม').sum())\n",
        "print('รวม : ',grouped_dfg.sum())\n",
        "print(grouped_dfg.sort_values(ascending=False))\n",
        "# import plotly.express as px\n",
        "fig = px.pie(values=grouped_dfg, names=grouped_dfg.index)\n",
        "fig.update_traces(pull=[0.02]*len(grouped_dfg), textinfo='percent+value',marker=dict(colors=px.colors.qualitative.Plotly))\n",
        "fig.update_layout(title='แผนภูมิวงกลมแสดงจำนวนนักศึกษาที่เลือกเกมเพื่อคลายความเครียดจำแนกตามเพศ',\n",
        "                  plot_bgcolor='white',\n",
        "                  height=500,\n",
        "                  width=900,\n",
        "                  font=dict(size=13, color='black', family='Helvetica'),\n",
        "                  title_font=dict(size=20, color='black', family='Helvetica'),\n",
        "                  showlegend=True)\n",
        "\n",
        "fig.show()\n"
      ]
    },
    {
      "cell_type": "markdown",
      "metadata": {
        "id": "0TiPyTTQ92tP"
      },
      "source": [
        "## แผนภูมิแท่งแสดงเหตุผลที่นักศึกษาอยากใช้เกมในการคลายความเครียด"
      ]
    },
    {
      "cell_type": "code",
      "execution_count": null,
      "metadata": {
        "id": "awKmQv7LsSar"
      },
      "outputs": [],
      "source": [
        "# Group the responses by  category and count the number of responses\n",
        "dfg = df[df['category'] == 'เกม']\n",
        "g_ac_counts = dfg['g_choose'].str.split(', ', expand=True).stack().value_counts()\n",
        "g_ac_counts = g_ac_counts.rename(index = {'เครียดในเกมเเทนเครียดในจริง แต่พอหยุด ก็ต้องยอมรับว่าต้องเผชิญความเครียดไปตามลำพังอยู่ดี' : 'อื่นๆ'})\n",
        "print(g_ac_counts)\n",
        "fig = px.bar(x=g_ac_counts.values, y=g_ac_counts.index, orientation='h')\n",
        "\n",
        "fig.update_layout(\n",
        "    xaxis_title='ความถี่',\n",
        "    yaxis_title='ตัวเลือก',\n",
        "    title={\n",
        "        'text': 'แผนภูมิแท่งแสดงเหตุผลที่นักศึกษาอยากใช้เกมในการคลายความเครียด',\n",
        "        'y':0.97,\n",
        "        'x':0.5,\n",
        "        'xanchor': 'center',\n",
        "        'yanchor': 'top',\n",
        "        'font': dict(size=24, color='black', family='Helvetica')\n",
        "    }\n",
        "\n",
        ")\n",
        "fig.update_traces(text=(g_ac_counts.values / grouped_dfg.sum()* 100).round(2), textposition='inside')\n",
        "fig.update_traces(texttemplate='%{text}%', textposition='inside')\n",
        "fig.show()\n",
        "\n"
      ]
    },
    {
      "cell_type": "markdown",
      "metadata": {
        "id": "r1fgmDT2-GIY"
      },
      "source": [
        "## แผนภูมิโดนัทแสดงสัดส่วนของนักศึกษาที่เล่นเกมประเภทเกมต่างๆในแต่ละแพลตฟอร์มเพื่อคลายความเครียด\n",
        "\n",
        "\n",
        "\n",
        "\n"
      ]
    },
    {
      "cell_type": "code",
      "execution_count": null,
      "metadata": {
        "id": "HYdUOPFq0oT5"
      },
      "outputs": [],
      "source": [
        "dfg_type = dfg.groupby(['g_type'])[['category']].count()\n",
        "dfg_type = dfg_type.rename(index = {'เกมต่อสู้กันระหว่าง (Moba)' : 'เกมต่อสู้ระหว่างกัน (Moba)'})\n",
        "dfg_type = dfg_type.rename(index = {'เกมปริศนาไข (Puzzle games)' : 'เกมไขปริศนา (Puzzle games)'})\n",
        "# plot\n",
        "fig = plt.figure(figsize=(10,8))\n",
        "col = ['#FF8F7F','#DC493F','#006EBC','#01A6BA','#75C095','#8A49A1','#009688','#FFDD63','#FFF889']\n",
        "\n",
        "a = plt.pie(dfg_type['category'], labels = dfg_type.index ,colors = col, autopct='%1.2f%%',\n",
        "        wedgeprops = {'linewidth': 2.0, 'edgecolor': 'white'}, radius=1, pctdistance = 0.8)\n",
        "\n",
        "b = plt.pie([50], colors = 'w', radius=0.7)\n",
        "\n",
        "dfg_platform = dfg.groupby(['g_type','g_platform'])[['category']].count()\n",
        "dfg_platform2 = dfg.groupby(['g_platform'])[['category']].count()\n",
        "dfg_platform2 = dfg_platform2.sort_values(by='category', ascending=False)\n",
        "dfg_platform2 = dfg_platform2.rename(index = {'เกมปริศนาไข (Puzzle games)' : 'เกมไขปริศนา (Puzzle games)'})\n",
        "# plot\n",
        "cols = ['#FFDD63','#FFF889']\n",
        "c = plt.pie(dfg_platform['category'], colors = cols, autopct='%1.2f%%',\n",
        "        wedgeprops = {'linewidth': 1.5, 'edgecolor': 'white'}, radius=0.65, pctdistance = 0.6)\n",
        "\n",
        "plt.title('แผนภูมิโดนัทแสดงสัดส่วนของนักศึกษาที่เล่นเกมประเภทเกมต่างๆในแต่ละแพลตฟอร์มเพื่อคลายความเครียด',fontsize=22)\n",
        "\n",
        "legend = []\n",
        "for i,j in zip(dfg_type.index,dfg_type['category']):\n",
        "  lg = '{} : {} คน'.format(i,j)\n",
        "  legend.append(lg)\n",
        "\n",
        "legendp=[]\n",
        "legendp.append(\"\")\n",
        "\n",
        "\n",
        "legend_platform = []\n",
        "for i,j in zip(dfg_platform2.index,dfg_platform2['category']):\n",
        "  lg2 = '{} : {} คน'.format(i,j)\n",
        "  legend_platform.append(lg2)\n",
        "\n",
        "# เพิ่ม Legend 2 อันเข้ากับกราฟ\n",
        "plt.gca().add_artist(plt.legend(legend+legendp+legend_platform,bbox_to_anchor=(0.14, 1.01), fontsize = 10))\n",
        "plt.savefig('dfg_type_platform.png', dpi=1200)\n",
        "plt.show()"
      ]
    },
    {
      "cell_type": "markdown",
      "metadata": {
        "id": "o9wB9Gb6W3cI"
      },
      "source": [
        "## แผนภูมิแท่งแสดงความถี่ในการเล่นเกมของนักศึกษาในหนึ่งสัปดาห์โดยแยกตามเพศ"
      ]
    },
    {
      "cell_type": "code",
      "execution_count": null,
      "metadata": {
        "id": "-QvyzpBy-WFi"
      },
      "outputs": [],
      "source": [
        "# Group the data by g_type and gender, and count the number of occurrences for each combination\n",
        "grouped_df_week_gender = df.groupby(['gender', 'g_fre_week'])['category'].count().unstack()\n",
        "\n",
        "\n",
        "grouped_df_week_gender.fillna(0, inplace=True)\n",
        "# Create the line chart\n",
        "col = ['#04a8f6','#033978','#ba68c8','#ffca28']\n",
        "\n",
        "fig, ax = plt.subplots(figsize=(15, 5))\n",
        "grouped_df_week_gender.plot(kind='bar', ax=ax,color=col)\n",
        "\n",
        "\n",
        "# Set the chart title and axis labels\n",
        "ax.set_title('แผนภูมิแท่งแสดงความถี่ในการเล่นเกมของนักศึกษาในหนึ่งสัปดาห์โดยแยกตามเพศ', fontsize=22)\n",
        "ax.grid(axis='y', linestyle='--', alpha=0.4)\n",
        "ax.set_ylabel('จำนวน(คน)', fontsize=14)\n",
        "ax.set_xlabel('เพศ', fontsize=14)\n",
        "ax.set_xticklabels(ax.get_xticklabels(), rotation=0,fontsize=14)\n",
        "ax.legend(title=\"ความถี่ต่อสัปดาห์\")\n",
        "for p in ax.patches:\n",
        "    ax.annotate(f'{int(p.get_height())},({p.get_height()/grouped_df_week_gender.sum().sum() * 100:.1f}%)', (p.get_x() + p.get_width() / 2., p.get_height()),\n",
        "                ha='center', va='bottom',fontsize=10)\n",
        "# Display the chart\n",
        "ax.set_axisbelow(True)\n",
        "plt.savefig('grouped_df_week_gender.png', dpi=1200)\n",
        "plt.show()"
      ]
    },
    {
      "cell_type": "markdown",
      "metadata": {
        "id": "xp_P2EfZ-QRU"
      },
      "source": [
        "## แผนภูมิแท่งแสดงความถี่ในการจัดกิจกรรมเกี่ยวกับเกมของมหาวิทยาลัยต่อหนึ่งภาคการศึกษา"
      ]
    },
    {
      "cell_type": "code",
      "execution_count": null,
      "metadata": {
        "id": "J7_qsLPiCHm3"
      },
      "outputs": [],
      "source": [
        "grouped_df_ac = df.groupby('g_fre_ac/1')['category'].count()\n",
        "order = ['ไม่เคยรู้ว่ามีกิจกรรม','1-2 ครั้ง / เทอม','3-4 ครั้ง / เทอม','มากกว่า 4 ครั้ง / เทอม']\n",
        "\n",
        "grouped_df_ac.loc['3-4 ครั้ง / เทอม'] = 0\n",
        "grouped_df_ac.loc['มากกว่า 4 ครั้ง / เทอม'] = 0\n",
        "grouped_df_ac = grouped_df_ac.loc[order]\n",
        "grouped_df_ac = grouped_df_ac.iloc[::-1]\n",
        "# Create the horizontal bar chart\n",
        "fig, ax = plt.subplots(figsize=(15, 5))\n",
        "ax.barh(grouped_df_ac.index, grouped_df_ac.values, color='orange')\n",
        "\n",
        "# Set the chart title and axis labels\n",
        "for s in ['top','right']:\n",
        "    ax.spines[s].set_visible(False)\n",
        "ax.grid(axis='x', linestyle='--', alpha=0.4)\n",
        "ax.set_title('แผนภูมิแท่งแสดงความถี่ในการจัดกิจกรรมเกี่ยวกับเกมของมหาวิทยาลัยต่อหนึ่งภาคการศึกษา',fontsize=22)\n",
        "ax.set_xlabel('จำนวน(คน)',fontsize=14)\n",
        "ax.set_ylabel('จำนวนครั้งต่อภาคเรียนการศึกษา',fontsize=14)\n",
        "ax.set_yticklabels(grouped_df_ac.index,fontsize=14)\n",
        "for i, value in enumerate(grouped_df_ac.values):\n",
        "    ax.text(value, i, f' {value} ({value/sum(grouped_df_ac.values)*100:.2f}%)', ha='left', va='center')\n",
        "# Display the chart\n",
        "ax.set_axisbelow(True)\n",
        "plt.savefig('grouped_df_ac.png', dpi=1200)\n",
        "plt.show()\n"
      ]
    },
    {
      "cell_type": "markdown",
      "metadata": {
        "id": "wPpManq1-Q7d"
      },
      "source": [
        "## แผนภูมิวงกลมแสดงแพลตฟอร์มที่นักศึกษาใช้เล่นเกม"
      ]
    },
    {
      "cell_type": "code",
      "execution_count": null,
      "metadata": {
        "id": "_gZ_qau7-TPT"
      },
      "outputs": [],
      "source": [
        "grouped_dfg_g = df.groupby('g_platform')['category'].apply(lambda x: (x == 'เกม').sum())\n",
        "print(grouped_dfg_g)\n",
        "fig = px.pie(values=grouped_dfg, names=grouped_dfg.index)\n",
        "fig.update_layout(title='แผนภูมิวงกลมแสดงแพลตฟอร์มที่นักศึกษาใช้เล่นเกม',title_x=0.47)\n",
        "fig.show()\n"
      ]
    },
    {
      "cell_type": "markdown",
      "metadata": {
        "id": "3JAnQUlewyqF"
      },
      "source": [
        "## แผนภูมิแท่งแสดงความถี่ที่นักศึกษาอยากให้มหาวิทยาลัยจัดกิจกรรมเกี่ยวกับเกม\n",
        "\n",
        "\n",
        "\n"
      ]
    },
    {
      "cell_type": "code",
      "execution_count": null,
      "metadata": {
        "id": "vuYDXlmCwx8I"
      },
      "outputs": [],
      "source": [
        "grouped_df_want = df.groupby('g_fre_ac')['category'].count()\n",
        "\n",
        "grouped_df_want.loc['ไม่อยากให้มีกิจกรรม'] = 0\n",
        "order = ['ไม่อยากให้มีกิจกรรม','1-2 ครั้ง / เทอม','3-4 ครั้ง / เทอม','มากกว่า 4 ครั้ง / เทอม']\n",
        "grouped_df_want = grouped_df_want.loc[order]\n",
        "grouped_df_want = grouped_df_want.iloc[::-1]\n",
        "# Create the horizontal bar chart\n",
        "fig, ax = plt.subplots(figsize=(15, 5))\n",
        "ax.barh(grouped_df_want.index, grouped_df_want.values, color='orange')\n",
        "\n",
        "# Set the chart title and axis labels\n",
        "for s in ['top','right']:\n",
        "    ax.spines[s].set_visible(False)\n",
        "ax.grid(axis='x', linestyle='--', alpha=0.4)\n",
        "ax.set_title('แผนภูมิแท่งแสดงความถี่ที่นักศึกษาอยากให้มหาวิทยาลัยจัดกิจกรรมเกี่ยวกับเกม',fontsize=22)\n",
        "ax.set_xlabel('จำนวน(คน)',fontsize=14)\n",
        "ax.set_ylabel('จำนวนครั้งต่อภาคเรียนการศึกษา',fontsize=14)\n",
        "ax.set_yticklabels(grouped_df_want.index,fontsize=14)\n",
        "for i, value in enumerate(grouped_df_want.values):\n",
        "    ax.text(value, i, f' {value} ({value/sum(grouped_df_want.values)*100:.2f}%)', ha='left', va='center')\n",
        "# Display the chart\n",
        "ax.set_axisbelow(True)\n",
        "plt.savefig('grouped_df_want.png', dpi=1200)\n",
        "plt.show()"
      ]
    },
    {
      "cell_type": "markdown",
      "metadata": {
        "id": "LKiAH9Tc-Wki"
      },
      "source": [
        "## แผนภูมิแท่งแสดงกิจกรรมที่นักศึกษาอยากให้มหาวิทยาลัยมีการจัด\n",
        "\n"
      ]
    },
    {
      "cell_type": "code",
      "execution_count": null,
      "metadata": {
        "id": "ite1U2bTwIw8"
      },
      "outputs": [],
      "source": [
        "g_activity_counts = dfg['g_activity'].str.split(', ', expand=True).stack().value_counts().reset_index()\n",
        "g_activity_counts.columns = ['choice', 'frequency']\n",
        "g_activity_counts = g_activity_counts.drop(index = {5})\n",
        "g_activity_counts['choice'] = g_activity_counts['choice'].replace({'มีพื้นที่ชวนกันเล่นเกม เช่น open hat/สถานที่/ชมรม แต่ไม่ใช้คำหยาบคายกัน': 'อื่นๆ'})\n",
        "g_activity_counts['frequency'] = g_activity_counts['frequency'].replace({1: 2})\n",
        "\n",
        "\n",
        "print(g_activity_counts)\n",
        "# Calculate the percentage values\n",
        "g_activity_counts['percentage'] = g_activity_counts['frequency'] / g_activity_counts['frequency'].sum() * 100\n",
        "g_activity_counts['text'] = g_activity_counts.apply(lambda x: f\"{x['frequency']} ({x['percentage']:.1f}%)\", axis=1)\n",
        "\n",
        "fig = px.bar(g_activity_counts, x='frequency', y='choice', orientation='h',\n",
        "             color='frequency', color_continuous_scale='portland',\n",
        "             title='แผนภูมิแท่งแสดงกิจกรรมที่นักศึกษาอยากให้มหาวิทยาลัยมีการจัด',\n",
        "             labels={'frequency':'ความถี่', 'choice':'กิจกรรมที่อยากให้จัดเกี่ยวกับเกม'})\n",
        "fig.update_layout(\n",
        "    font=dict(size=12, color='black', family='Helvetica'),\n",
        "    xaxis=dict(range=[0, g_activity_counts['frequency'].max() + 10],\n",
        "               title_font=dict(size=14, color='black', family='Helvetica')),\n",
        "    yaxis=dict(title_font=dict(size=14, color='black', family='Helvetica'), autorange='reversed'),\n",
        "    margin=dict(l=110, r=60, b=70, t=80),\n",
        "    height=500,\n",
        "    width=1200,\n",
        "    showlegend=False,\n",
        "    plot_bgcolor='white',\n",
        "    title_font=dict(size=22, color='black', family='Helvetica'),\n",
        "    title={\n",
        "        'text': 'แผนภูมิแท่งแสดงกิจกรรมที่นักศึกษาอยากให้มหาวิทยาลัยมีการจัด',\n",
        "        'y':0.97,\n",
        "        'x':0.5,\n",
        "        'xanchor': 'center',\n",
        "        'yanchor': 'top',\n",
        "        'font': dict(size=24, color='black', family='Helvetica')\n",
        "    }\n",
        ")\n",
        "\n",
        "\n",
        "\n",
        "# Add the frequency and percentage values beside the bars\n",
        "fig.update_traces(text=g_activity_counts['text'], textposition='outside')\n"
      ]
    },
    {
      "cell_type": "markdown",
      "metadata": {
        "id": "UQLND-lky33D"
      },
      "source": [
        "##แผนภูมิแท่งแสดงสัดส่วนของช่วงเวลาที่นักศึกษาต้องการให้จัดงานเกี่ยวกับเกมแปลงภายในมหาวิทยาลัย"
      ]
    },
    {
      "cell_type": "code",
      "execution_count": null,
      "metadata": {
        "id": "AfzjwByrzCrz"
      },
      "outputs": [],
      "source": [
        "dfg = df[df['category'] == 'เกม']\n",
        "g_when_ac_counts = dfg['g_when_ac'].str.split(', ', expand=True).stack().value_counts()\n",
        "print(g_when_ac_counts)\n",
        "\n",
        "fig = px.bar(x=g_when_ac_counts.values, y=g_when_ac_counts.index, orientation='h')\n",
        "\n",
        "fig.update_layout(\n",
        "    title='แผนภูมิแท่งแสดงสัดส่วนของช่วงเวลาที่นักศึกษาต้องการให้จัดงานเกี่ยวกับเกมแปลงภายในมหาวิทยาลัย',title_x=0.5,\n",
        "    xaxis_title='ตัวเลือก',\n",
        "    yaxis_title='ความถี่'\n",
        ")\n",
        "fig.update_traces(text=(g_when_ac_counts.values / grouped_dfg.sum()* 100).round(2), textposition='inside')\n",
        "fig.update_traces(texttemplate='%{text}%', textposition='inside')\n",
        "fig.show()"
      ]
    }
  ],
  "metadata": {
    "colab": {
      "collapsed_sections": [
        "C9F_5O0Urbdg",
        "H03ubjMWrULI",
        "zCb4wFV5CwVh",
        "jzBx8x2QAhx9",
        "IWKATjSQBAD0",
        "PbBoi6vKA_0-",
        "fMWqHtnVA_tc",
        "qizYAqvXEaCd",
        "_P-MaoVeE3vl",
        "xNy-arbJF-G2",
        "JEk1Tb-uF99F",
        "C4OkiTvhHefv",
        "snmzsdtcmRWz",
        "O2xSX804JjUq",
        "tgMZTEh7Yahh"
      ],
      "provenance": [],
      "include_colab_link": true
    },
    "kernelspec": {
      "display_name": "Python 3",
      "name": "python3"
    },
    "language_info": {
      "name": "python"
    }
  },
  "nbformat": 4,
  "nbformat_minor": 0
}